{
 "cells": [
  {
   "cell_type": "markdown",
   "metadata": {},
   "source": [
    "###  Created by Luis A. Sanchez-Perez (alejand@umich.edu).\n",
    "<p><span style=\"color:green\"><b>Copyright &#169;</b> Do not distribute or use without authorization from author.</span></p>"
   ]
  },
  {
   "cell_type": "markdown",
   "metadata": {},
   "source": [
    "### Pooling\n",
    "Shows the max pooling operation performed in a pooling layer in a CNN. Visit [this](http://scs.ryerson.ca/~aharley/vis/conv/flat.html) for an interesting example"
   ]
  },
  {
   "cell_type": "code",
   "execution_count": 1,
   "metadata": {},
   "outputs": [],
   "source": [
    "import matplotlib.pyplot as plt\n",
    "import numpy as np\n",
    "import scipy.io as sio\n",
    "import toys"
   ]
  },
  {
   "cell_type": "code",
   "execution_count": 2,
   "metadata": {},
   "outputs": [
    {
     "data": {
      "text/plain": [
       "<matplotlib.image.AxesImage at 0x2c066912408>"
      ]
     },
     "execution_count": 2,
     "metadata": {},
     "output_type": "execute_result"
    },
    {
     "data": {
      "image/png": "[encoded data removed]",
      "text/plain": [
       "<Figure size 288x288 with 1 Axes>"
      ]
     },
     "metadata": {
      "needs_background": "light"
     },
     "output_type": "display_data"
    },
    {
     "data": {
      "image/png": "[encoded data removed]",
      "text/plain": [
       "<Figure size 288x288 with 1 Axes>"
      ]
     },
     "metadata": {
      "needs_background": "light"
     },
     "output_type": "display_data"
    },
    {
     "data": {
      "image/png": "[encoded data removed]",
      "text/plain": [
       "<Figure size 288x288 with 1 Axes>"
      ]
     },
     "metadata": {
      "needs_background": "light"
     },
     "output_type": "display_data"
    }
   ],
   "source": [
    "# Image\n",
    "img = np.array([\n",
    "    [0,0,0,0,0,0,0],\n",
    "    [0,1,0,0,0,1,0],\n",
    "    [0,0,0,0,0,0,0],\n",
    "    [0,0,0,1,0,0,0],\n",
    "    [0,1,0,0,0,1,0],\n",
    "    [0,0,1,1,1,0,0],\n",
    "    [0,0,0,0,0,0,0],\n",
    "])\n",
    "plt.matshow(img,cmap='binary')\n",
    "# Kernel\n",
    "kernel = np.array([\n",
    "    [0,0,1],\n",
    "    [1,0,0],\n",
    "    [0,1,1]    \n",
    "])\n",
    "plt.matshow(kernel,cmap='binary')\n",
    "# Convolve\n",
    "convolved = toys.conv_2d(img,kernel,stride=1)\n",
    "plt.matshow(convolved,cmap='binary')"
   ]
  },
  {
   "cell_type": "code",
   "execution_count": 3,
   "metadata": {},
   "outputs": [
    {
     "name": "stdout",
     "output_type": "stream",
     "text": [
      "[[1. 1. 0. 0. 1. 1. 0.]\n",
      " [0. 0. 1. 0. 0. 0. 1.]\n",
      " [1. 0. 1. 1. 1. 0. 0.]\n",
      " [1. 1. 0. 0. 2. 1. 0.]\n",
      " [0. 1. 4. 2. 1. 0. 1.]\n",
      " [1. 0. 0. 1. 2. 1. 0.]\n",
      " [0. 1. 1. 1. 0. 0. 0.]]\n",
      "\n",
      "[[1. 2.]\n",
      " [4. 2.]]\n"
     ]
    }
   ],
   "source": [
    "# Pooling\n",
    "print(convolved)\n",
    "print()\n",
    "print(toys.max_pooling_2d(convolved,(4,4)))"
   ]
  },
  {
   "cell_type": "code",
   "execution_count": 4,
   "metadata": {},
   "outputs": [
    {
     "data": {
      "text/plain": [
       "<matplotlib.image.AxesImage at 0x2c066a56588>"
      ]
     },
     "execution_count": 4,
     "metadata": {},
     "output_type": "execute_result"
    },
    {
     "data": {
      "image/png": "[encoded data removed]",
      "text/plain": [
       "<Figure size 288x288 with 1 Axes>"
      ]
     },
     "metadata": {
      "needs_background": "light"
     },
     "output_type": "display_data"
    },
    {
     "data": {
      "image/png": "[encoded data removed]",
      "text/plain": [
       "<Figure size 288x288 with 1 Axes>"
      ]
     },
     "metadata": {
      "needs_background": "light"
     },
     "output_type": "display_data"
    }
   ],
   "source": [
    "# Shift image to the left\n",
    "img = np.roll(img, 1)\n",
    "plt.matshow(img, cmap='binary')\n",
    "\n",
    "# Convolve\n",
    "convolved = toys.conv_2d(img, kernel)\n",
    "plt.matshow(convolved, cmap='binary')"
   ]
  },
  {
   "cell_type": "code",
   "execution_count": 5,
   "metadata": {},
   "outputs": [
    {
     "name": "stdout",
     "output_type": "stream",
     "text": [
      "[[0. 1. 1. 0. 0. 1. 1.]\n",
      " [0. 0. 0. 1. 0. 0. 0.]\n",
      " [0. 1. 0. 1. 1. 1. 0.]\n",
      " [0. 1. 1. 0. 0. 2. 1.]\n",
      " [0. 0. 1. 4. 2. 1. 0.]\n",
      " [0. 1. 0. 0. 1. 2. 1.]\n",
      " [0. 0. 1. 1. 1. 0. 0.]]\n",
      "\n",
      "[[1. 2.]\n",
      " [4. 2.]]\n"
     ]
    }
   ],
   "source": [
    "# Pooling\n",
    "print(convolved)\n",
    "print()\n",
    "print(toys.max_pooling_2d(convolved,(4,4)))"
   ]
  },
  {
   "cell_type": "code",
   "execution_count": null,
   "metadata": {},
   "outputs": [],
   "source": []
  }
 ],
 "metadata": {
  "kernelspec": {
   "display_name": "Python 3",
   "language": "python",
   "name": "python3"
  },
  "language_info": {
   "codemirror_mode": {
    "name": "ipython",
    "version": 3
   },
   "file_extension": ".py",
   "mimetype": "text/x-python",
   "name": "python",
   "nbconvert_exporter": "python",
   "pygments_lexer": "ipython3",
   "version": "3.7.6"
  }
 },
 "nbformat": 4,
 "nbformat_minor": 2
}
