{
 "cells": [
  {
   "cell_type": "code",
   "execution_count": 27,
   "metadata": {},
   "outputs": [],
   "source": [
    "import tensorflow as tf\n",
    "import numpy as np"
   ]
  },
  {
   "cell_type": "code",
   "execution_count": 28,
   "metadata": {},
   "outputs": [
    {
     "data": {
      "text/plain": [
       "<tf.Tensor: shape=(10, 2), dtype=int32, numpy=\n",
       "array([[100, 101],\n",
       "       [102, 103],\n",
       "       [104, 105],\n",
       "       [106, 107],\n",
       "       [108, 109],\n",
       "       [110, 111],\n",
       "       [112, 113],\n",
       "       [114, 115],\n",
       "       [116, 117],\n",
       "       [118, 119]])>"
      ]
     },
     "execution_count": 28,
     "metadata": {},
     "output_type": "execute_result"
    }
   ],
   "source": [
    "cells = tf.reshape(100 + tf.range(20), shape=(-1, 2))\n",
    "cells"
   ]
  },
  {
   "cell_type": "code",
   "execution_count": 29,
   "metadata": {},
   "outputs": [
    {
     "data": {
      "text/plain": [
       "<tf.Tensor: shape=(3, 2), dtype=int32, numpy=\n",
       "array([[0, 1],\n",
       "       [2, 3],\n",
       "       [4, 5]])>"
      ]
     },
     "execution_count": 29,
     "metadata": {},
     "output_type": "execute_result"
    }
   ],
   "source": [
    "anchors = tf.reshape(tf.range(6), shape=(3,-1))\n",
    "anchors"
   ]
  },
  {
   "cell_type": "code",
   "execution_count": 30,
   "metadata": {},
   "outputs": [
    {
     "data": {
      "text/plain": [
       "<tf.Tensor: shape=(1, 3, 2), dtype=int32, numpy=\n",
       "array([[[0, 1],\n",
       "        [2, 3],\n",
       "        [4, 5]]])>"
      ]
     },
     "execution_count": 30,
     "metadata": {},
     "output_type": "execute_result"
    }
   ],
   "source": [
    "expanded_anchors = tf.expand_dims(anchors, axis=0)\n",
    "expanded_anchors"
   ]
  },
  {
   "cell_type": "code",
   "execution_count": 31,
   "metadata": {},
   "outputs": [
    {
     "data": {
      "text/plain": [
       "<tf.Tensor: shape=(10, 1, 2), dtype=int32, numpy=\n",
       "array([[[100, 101]],\n",
       "\n",
       "       [[102, 103]],\n",
       "\n",
       "       [[104, 105]],\n",
       "\n",
       "       [[106, 107]],\n",
       "\n",
       "       [[108, 109]],\n",
       "\n",
       "       [[110, 111]],\n",
       "\n",
       "       [[112, 113]],\n",
       "\n",
       "       [[114, 115]],\n",
       "\n",
       "       [[116, 117]],\n",
       "\n",
       "       [[118, 119]]])>"
      ]
     },
     "execution_count": 31,
     "metadata": {},
     "output_type": "execute_result"
    }
   ],
   "source": [
    "expanded_cells = tf.expand_dims(cells, axis=1)\n",
    "expanded_cells"
   ]
  },
  {
   "cell_type": "code",
   "execution_count": 32,
   "metadata": {},
   "outputs": [
    {
     "data": {
      "text/plain": [
       "<tf.Tensor: shape=(3,), dtype=int32, numpy=array([10,  3,  2])>"
      ]
     },
     "execution_count": 32,
     "metadata": {},
     "output_type": "execute_result"
    }
   ],
   "source": [
    "shape = tf.broadcast_dynamic_shape(tf.shape(expanded_anchors), tf.shape(expanded_cells))\n",
    "shape"
   ]
  },
  {
   "cell_type": "code",
   "execution_count": 33,
   "metadata": {},
   "outputs": [
    {
     "data": {
      "text/plain": [
       "<tf.Tensor: shape=(10, 3, 2), dtype=float32, numpy=\n",
       "array([[[0., 1.],\n",
       "        [2., 3.],\n",
       "        [4., 5.]],\n",
       "\n",
       "       [[0., 1.],\n",
       "        [2., 3.],\n",
       "        [4., 5.]],\n",
       "\n",
       "       [[0., 1.],\n",
       "        [2., 3.],\n",
       "        [4., 5.]],\n",
       "\n",
       "       [[0., 1.],\n",
       "        [2., 3.],\n",
       "        [4., 5.]],\n",
       "\n",
       "       [[0., 1.],\n",
       "        [2., 3.],\n",
       "        [4., 5.]],\n",
       "\n",
       "       [[0., 1.],\n",
       "        [2., 3.],\n",
       "        [4., 5.]],\n",
       "\n",
       "       [[0., 1.],\n",
       "        [2., 3.],\n",
       "        [4., 5.]],\n",
       "\n",
       "       [[0., 1.],\n",
       "        [2., 3.],\n",
       "        [4., 5.]],\n",
       "\n",
       "       [[0., 1.],\n",
       "        [2., 3.],\n",
       "        [4., 5.]],\n",
       "\n",
       "       [[0., 1.],\n",
       "        [2., 3.],\n",
       "        [4., 5.]]], dtype=float32)>"
      ]
     },
     "execution_count": 33,
     "metadata": {},
     "output_type": "execute_result"
    }
   ],
   "source": [
    "dimensions = tf.cast(tf.broadcast_to(expanded_anchors, shape=shape), dtype=tf.float32)\n",
    "dimensions"
   ]
  },
  {
   "cell_type": "code",
   "execution_count": 34,
   "metadata": {},
   "outputs": [],
   "source": [
    "locations = tf.cast(tf.broadcast_to(expanded_cells, shape=shape), dtype=tf.float32)\n",
    "locations = (locations + 0.5) / 7 - dimensions / 2"
   ]
  },
  {
   "cell_type": "code",
   "execution_count": 35,
   "metadata": {},
   "outputs": [
    {
     "data": {
      "text/plain": [
       "<tf.Tensor: shape=(10, 3, 4), dtype=float32, numpy=\n",
       "array([[[14.357142, 14.      ,  0.      ,  1.      ],\n",
       "        [13.357142, 13.      ,  2.      ,  3.      ],\n",
       "        [12.357142, 12.      ,  4.      ,  5.      ]],\n",
       "\n",
       "       [[14.642858, 14.285714,  0.      ,  1.      ],\n",
       "        [13.642858, 13.285714,  2.      ,  3.      ],\n",
       "        [12.642858, 12.285714,  4.      ,  5.      ]],\n",
       "\n",
       "       [[14.928572, 14.571428,  0.      ,  1.      ],\n",
       "        [13.928572, 13.571428,  2.      ,  3.      ],\n",
       "        [12.928572, 12.571428,  4.      ,  5.      ]],\n",
       "\n",
       "       [[15.214286, 14.857142,  0.      ,  1.      ],\n",
       "        [14.214286, 13.857142,  2.      ,  3.      ],\n",
       "        [13.214286, 12.857142,  4.      ,  5.      ]],\n",
       "\n",
       "       [[15.5     , 15.142858,  0.      ,  1.      ],\n",
       "        [14.5     , 14.142858,  2.      ,  3.      ],\n",
       "        [13.5     , 13.142858,  4.      ,  5.      ]],\n",
       "\n",
       "       [[15.785714, 15.428572,  0.      ,  1.      ],\n",
       "        [14.785714, 14.428572,  2.      ,  3.      ],\n",
       "        [13.785714, 13.428572,  4.      ,  5.      ]],\n",
       "\n",
       "       [[16.071428, 15.714285,  0.      ,  1.      ],\n",
       "        [15.071428, 14.714285,  2.      ,  3.      ],\n",
       "        [14.071428, 13.714285,  4.      ,  5.      ]],\n",
       "\n",
       "       [[16.357143, 16.      ,  0.      ,  1.      ],\n",
       "        [15.357143, 15.      ,  2.      ,  3.      ],\n",
       "        [14.357143, 14.      ,  4.      ,  5.      ]],\n",
       "\n",
       "       [[16.642857, 16.285715,  0.      ,  1.      ],\n",
       "        [15.642857, 15.285715,  2.      ,  3.      ],\n",
       "        [14.642857, 14.285715,  4.      ,  5.      ]],\n",
       "\n",
       "       [[16.928572, 16.571428,  0.      ,  1.      ],\n",
       "        [15.928572, 15.571428,  2.      ,  3.      ],\n",
       "        [14.928572, 14.571428,  4.      ,  5.      ]]], dtype=float32)>"
      ]
     },
     "execution_count": 35,
     "metadata": {},
     "output_type": "execute_result"
    }
   ],
   "source": [
    "tf.concat((locations, dimensions), axis=2)"
   ]
  },
  {
   "cell_type": "code",
   "execution_count": null,
   "metadata": {},
   "outputs": [],
   "source": []
  }
 ],
 "metadata": {
  "kernelspec": {
   "display_name": "Python 3",
   "language": "python",
   "name": "python3"
  },
  "language_info": {
   "codemirror_mode": {
    "name": "ipython",
    "version": 3
   },
   "file_extension": ".py",
   "mimetype": "text/x-python",
   "name": "python",
   "nbconvert_exporter": "python",
   "pygments_lexer": "ipython3",
   "version": "3.7.7"
  }
 },
 "nbformat": 4,
 "nbformat_minor": 4
}
