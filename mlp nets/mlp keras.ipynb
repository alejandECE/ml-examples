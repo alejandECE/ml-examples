{
 "cells": [
  {
   "cell_type": "markdown",
   "metadata": {},
   "source": [
    "###  Created by Luis Alejandro (alejand@umich.edu)\n",
    "Builds an MLP classifier using borh sklearn and keras (tensorflow backend) implementations"
   ]
  },
  {
   "cell_type": "markdown",
   "metadata": {},
   "source": [
    "### Libraries"
   ]
  },
  {
   "cell_type": "code",
   "execution_count": 1,
   "metadata": {},
   "outputs": [],
   "source": [
    "from sklearn.neural_network import MLPClassifier\n",
    "from sklearn.metrics import accuracy_score\n",
    "from sklearn.metrics import f1_score\n",
    "from sklearn.metrics import recall_score\n",
    "from sklearn.metrics import precision_score\n",
    "from sklearn.preprocessing import LabelEncoder, OneHotEncoder\n",
    "from sklearn.compose import ColumnTransformer\n",
    "from sklearn.preprocessing import StandardScaler\n",
    "from sklearn.model_selection import train_test_split\n",
    "\n",
    "import numpy as np\n",
    "import pandas as pd\n",
    "import time\n",
    "\n",
    "from tensorflow.keras import regularizers\n",
    "from tensorflow.keras.models import Sequential\n",
    "from tensorflow.keras.layers import Dense\n",
    "from tensorflow.keras.layers import Dropout"
   ]
  },
  {
   "cell_type": "markdown",
   "metadata": {},
   "source": [
    "### General use functions"
   ]
  },
  {
   "cell_type": "code",
   "execution_count": 2,
   "metadata": {},
   "outputs": [],
   "source": [
    "def compute_metrics(mdl,X,y):\n",
    "    threshold = 0.5\n",
    "    y_pred = mdl.predict(X)\n",
    "    y_pred[y_pred >= threshold] = 1\n",
    "    y_pred[y_pred < threshold] = 0\n",
    "    print('Accuracy: ', '%.2f'  % accuracy_score(y, y_pred))\n",
    "    print('F1 Score: ', '%.2f'  % f1_score(y, y_pred, average='macro'))\n",
    "    print('Recall: ', '%.2f'  % recall_score(y, y_pred, average='macro'))\n",
    "    print('Precision: ', '%.2f'  % precision_score(y, y_pred, average='macro'))    "
   ]
  },
  {
   "cell_type": "markdown",
   "metadata": {},
   "source": [
    "### Loads a prepares dataset"
   ]
  },
  {
   "cell_type": "code",
   "execution_count": 3,
   "metadata": {},
   "outputs": [],
   "source": [
    "# Loads dataset from file\n",
    "dataset = pd.read_csv('../../datasets/classification/bank_exiting.csv')\n",
    "X = dataset.iloc[:,3:-1].values\n",
    "y = dataset.iloc[:,-1].values\n",
    "# Encoding categorical data\n",
    "encoder_x1 = LabelEncoder()\n",
    "X[:,1] = encoder_x1.fit_transform(X[:,1]) # only 0 or 1 after this (just one column needed)\n",
    "encoder_x2 = LabelEncoder()\n",
    "X[:,2] = encoder_x2.fit_transform(X[:,2]) # more than two possible values (need to encode this using onehotencoder)\n",
    "ct = ColumnTransformer([('country_category', OneHotEncoder(categories='auto'),[1])], remainder='passthrough')\n",
    "X = ct.fit_transform(X)\n",
    "X = X[:,1:]\n",
    "# Splits dataset into training/test sets\n",
    "X_train,X_test,y_train,y_test = train_test_split(X, y, test_size = 0.3, random_state = 0)\n",
    "# Feature scaling\n",
    "sc = StandardScaler()\n",
    "X_train = sc.fit_transform(X_train)\n",
    "X_test = sc.transform(X_test)"
   ]
  },
  {
   "cell_type": "markdown",
   "metadata": {},
   "source": [
    "### Trains a MLP classifier using sklearn implementation"
   ]
  },
  {
   "cell_type": "code",
   "execution_count": 4,
   "metadata": {
    "scrolled": false
   },
   "outputs": [
    {
     "name": "stdout",
     "output_type": "stream",
     "text": [
      "Training size:  (7000, 11)\n",
      "Test size:  (3000, 11)\n",
      "\n",
      "Time training:  2.5937190999999995  sec\n",
      "# of iterations:  503\n",
      "\n",
      "Training Metrics: \n",
      "Accuracy:  0.88\n",
      "F1 Score:  0.79\n",
      "Recall:  0.76\n",
      "Precision:  0.84\n",
      "\n",
      "Test Metrics: \n",
      "Accuracy:  0.86\n",
      "F1 Score:  0.76\n",
      "Recall:  0.73\n",
      "Precision:  0.79\n"
     ]
    }
   ],
   "source": [
    "print('Training size: ', X_train.shape)\n",
    "print('Test size: ', X_test.shape)\n",
    "start = time.perf_counter()\n",
    "regularization = 1\n",
    "mdl = MLPClassifier(solver = 'lbfgs',hidden_layer_sizes=(20,6,), activation='logistic',max_iter=1000,alpha=regularization)\n",
    "mdl.fit(X_train,y_train)\n",
    "end = time.perf_counter()\n",
    "print('\\nTime training: ', end - start, ' sec')\n",
    "print('# of iterations: ', mdl.n_iter_ - 1)\n",
    "print('\\nTraining Metrics: ')\n",
    "compute_metrics(mdl,X_train,y_train)\n",
    "print('\\nTest Metrics: ')\n",
    "compute_metrics(mdl,X_test,y_test)"
   ]
  },
  {
   "cell_type": "markdown",
   "metadata": {},
   "source": [
    "### Trains a MLP classifier using Keras and tensorflow"
   ]
  },
  {
   "cell_type": "code",
   "execution_count": 5,
   "metadata": {},
   "outputs": [],
   "source": [
    "start = time.perf_counter()\n",
    "regularization = 0\n",
    "mdl = Sequential()\n",
    "mdl.add(Dense(20, activation='sigmoid', input_dim=X_train.shape[1], kernel_regularizer=regularizers.l2(regularization)))\n",
    "#mdl.add(Dropout(rate=0.1))\n",
    "mdl.add(Dense(6, activation='sigmoid', kernel_regularizer=regularizers.l2(regularization)))\n",
    "#mdl.add(Dropout(rate=0.1))\n",
    "mdl.add(Dense(1, activation='sigmoid'))\n",
    "mdl.compile(optimizer='adam', loss='binary_crossentropy')\n",
    "history = mdl.fit(X_train, y_train, batch_size = None, epochs = 100, verbose=0)\n",
    "end = time.perf_counter()"
   ]
  },
  {
   "cell_type": "code",
   "execution_count": 6,
   "metadata": {},
   "outputs": [
    {
     "name": "stdout",
     "output_type": "stream",
     "text": [
      "\n",
      "Time training:  19.6379069  sec\n",
      "# of iterations:  100\n",
      "\n",
      "Training Metrics: \n",
      "Accuracy:  0.87\n",
      "F1 Score:  0.75\n",
      "Recall:  0.72\n",
      "Precision:  0.83\n",
      "\n",
      "Test Metrics: \n",
      "Accuracy:  0.86\n",
      "F1 Score:  0.76\n",
      "Recall:  0.73\n",
      "Precision:  0.81\n"
     ]
    }
   ],
   "source": [
    "print('\\nTime training: ', end - start, ' sec')\n",
    "print('# of iterations: ', history.epoch[-1] + 1)\n",
    "print('\\nTraining Metrics: ')\n",
    "compute_metrics(mdl,X_train,y_train)\n",
    "print('\\nTest Metrics: ')\n",
    "compute_metrics(mdl,X_test,y_test)"
   ]
  },
  {
   "cell_type": "code",
   "execution_count": null,
   "metadata": {},
   "outputs": [],
   "source": []
  }
 ],
 "metadata": {
  "kernelspec": {
   "display_name": "Python [conda env:tf2-cpu]",
   "language": "python",
   "name": "conda-env-tf2-cpu-py"
  },
  "language_info": {
   "codemirror_mode": {
    "name": "ipython",
    "version": 3
   },
   "file_extension": ".py",
   "mimetype": "text/x-python",
   "name": "python",
   "nbconvert_exporter": "python",
   "pygments_lexer": "ipython3",
   "version": "3.7.6"
  }
 },
 "nbformat": 4,
 "nbformat_minor": 2
}
