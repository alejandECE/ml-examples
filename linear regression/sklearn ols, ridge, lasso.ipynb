{
 "cells": [
  {
   "cell_type": "code",
   "execution_count": 1,
   "metadata": {},
   "outputs": [],
   "source": [
    "import numpy as np\n",
    "import numpy.linalg as alg\n",
    "import pandas as pd\n",
    "from sklearn.linear_model import LinearRegression\n",
    "from sklearn.linear_model import Ridge\n",
    "from sklearn.linear_model import Lasso\n",
    "from sklearn.preprocessing import StandardScaler\n",
    "from sklearn.preprocessing import PolynomialFeatures\n",
    "from sklearn.model_selection import train_test_split\n",
    "from sklearn.metrics import r2_score"
   ]
  },
  {
   "cell_type": "code",
   "execution_count": 2,
   "metadata": {},
   "outputs": [
    {
     "data": {
      "text/html": [
       "<div>\n",
       "<style scoped>\n",
       "    .dataframe tbody tr th:only-of-type {\n",
       "        vertical-align: middle;\n",
       "    }\n",
       "\n",
       "    .dataframe tbody tr th {\n",
       "        vertical-align: top;\n",
       "    }\n",
       "\n",
       "    .dataframe thead th {\n",
       "        text-align: right;\n",
       "    }\n",
       "</style>\n",
       "<table border=\"1\" class=\"dataframe\">\n",
       "  <thead>\n",
       "    <tr style=\"text-align: right;\">\n",
       "      <th></th>\n",
       "      <th>amplitude</th>\n",
       "      <th>pct100-90</th>\n",
       "      <th>pct90-70</th>\n",
       "      <th>pct70-50</th>\n",
       "      <th>unconstrained</th>\n",
       "      <th>constrained</th>\n",
       "      <th>freq</th>\n",
       "      <th>fuzzy score</th>\n",
       "      <th>expert score</th>\n",
       "      <th>limb</th>\n",
       "    </tr>\n",
       "  </thead>\n",
       "  <tbody>\n",
       "    <tr>\n",
       "      <th>0</th>\n",
       "      <td>0.6931</td>\n",
       "      <td>1.2570</td>\n",
       "      <td>4.7486</td>\n",
       "      <td>21.5084</td>\n",
       "      <td>0.8542</td>\n",
       "      <td>0.5706</td>\n",
       "      <td>5.5047</td>\n",
       "      <td>0.776057</td>\n",
       "      <td>1</td>\n",
       "      <td>RUE</td>\n",
       "    </tr>\n",
       "    <tr>\n",
       "      <th>1</th>\n",
       "      <td>0.1140</td>\n",
       "      <td>4.7393</td>\n",
       "      <td>3.7915</td>\n",
       "      <td>9.4787</td>\n",
       "      <td>0.0385</td>\n",
       "      <td>0.1895</td>\n",
       "      <td>6.3016</td>\n",
       "      <td>0.146397</td>\n",
       "      <td>0</td>\n",
       "      <td>LUE</td>\n",
       "    </tr>\n",
       "    <tr>\n",
       "      <th>2</th>\n",
       "      <td>0.0000</td>\n",
       "      <td>0.0000</td>\n",
       "      <td>0.0000</td>\n",
       "      <td>0.0000</td>\n",
       "      <td>0.0003</td>\n",
       "      <td>0.0049</td>\n",
       "      <td>6.6038</td>\n",
       "      <td>0.000501</td>\n",
       "      <td>0</td>\n",
       "      <td>RLE</td>\n",
       "    </tr>\n",
       "    <tr>\n",
       "      <th>3</th>\n",
       "      <td>0.0000</td>\n",
       "      <td>0.0000</td>\n",
       "      <td>0.0000</td>\n",
       "      <td>0.0000</td>\n",
       "      <td>0.0007</td>\n",
       "      <td>0.0059</td>\n",
       "      <td>6.9767</td>\n",
       "      <td>0.000501</td>\n",
       "      <td>0</td>\n",
       "      <td>LLE</td>\n",
       "    </tr>\n",
       "    <tr>\n",
       "      <th>4</th>\n",
       "      <td>0.0678</td>\n",
       "      <td>1.1076</td>\n",
       "      <td>5.0633</td>\n",
       "      <td>10.7595</td>\n",
       "      <td>0.5125</td>\n",
       "      <td>0.5402</td>\n",
       "      <td>6.1854</td>\n",
       "      <td>0.092817</td>\n",
       "      <td>0</td>\n",
       "      <td>RUE</td>\n",
       "    </tr>\n",
       "  </tbody>\n",
       "</table>\n",
       "</div>"
      ],
      "text/plain": [
       "   amplitude  pct100-90  pct90-70  pct70-50  unconstrained  constrained  \\\n",
       "0     0.6931     1.2570    4.7486   21.5084         0.8542       0.5706   \n",
       "1     0.1140     4.7393    3.7915    9.4787         0.0385       0.1895   \n",
       "2     0.0000     0.0000    0.0000    0.0000         0.0003       0.0049   \n",
       "3     0.0000     0.0000    0.0000    0.0000         0.0007       0.0059   \n",
       "4     0.0678     1.1076    5.0633   10.7595         0.5125       0.5402   \n",
       "\n",
       "     freq  fuzzy score  expert score limb  \n",
       "0  5.5047     0.776057             1  RUE  \n",
       "1  6.3016     0.146397             0  LUE  \n",
       "2  6.6038     0.000501             0  RLE  \n",
       "3  6.9767     0.000501             0  LLE  \n",
       "4  6.1854     0.092817             0  RUE  "
      ]
     },
     "execution_count": 2,
     "metadata": {},
     "output_type": "execute_result"
    }
   ],
   "source": [
    "dataset = pd.read_csv('../../datasets/others/tremors/tremors.csv')\n",
    "dataset = dataset.dropna()\n",
    "dataset.head()"
   ]
  },
  {
   "cell_type": "code",
   "execution_count": 3,
   "metadata": {},
   "outputs": [],
   "source": [
    "X = dataset.iloc[:,:-3].values\n",
    "y = dataset['fuzzy score'].values"
   ]
  },
  {
   "cell_type": "code",
   "execution_count": 4,
   "metadata": {},
   "outputs": [],
   "source": [
    "# Polynomial features\n",
    "degree = 3\n",
    "poly = PolynomialFeatures(degree,include_bias=False)\n",
    "X = poly.fit_transform(X)"
   ]
  },
  {
   "cell_type": "code",
   "execution_count": 5,
   "metadata": {},
   "outputs": [],
   "source": [
    "# Training and test sets\n",
    "X_train,X_test,y_train,y_test = train_test_split(X,y)"
   ]
  },
  {
   "cell_type": "code",
   "execution_count": 6,
   "metadata": {},
   "outputs": [],
   "source": [
    "# Standarizing\n",
    "sc = StandardScaler()\n",
    "sc.fit(X_train)\n",
    "X_train = sc.transform(X_train)\n",
    "X_test = sc.transform(X_test)"
   ]
  },
  {
   "cell_type": "code",
   "execution_count": 7,
   "metadata": {},
   "outputs": [
    {
     "name": "stdout",
     "output_type": "stream",
     "text": [
      "R2 Training: 0.9952252126445329\n",
      "R2 Test: 0.8430759339855475\n",
      "Norm of weight vector: 12.307237943956133\n",
      "Weights equal to zero: 0 out of 119\n"
     ]
    }
   ],
   "source": [
    "# OLS\n",
    "mdl = LinearRegression()\n",
    "mdl.fit(X_train,y_train)\n",
    "y_pred = mdl.predict(X_train)\n",
    "r2 = r2_score(y_train,y_pred)\n",
    "print('R2 Training:',r2)\n",
    "y_pred = mdl.predict(X_test)\n",
    "r2 = r2_score(y_test,y_pred)\n",
    "print('R2 Test:',r2)\n",
    "print('Norm of weight vector:',alg.norm(mdl.coef_))\n",
    "print('Weights equal to zero:',(mdl.coef_ == 0).sum(),'out of', len(mdl.coef_))"
   ]
  },
  {
   "cell_type": "code",
   "execution_count": 8,
   "metadata": {},
   "outputs": [
    {
     "name": "stdout",
     "output_type": "stream",
     "text": [
      "R2 Training: 0.9921844274473981\n",
      "R2 Test: 0.9850301405351373\n",
      "Norm of weight vector: 0.9663849001413645\n",
      "Weights equal to zero: 0 out of 119\n"
     ]
    }
   ],
   "source": [
    "# Ridge\n",
    "regularization = 0.5\n",
    "mdl = Ridge(alpha=regularization)\n",
    "mdl.fit(X_train,y_train)\n",
    "y_pred = mdl.predict(X_train)\n",
    "r2 = r2_score(y_train,y_pred)\n",
    "print('R2 Training:',r2)\n",
    "y_pred = mdl.predict(X_test)\n",
    "r2 = r2_score(y_test,y_pred)\n",
    "print('R2 Test:',r2)\n",
    "print('Norm of weight vector:',alg.norm(mdl.coef_))\n",
    "print('Weights equal to zero:',(mdl.coef_ == 0).sum(),'out of', len(mdl.coef_))"
   ]
  },
  {
   "cell_type": "code",
   "execution_count": 9,
   "metadata": {},
   "outputs": [
    {
     "name": "stdout",
     "output_type": "stream",
     "text": [
      "R2 Training: 0.9892281119373388\n",
      "R2 Test: 0.9876265908297076\n",
      "Norm of weight vector: 1.0396587115525482\n",
      "Weights equal to zero: 95 out of 119\n"
     ]
    }
   ],
   "source": [
    "# Lasso\n",
    "regularization = 0.001\n",
    "mdl = Lasso(alpha=regularization,max_iter=2000)\n",
    "mdl.fit(X_train,y_train)\n",
    "y_pred = mdl.predict(X_train)\n",
    "r2 = r2_score(y_train,y_pred)\n",
    "print('R2 Training:',r2)\n",
    "y_pred = mdl.predict(X_test)\n",
    "r2 = r2_score(y_test,y_pred)\n",
    "print('R2 Test:',r2)\n",
    "print('Norm of weight vector:',alg.norm(mdl.coef_))\n",
    "print('Weights equal to zero:',(mdl.coef_ == 0).sum(),'out of', len(mdl.coef_))"
   ]
  },
  {
   "cell_type": "code",
   "execution_count": null,
   "metadata": {},
   "outputs": [],
   "source": []
  }
 ],
 "metadata": {
  "kernelspec": {
   "display_name": "Python 3",
   "language": "python",
   "name": "python3"
  },
  "language_info": {
   "codemirror_mode": {
    "name": "ipython",
    "version": 3
   },
   "file_extension": ".py",
   "mimetype": "text/x-python",
   "name": "python",
   "nbconvert_exporter": "python",
   "pygments_lexer": "ipython3",
   "version": "3.7.6"
  }
 },
 "nbformat": 4,
 "nbformat_minor": 2
}
