{
 "cells": [
  {
   "cell_type": "markdown",
   "metadata": {},
   "source": [
    "###  Created by Luis A. Sanchez-Perez (alejand@umich.edu)"
   ]
  },
  {
   "cell_type": "code",
   "execution_count": 1,
   "metadata": {
    "colab": {},
    "colab_type": "code",
    "id": "OnqzfZIH1XSo"
   },
   "outputs": [],
   "source": [
    "import numpy as np\n",
    "import numpy.random as rnd\n",
    "import numpy.linalg as alg\n",
    "import matplotlib.pyplot as plt\n",
    "from sklearn.preprocessing import PolynomialFeatures\n",
    "from sklearn.preprocessing import StandardScaler"
   ]
  },
  {
   "cell_type": "code",
   "execution_count": 2,
   "metadata": {
    "colab": {},
    "colab_type": "code",
    "id": "-Z3036PS1XSr",
    "outputId": "28c72850-c52e-4892-afc8-df2362a978f6"
   },
   "outputs": [],
   "source": [
    "# Generates sampled data with noise\n",
    "rnd.seed(10)\n",
    "m = 20\n",
    "x = np.linspace(0,20,m).reshape((m,1))\n",
    "poly = PolynomialFeatures(degree = 2)\n",
    "X = poly.fit_transform(x)\n",
    "sigma = 2\n",
    "wreal = [-1.5, 1/9]\n",
    "y = X[:,1:3].dot(wreal) + rnd.normal(0,sigma,m)"
   ]
  },
  {
   "cell_type": "code",
   "execution_count": 3,
   "metadata": {
    "colab": {},
    "colab_type": "code",
    "id": "z6wfHDdp1XSv"
   },
   "outputs": [],
   "source": [
    "# Generates dataset using polynomial features\n",
    "d = 14\n",
    "poly = PolynomialFeatures(degree = d)\n",
    "X = poly.fit_transform(x)\n",
    "scaler = StandardScaler()\n",
    "X[:,1:] = scaler.fit_transform(X[:,1:])"
   ]
  },
  {
   "cell_type": "code",
   "execution_count": 4,
   "metadata": {},
   "outputs": [],
   "source": [
    "# Generates mesh\n",
    "pts = 100\n",
    "x = np.linspace(0,20,pts).reshape((pts,1))\n",
    "mesh = poly.fit_transform(x)\n",
    "mesh[:,1:] = scaler.transform(mesh[:,1:])"
   ]
  },
  {
   "cell_type": "markdown",
   "metadata": {},
   "source": [
    "### MLE Estimation (Least Squares)"
   ]
  },
  {
   "cell_type": "code",
   "execution_count": 5,
   "metadata": {
    "colab": {},
    "colab_type": "code",
    "id": "X5V8lxth1XSx",
    "outputId": "b080af42-6373-4280-fb6a-c37317230867"
   },
   "outputs": [
    {
     "name": "stdout",
     "output_type": "stream",
     "text": [
      "[ 4.42117320e-01  8.49647977e+01 -4.35143311e+03  5.93840890e+04\n",
      " -4.14145012e+05  1.72751234e+06 -4.59984802e+06  7.88127341e+06\n",
      " -7.94728908e+06  2.22824925e+06  6.06670596e+06 -1.01447152e+07\n",
      "  7.71060856e+06 -3.08965077e+06  5.26200810e+05]\n",
      "[ 4.42117320e-01  3.31634694e+02 -1.57302763e+04  2.53583089e+05\n",
      " -2.13465088e+06  1.07299017e+07 -3.36078012e+07  6.33408921e+07\n",
      " -5.45129938e+07 -4.26592243e+07  1.87581227e+08 -2.52129564e+08\n",
      "  1.82906465e+08 -7.17266543e+07  1.19742227e+07]\n",
      "[ 4.42117320e-01  3.31634694e+02 -1.57302763e+04  2.53583089e+05\n",
      " -2.13465088e+06  1.07299017e+07 -3.36078012e+07  6.33408921e+07\n",
      " -5.45129938e+07 -4.26592243e+07  1.87581227e+08 -2.52129564e+08\n",
      "  1.82906465e+08 -7.17266543e+07  1.19742227e+07]\n"
     ]
    },
    {
     "data": {
      "text/plain": [
       "0.8134893845637191"
      ]
     },
     "execution_count": 5,
     "metadata": {},
     "output_type": "execute_result"
    }
   ],
   "source": [
    "# MLE estimation\n",
    "wmle = alg.inv(X.T.dot(X)).dot(X.T).dot(y)\n",
    "print(wmle)\n",
    "wmle = alg.pinv(X).dot(y)\n",
    "print(wmle)\n",
    "wmle = alg.lstsq(X,y,rcond=None)[0]\n",
    "print(wmle)\n",
    "# Best estimate of uncertainty (sqrt of empirical variance of residual errors)\n",
    "sigma = np.sqrt(((y - (X.dot(wmle)))**2).sum() / m)\n",
    "sigma"
   ]
  },
  {
   "cell_type": "code",
   "execution_count": 6,
   "metadata": {
    "colab": {},
    "colab_type": "code",
    "id": "2KkH4YXN1XSz",
    "outputId": "2f37b0e6-88d5-44f0-9333-0220f0f6a9b5"
   },
   "outputs": [
    {
     "data": {
      "text/plain": [
       "<matplotlib.legend.Legend at 0x1edcb595488>"
      ]
     },
     "execution_count": 6,
     "metadata": {},
     "output_type": "execute_result"
    },
    {
     "data": {
      "image/png": "[encoded data removed]",
      "text/plain": [
       "<Figure size 432x288 with 1 Axes>"
      ]
     },
     "metadata": {
      "needs_background": "light"
     },
     "output_type": "display_data"
    }
   ],
   "source": [
    "# Plotting results\n",
    "y_pred =  mesh.dot(wmle)\n",
    "temp = scaler.inverse_transform(mesh[:,1:])\n",
    "plt.plot(temp[:,0],y_pred,'k-', linewidth = 2, label = 'Estimation')\n",
    "plt.plot(temp[:,0],y_pred + sigma,'k:', linewidth = 2, label = 'Estimation +/- sigma')\n",
    "plt.plot(temp[:,0],y_pred - sigma,'k:', linewidth = 2)\n",
    "temp = scaler.inverse_transform(X[:,1:])\n",
    "plt.plot(temp[:,0],y,'b.', linewidth = 2, label = 'Training Set', markersize = 12)\n",
    "plt.grid()\n",
    "plt.legend()"
   ]
  },
  {
   "cell_type": "markdown",
   "metadata": {},
   "source": [
    "### MAP Estimation (Ridge Regression)"
   ]
  },
  {
   "cell_type": "code",
   "execution_count": 7,
   "metadata": {
    "colab": {},
    "colab_type": "code",
    "id": "9vA2hvqD1XS1",
    "outputId": "0a4530d1-7125-4f02-ddda-7ada47c41d8b",
    "scrolled": true
   },
   "outputs": [
    {
     "name": "stdout",
     "output_type": "stream",
     "text": [
      "[ 0.44211732 -5.97865333  5.59751973  4.10261587  1.8540525   0.48883971\n",
      " -0.07230602 -0.14855392 -0.01296049  0.14819343  0.22229879  0.14948602\n",
      " -0.09515879 -0.51458664 -1.09869941]\n",
      "[  0.44211732 -11.52000176  17.84737639   4.51736848  -3.58492739\n",
      "  -5.4968745   -3.86116043  -0.82044506   2.19507751   4.31070597\n",
      "   5.04686402   4.19276121   1.71347352  -2.31596151  -7.75615693]\n",
      "[  0.44211732 -11.52000176  17.84737639   4.51736848  -3.58492739\n",
      "  -5.4968745   -3.86116043  -0.82044506   2.19507751   4.31070597\n",
      "   5.04686402   4.19276121   1.71347352  -2.31596151  -7.75615693]\n"
     ]
    },
    {
     "data": {
      "text/plain": [
       "1.5051746765557084"
      ]
     },
     "execution_count": 7,
     "metadata": {},
     "output_type": "execute_result"
    }
   ],
   "source": [
    "# MAP estimation\n",
    "regularization = 0.1\n",
    "diagonal = np.diag(np.concatenate(([0], regularization * np.ones(d))))\n",
    "XX = np.concatenate((X, diagonal))\n",
    "yy = np.concatenate((y, np.zeros(d + 1)))\n",
    "wmap = alg.inv(X.T.dot(X) + diagonal).dot(X.T).dot(y)\n",
    "print(wmap)\n",
    "wmap = alg.pinv(XX).dot(yy)\n",
    "print(wmap)\n",
    "wmap = alg.lstsq(XX,yy,rcond=None)[0]\n",
    "print(wmap)\n",
    "sigma = np.sqrt(((y - X.dot(wmap))**2).sum() / m)\n",
    "sigma"
   ]
  },
  {
   "cell_type": "code",
   "execution_count": 8,
   "metadata": {},
   "outputs": [
    {
     "name": "stdout",
     "output_type": "stream",
     "text": [
      "0.442117320399454\n",
      "[-5.97865333  5.59751973  4.10261587  1.8540525   0.48883971 -0.07230602\n",
      " -0.14855392 -0.01296049  0.14819343  0.22229879  0.14948602 -0.09515879\n",
      " -0.51458664 -1.09869941]\n"
     ]
    }
   ],
   "source": [
    "# Ridge regression and centering data\n",
    "w0 = y.mean()\n",
    "print(w0)\n",
    "diagonal = np.diag(regularization * np.ones(d))\n",
    "w = alg.inv(X[:,1:].T.dot(X[:,1:]) + diagonal).dot(X[:,1:].T).dot(y)\n",
    "print(w)"
   ]
  },
  {
   "cell_type": "code",
   "execution_count": 9,
   "metadata": {
    "colab": {},
    "colab_type": "code",
    "id": "RMFug9SC1XS2",
    "outputId": "aaec4423-8c33-4e24-949d-8a6ef7414ef1"
   },
   "outputs": [
    {
     "data": {
      "text/plain": [
       "<matplotlib.legend.Legend at 0x1edcb687a48>"
      ]
     },
     "execution_count": 9,
     "metadata": {},
     "output_type": "execute_result"
    },
    {
     "data": {
      "image/png": "[encoded data removed]",
      "text/plain": [
       "<Figure size 432x288 with 1 Axes>"
      ]
     },
     "metadata": {
      "needs_background": "light"
     },
     "output_type": "display_data"
    }
   ],
   "source": [
    "y_pred =  mesh.dot(wmap)\n",
    "temp = scaler.inverse_transform(mesh[:,1:])\n",
    "plt.plot(temp[:,0],y_pred,'k-', linewidth = 2, label = 'Estimation')\n",
    "plt.plot(temp[:,0],y_pred + sigma,'k:', linewidth = 2, label = 'Estimation +/- sigma')\n",
    "plt.plot(temp[:,0],y_pred - sigma,'k:', linewidth = 2)\n",
    "temp = scaler.inverse_transform(X[:,1:])\n",
    "plt.plot(temp[:,0],y,'b.', linewidth = 2, label = 'Training Set', markersize = 12)\n",
    "plt.grid()\n",
    "plt.legend()"
   ]
  },
  {
   "cell_type": "code",
   "execution_count": null,
   "metadata": {},
   "outputs": [],
   "source": []
  }
 ],
 "metadata": {
  "colab": {
   "name": "ols_map1.ipynb",
   "provenance": []
  },
  "kernelspec": {
   "display_name": "Python 3",
   "language": "python",
   "name": "python3"
  },
  "language_info": {
   "codemirror_mode": {
    "name": "ipython",
    "version": 3
   },
   "file_extension": ".py",
   "mimetype": "text/x-python",
   "name": "python",
   "nbconvert_exporter": "python",
   "pygments_lexer": "ipython3",
   "version": "3.7.6"
  }
 },
 "nbformat": 4,
 "nbformat_minor": 1
}
