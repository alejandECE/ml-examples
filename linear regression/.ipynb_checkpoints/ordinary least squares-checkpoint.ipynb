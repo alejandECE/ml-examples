{
 "cells": [
  {
   "cell_type": "markdown",
   "metadata": {},
   "source": [
    "###  Created by Luis A. Sanchez-Perez (alejand@umich.edu)"
   ]
  },
  {
   "cell_type": "code",
   "execution_count": 1,
   "metadata": {
    "colab": {},
    "colab_type": "code",
    "id": "Lo2J9EiI1O-i"
   },
   "outputs": [],
   "source": [
    "import numpy as np\n",
    "import numpy.random as rnd\n",
    "import numpy.linalg as alg\n",
    "import matplotlib.pyplot as plt\n",
    "from sklearn.preprocessing import PolynomialFeatures\n",
    "from sklearn.preprocessing import StandardScaler"
   ]
  },
  {
   "cell_type": "code",
   "execution_count": 2,
   "metadata": {
    "colab": {
     "base_uri": "https://localhost:8080/",
     "height": 353
    },
    "colab_type": "code",
    "executionInfo": {
     "elapsed": 711,
     "status": "ok",
     "timestamp": 1569541846518,
     "user": {
      "displayName": "Luis Alejandro",
      "photoUrl": "https://lh3.googleusercontent.com/a-/AAuE7mA1yZgHpM9bZHwykvV5ODJgG8h7dgfUJvTWv8U=s64",
      "userId": "09746992577461281318"
     },
     "user_tz": 240
    },
    "id": "d2EYPgRj1O-m",
    "outputId": "af32489b-2c90-4352-a1e7-21490fcff9ee"
   },
   "outputs": [
    {
     "data": {
      "text/plain": [
       "<matplotlib.legend.Legend at 0x1bb7247f548>"
      ]
     },
     "execution_count": 2,
     "metadata": {},
     "output_type": "execute_result"
    },
    {
     "data": {
      "image/png": "[encoded data removed]",
      "text/plain": [
       "<Figure size 432x288 with 1 Axes>"
      ]
     },
     "metadata": {
      "needs_background": "light"
     },
     "output_type": "display_data"
    }
   ],
   "source": [
    "# Generates data\n",
    "rnd.seed(10)\n",
    "m = 20\n",
    "wreal = np.array([1, 1])\n",
    "x = rnd.normal(0,2,(m,1))\n",
    "poly = PolynomialFeatures(1)\n",
    "X = poly.fit_transform(x)\n",
    "sigma = 1\n",
    "err = rnd.normal(0,sigma,m)\n",
    "y = X.dot(wreal) + err\n",
    "plt.plot(X[:,1],y,'bo', markersize = 6, label = 'Samples with error')\n",
    "plt.xlabel('x')\n",
    "plt.ylabel('y')\n",
    "plt.legend()"
   ]
  },
  {
   "cell_type": "code",
   "execution_count": 3,
   "metadata": {
    "colab": {},
    "colab_type": "code",
    "id": "x_DN8d6573o5"
   },
   "outputs": [],
   "source": [
    "# Preprocessing\n",
    "degree = 1\n",
    "poly = PolynomialFeatures(degree)\n",
    "X = poly.fit_transform(x)\n",
    "scaler = StandardScaler()\n",
    "X[:,1:] = scaler.fit_transform(X[:,1:])"
   ]
  },
  {
   "cell_type": "code",
   "execution_count": 4,
   "metadata": {
    "colab": {
     "base_uri": "https://localhost:8080/",
     "height": 356
    },
    "colab_type": "code",
    "executionInfo": {
     "elapsed": 698,
     "status": "ok",
     "timestamp": 1569541846520,
     "user": {
      "displayName": "Luis Alejandro",
      "photoUrl": "https://lh3.googleusercontent.com/a-/AAuE7mA1yZgHpM9bZHwykvV5ODJgG8h7dgfUJvTWv8U=s64",
      "userId": "09746992577461281318"
     },
     "user_tz": 240
    },
    "id": "u5taZwG11O-q",
    "outputId": "096eb161-17d5-4309-cb07-e98135914f5b",
    "scrolled": false
   },
   "outputs": [
    {
     "name": "stdout",
     "output_type": "stream",
     "text": [
      "[1.46223191 1.42362926]\n",
      "[1.46223191 1.42362926]\n",
      "[1.46223191 1.42362926]\n"
     ]
    }
   ],
   "source": [
    "# MLE estimation\n",
    "wmle = alg.inv(X.T.dot(X)).dot(X.T).dot(y)\n",
    "print(wmle)\n",
    "wmle = alg.lstsq(X,y,rcond=None)[0]\n",
    "print(wmle)\n",
    "wmle = alg.pinv(X).dot(y)\n",
    "print(wmle)"
   ]
  },
  {
   "cell_type": "code",
   "execution_count": 5,
   "metadata": {},
   "outputs": [
    {
     "name": "stdout",
     "output_type": "stream",
     "text": [
      "[1.42362926]\n",
      "1.4622319091146385\n"
     ]
    }
   ],
   "source": [
    "# OLS (MLE) and centering data\n",
    "w = alg.pinv(X[:,1:]).dot(y)\n",
    "print(w)\n",
    "w0 = y.mean() - X[:,1:].mean(axis=0).dot(w) # average output - average predictive output\n",
    "print(w0)"
   ]
  },
  {
   "cell_type": "code",
   "execution_count": 6,
   "metadata": {
    "colab": {
     "base_uri": "https://localhost:8080/",
     "height": 317
    },
    "colab_type": "code",
    "executionInfo": {
     "elapsed": 979,
     "status": "ok",
     "timestamp": 1569541846808,
     "user": {
      "displayName": "Luis Alejandro",
      "photoUrl": "https://lh3.googleusercontent.com/a-/AAuE7mA1yZgHpM9bZHwykvV5ODJgG8h7dgfUJvTWv8U=s64",
      "userId": "09746992577461281318"
     },
     "user_tz": 240
    },
    "id": "WNVU5W8x1O-s",
    "outputId": "334320c7-7a04-406b-db14-b1a92f841151",
    "scrolled": true
   },
   "outputs": [
    {
     "data": {
      "text/plain": [
       "<matplotlib.legend.Legend at 0x1bb72995108>"
      ]
     },
     "execution_count": 6,
     "metadata": {},
     "output_type": "execute_result"
    },
    {
     "data": {
      "image/png": "[encoded data removed]",
      "text/plain": [
       "<Figure size 432x288 with 1 Axes>"
      ]
     },
     "metadata": {
      "needs_background": "light"
     },
     "output_type": "display_data"
    }
   ],
   "source": [
    "# Plotting results\n",
    "pts = 200\n",
    "x = np.linspace(min(x),max(x),pts).reshape(pts,1)\n",
    "poly = PolynomialFeatures(1)\n",
    "mesh = poly.fit_transform(x)\n",
    "f = mesh.dot(wreal)\n",
    "plt.plot(mesh[:,1],f,'b:', linewidth = 2, label = 'Truth')\n",
    "poly = PolynomialFeatures(degree)\n",
    "mesh = poly.fit_transform(x)\n",
    "mesh[:,1:] = scaler.transform(mesh[:,1:])\n",
    "h = mesh.dot(wmle)\n",
    "mesh[:,1:] = scaler.inverse_transform(mesh[:,1:])\n",
    "plt.plot(mesh[:,1],h,'k-', linewidth = 2, label = 'Prediction')\n",
    "h = X.dot(wmle)\n",
    "X[:,1:] = scaler.inverse_transform(X[:,1:])\n",
    "plt.plot(X[:,1],h,'ko',markersize = 4)\n",
    "for i in range(m):\n",
    "    plt.plot([X[i,1],X[i,1]],[y[i], h[i]],'k--')\n",
    "plt.plot(X[:,1],y,'bo', markersize = 6, label = 'Samples with error')\n",
    "plt.xlabel('x')\n",
    "plt.ylabel('y')\n",
    "plt.ylim([1.1*y.min(),1.1*y.max()])\n",
    "plt.legend()"
   ]
  },
  {
   "cell_type": "code",
   "execution_count": 7,
   "metadata": {
    "colab": {},
    "colab_type": "code",
    "id": "dKtjVL2L1O-u"
   },
   "outputs": [
    {
     "name": "stdout",
     "output_type": "stream",
     "text": [
      "Mean Squared Error(MSE): 1.085244433315736\n"
     ]
    }
   ],
   "source": [
    "# This decreases as we increase the degree (complexity of the model)\n",
    "mse = ((h-y)**2).sum()/m\n",
    "print('Mean Squared Error(MSE):', mse)"
   ]
  },
  {
   "cell_type": "code",
   "execution_count": 8,
   "metadata": {
    "colab": {},
    "colab_type": "code",
    "id": "dKtjVL2L1O-u"
   },
   "outputs": [
    {
     "name": "stdout",
     "output_type": "stream",
     "text": [
      "Empirical Variance of Residual Squared Errors: 1.0417506579387104\n"
     ]
    }
   ],
   "source": [
    "# This value approximates sigma when we use a line model\n",
    "print('Empirical Variance of Residual Squared Errors:',np.sqrt(mse))"
   ]
  }
 ],
 "metadata": {
  "colab": {
   "collapsed_sections": [],
   "name": "ols_mle1.ipynb",
   "provenance": []
  },
  "kernelspec": {
   "display_name": "Python 3",
   "language": "python",
   "name": "python3"
  },
  "language_info": {
   "codemirror_mode": {
    "name": "ipython",
    "version": 3
   },
   "file_extension": ".py",
   "mimetype": "text/x-python",
   "name": "python",
   "nbconvert_exporter": "python",
   "pygments_lexer": "ipython3",
   "version": "3.7.6"
  }
 },
 "nbformat": 4,
 "nbformat_minor": 1
}
