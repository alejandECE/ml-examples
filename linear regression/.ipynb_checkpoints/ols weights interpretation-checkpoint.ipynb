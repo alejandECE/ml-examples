{
 "cells": [
  {
   "cell_type": "markdown",
   "metadata": {},
   "source": [
    "###  Created by Luis A. Sanchez-Perez (alejand@umich.edu)"
   ]
  },
  {
   "cell_type": "markdown",
   "metadata": {},
   "source": [
    "Performs a linear regression on the bodyfat dataset. Then using the weights of the linear model tries to determine the importance of each feature. It implements three different linear regression models:\n",
    "* Features without normalization\n",
    "* Features with standarization\n",
    "* Features normalized in the 0-1 range"
   ]
  },
  {
   "cell_type": "code",
   "execution_count": 1,
   "metadata": {},
   "outputs": [],
   "source": [
    "import pandas as pd\n",
    "import numpy as np\n",
    "from sklearn.linear_model import LinearRegression\n",
    "from sklearn.model_selection import train_test_split\n",
    "from sklearn.preprocessing import StandardScaler\n",
    "from sklearn.preprocessing import MinMaxScaler\n",
    "from sklearn.metrics import mean_squared_error\n",
    "from sklearn.metrics import r2_score"
   ]
  },
  {
   "cell_type": "code",
   "execution_count": 2,
   "metadata": {},
   "outputs": [
    {
     "data": {
      "text/plain": [
       "Index(['Age (Years)', 'Weight (lbs)', 'Height (inches)',\n",
       "       'Neck circumference (cm)', 'Chest circumference (cm)',\n",
       "       'Abdomen 2 circumference (cm)', 'Hip circumference (cm)',\n",
       "       'Thigh circumference (cm)', 'Knee circunference (cm)',\n",
       "       'Ankle circunference (cm)', 'Biceps (extended) circunference (cm)',\n",
       "       'Forearm circunference (cm)', 'Wrist circunference (cm)', 'Bodyfat %'],\n",
       "      dtype='object')"
      ]
     },
     "execution_count": 2,
     "metadata": {},
     "output_type": "execute_result"
    }
   ],
   "source": [
    "# Read dataset\n",
    "dataset = pd.read_csv('../../datasets/regression/bodyfat.csv')\n",
    "predictors = dataset.iloc[:,:-1].values\n",
    "responses = dataset.iloc[:,-1].values\n",
    "dataset.columns"
   ]
  },
  {
   "cell_type": "markdown",
   "metadata": {},
   "source": [
    "### No standarization\n",
    "Train and evaluates model using no normalization"
   ]
  },
  {
   "cell_type": "code",
   "execution_count": 3,
   "metadata": {},
   "outputs": [
    {
     "name": "stdout",
     "output_type": "stream",
     "text": [
      "MSE: 15.91048910485444\n",
      "R2 Score: 0.7800078200104427\n",
      "\n",
      "Weights:  [ 0.03364413 -0.07900737 -0.09520786 -0.47551937  0.00447163  0.97205817\n",
      " -0.24588183  0.18656474 -0.03560916  0.09614109  0.1657716   0.44578392\n",
      " -1.66684647]\n",
      "\n",
      "Most important feature is Wrist circunference (cm) with index 12 and value -1.6668464689945888\n",
      "Least important feature is Chest circumference (cm) with index 4 and value 0.004471630041393969\n"
     ]
    }
   ],
   "source": [
    "# Splits into training/test sets\n",
    "X_train,X_test,y_train,y_test = train_test_split(predictors,responses,test_size = 0.2,random_state = 0)\n",
    "\n",
    "# Train and test model\n",
    "mdl = LinearRegression()\n",
    "mdl.fit(X_train,y_train)\n",
    "y_pred = mdl.predict(X_test)\n",
    "mse = mean_squared_error(y_test,y_pred)\n",
    "r2 = r2_score(y_test,y_pred)\n",
    "\n",
    "print('MSE:', mse)\n",
    "print('R2 Score:', r2)\n",
    "weights = mdl.coef_\n",
    "print('\\nWeights: ', weights)\n",
    "index = np.absolute(weights).argmax()\n",
    "print('\\nMost important feature is {} with index {} and value {}'.format(dataset.columns[index], index, weights[index]))\n",
    "index = np.absolute(weights).argmin()\n",
    "print('Least important feature is {} with index {} and value {}'.format(dataset.columns[index], index, weights[index]))"
   ]
  },
  {
   "cell_type": "markdown",
   "metadata": {},
   "source": [
    "The previous results make no sense and that's because no normalization was used."
   ]
  },
  {
   "cell_type": "markdown",
   "metadata": {},
   "source": [
    "###  Using standarization\n",
    "Train and evaluates model using standarization"
   ]
  },
  {
   "cell_type": "code",
   "execution_count": 4,
   "metadata": {},
   "outputs": [
    {
     "name": "stdout",
     "output_type": "stream",
     "text": [
      "MSE: 15.910489104854395\n",
      "R2 Score: 0.7800078200104433\n",
      "\n",
      "Weights:  [ 0.42593899 -2.34066308 -0.37186612 -1.15335127  0.03736982 10.46628993\n",
      " -1.80327295  0.98393734 -0.08616706  0.16936719  0.49720155  0.86488278\n",
      " -1.55484743]\n",
      "\n",
      "Most important feature is Abdomen 2 circumference (cm) with index 5 and value 10.466289933738473\n",
      "Least important feature is Chest circumference (cm) with index 4 and value 0.03736982190083437\n"
     ]
    },
    {
     "data": {
      "text/plain": [
       "19.15771144278607"
      ]
     },
     "execution_count": 4,
     "metadata": {},
     "output_type": "execute_result"
    }
   ],
   "source": [
    "# Splits into training/test sets\n",
    "X_train,X_test,y_train,y_test = train_test_split(predictors,responses,test_size = 0.2,random_state = 0)\n",
    "\n",
    "# Scaler\n",
    "sc = StandardScaler()\n",
    "X_train = sc.fit_transform(X_train)\n",
    "X_test = sc.transform(X_test)\n",
    "\n",
    "# Train and test model\n",
    "mdl = LinearRegression()\n",
    "mdl.fit(X_train,y_train)\n",
    "y_pred = mdl.predict(X_test)\n",
    "mse = mean_squared_error(y_test,y_pred)\n",
    "r2 = r2_score(y_test,y_pred)\n",
    "\n",
    "print('MSE:', mse)\n",
    "print('R2 Score:', r2)\n",
    "weights = mdl.coef_\n",
    "print('\\nWeights: ', weights)\n",
    "index = np.absolute(weights).argmax()\n",
    "print('\\nMost important feature is {} with index {} and value {}'.format(dataset.columns[index], index, weights[index]))\n",
    "index = np.absolute(weights).argmin()\n",
    "print('Least important feature is {} with index {} and value {}'.format(dataset.columns[index], index, weights[index]))\n",
    "\n",
    "y_train.mean()"
   ]
  },
  {
   "cell_type": "markdown",
   "metadata": {},
   "source": [
    "###  Using 0-1 Normalization\n",
    "Train and evaluates model using 0-1 normalization"
   ]
  },
  {
   "cell_type": "code",
   "execution_count": 5,
   "metadata": {},
   "outputs": [
    {
     "name": "stdout",
     "output_type": "stream",
     "text": [
      "MSE: 15.910489104854467\n",
      "R2 Score: 0.7800078200104423\n",
      "\n",
      "Weights:  [  1.98500389 -18.69709511  -4.59377922  -9.55793925   0.23610207\n",
      "  75.52892015 -15.34302589   7.08945995  -0.5733074    1.36520353\n",
      "   3.26570052   5.70603414  -9.33434023]\n",
      "\n",
      "Most important feature is Abdomen 2 circumference (cm) with index 5 and value 75.52892015320883\n",
      "Least important feature is Chest circumference (cm) with index 4 and value 0.2361020661855693\n"
     ]
    }
   ],
   "source": [
    "# Splits into training/test sets\n",
    "X_train,X_test,y_train,y_test = train_test_split(predictors,responses,test_size = 0.2,random_state = 0)\n",
    "\n",
    "# Scaler\n",
    "sc = MinMaxScaler()\n",
    "X_train = sc.fit_transform(X_train)\n",
    "X_test = sc.transform(X_test)\n",
    "\n",
    "# Defines model\n",
    "mdl = LinearRegression()\n",
    "\n",
    "# Train and test model\n",
    "mdl = LinearRegression()\n",
    "mdl.fit(X_train,y_train)\n",
    "y_pred = mdl.predict(X_test)\n",
    "mse = mean_squared_error(y_test,y_pred)\n",
    "r2 = r2_score(y_test,y_pred)\n",
    "\n",
    "print('MSE:', mse)\n",
    "print('R2 Score:', r2)\n",
    "weights = mdl.coef_\n",
    "print('\\nWeights: ', weights)\n",
    "index = np.absolute(weights).argmax()\n",
    "print('\\nMost important feature is {} with index {} and value {}'.format(dataset.columns[index], index, weights[index]))\n",
    "index = np.absolute(weights).argmin()\n",
    "print('Least important feature is {} with index {} and value {}'.format(dataset.columns[index], index, weights[index]))"
   ]
  }
 ],
 "metadata": {
  "kernelspec": {
   "display_name": "Python 3",
   "language": "python",
   "name": "python3"
  },
  "language_info": {
   "codemirror_mode": {
    "name": "ipython",
    "version": 3
   },
   "file_extension": ".py",
   "mimetype": "text/x-python",
   "name": "python",
   "nbconvert_exporter": "python",
   "pygments_lexer": "ipython3",
   "version": "3.7.6"
  }
 },
 "nbformat": 4,
 "nbformat_minor": 2
}
