{
 "cells": [
  {
   "cell_type": "markdown",
   "metadata": {},
   "source": [
    "###  Created by Luis A. Sanchez-Perez (alejand@umich.edu).\n",
    "<p><span style=\"color:green\"><b>Copyright &#169;</b> Do not distribute or use without authorization from author.</span></p>"
   ]
  },
  {
   "cell_type": "code",
   "execution_count": 1,
   "metadata": {},
   "outputs": [],
   "source": [
    "import pathlib\n",
    "import pandas as pd\n",
    "import re\n",
    "import tensorflow as tf\n",
    "import json"
   ]
  },
  {
   "cell_type": "code",
   "execution_count": 2,
   "metadata": {},
   "outputs": [],
   "source": [
    "ONLY_NAME_REGEX = re.compile(r'([\\w]*)')\n",
    "BUFFER_SIZE = 1000"
   ]
  },
  {
   "cell_type": "code",
   "execution_count": 3,
   "metadata": {},
   "outputs": [],
   "source": [
    "path = pathlib.Path('E:/datasets/regression/bodyfat.csv')\n",
    "data = pd.read_csv(path)\n",
    "data.columns = [re.match(ONLY_NAME_REGEX, column).group(1) for column in data.columns]\n",
    "data.head()\n",
    "labels = data.pop('Bodyfat')"
   ]
  },
  {
   "cell_type": "code",
   "execution_count": 4,
   "metadata": {
    "scrolled": false
   },
   "outputs": [],
   "source": [
    "ds = tf.data.Dataset.from_tensor_slices((dict(data), labels))\n",
    "ds = ds.shuffle(BUFFER_SIZE)"
   ]
  },
  {
   "cell_type": "code",
   "execution_count": 5,
   "metadata": {},
   "outputs": [],
   "source": [
    "entry, label = next(iter(ds))\n",
    "for key, value in entry.items():\n",
    "    entry[key] = tf.expand_dims(value, axis=0)"
   ]
  },
  {
   "cell_type": "code",
   "execution_count": 6,
   "metadata": {},
   "outputs": [
    {
     "data": {
      "text/plain": [
       "{'Age': <tf.Tensor: shape=(1,), dtype=int64, numpy=array([42], dtype=int64)>,\n",
       " 'Weight': <tf.Tensor: shape=(1,), dtype=float64, numpy=array([224.75])>,\n",
       " 'Height': <tf.Tensor: shape=(1,), dtype=float64, numpy=array([74.75])>,\n",
       " 'Neck': <tf.Tensor: shape=(1,), dtype=float64, numpy=array([38.5])>,\n",
       " 'Chest': <tf.Tensor: shape=(1,), dtype=float64, numpy=array([106.7])>,\n",
       " 'Abdomen': <tf.Tensor: shape=(1,), dtype=float64, numpy=array([105.7])>,\n",
       " 'Hip': <tf.Tensor: shape=(1,), dtype=float64, numpy=array([111.8])>,\n",
       " 'Thigh': <tf.Tensor: shape=(1,), dtype=float64, numpy=array([65.3])>,\n",
       " 'Knee': <tf.Tensor: shape=(1,), dtype=float64, numpy=array([43.3])>,\n",
       " 'Ankle': <tf.Tensor: shape=(1,), dtype=float64, numpy=array([26.])>,\n",
       " 'Biceps': <tf.Tensor: shape=(1,), dtype=float64, numpy=array([33.7])>,\n",
       " 'Forearm': <tf.Tensor: shape=(1,), dtype=float64, numpy=array([29.9])>,\n",
       " 'Wrist': <tf.Tensor: shape=(1,), dtype=float64, numpy=array([18.5])>}"
      ]
     },
     "execution_count": 6,
     "metadata": {},
     "output_type": "execute_result"
    }
   ],
   "source": [
    "entry"
   ]
  },
  {
   "cell_type": "code",
   "execution_count": 7,
   "metadata": {},
   "outputs": [],
   "source": [
    "# Loads model locally to compare results from the cloud\n",
    "model = tf.keras.models.load_model('saved')"
   ]
  },
  {
   "cell_type": "code",
   "execution_count": 8,
   "metadata": {},
   "outputs": [
    {
     "data": {
      "text/plain": [
       "<tf.Tensor: shape=(1, 1), dtype=float32, numpy=array([[25.839851]], dtype=float32)>"
      ]
     },
     "execution_count": 8,
     "metadata": {},
     "output_type": "execute_result"
    }
   ],
   "source": [
    "model(entry)"
   ]
  },
  {
   "cell_type": "code",
   "execution_count": 9,
   "metadata": {},
   "outputs": [],
   "source": [
    "MODEL_NAME = 'body'\n",
    "INPUT_DATA_FILE = 'instances.json'\n",
    "VERSION_NAME = 'v1'\n",
    "REGION = 'us-east1'"
   ]
  },
  {
   "cell_type": "code",
   "execution_count": 10,
   "metadata": {},
   "outputs": [],
   "source": [
    "import os\n",
    "os.environ['MODEL_NAME'] = MODEL_NAME\n",
    "os.environ['INPUT_DATA_FILE'] = INPUT_DATA_FILE\n",
    "os.environ['VERSION_NAME'] = VERSION_NAME\n",
    "os.environ['REGION'] = REGION"
   ]
  },
  {
   "cell_type": "code",
   "execution_count": 11,
   "metadata": {
    "scrolled": true
   },
   "outputs": [],
   "source": [
    "observation = {key: tf.squeeze(tensor).numpy().astype(float) for key, tensor in entry.items()}\n",
    "request = {'instances': [observation]}\n",
    "with open(pathlib.Path(INPUT_DATA_FILE), 'w') as file:\n",
    "    json.dump(request, file, indent=4)"
   ]
  },
  {
   "cell_type": "code",
   "execution_count": 12,
   "metadata": {},
   "outputs": [
    {
     "data": {
      "text/plain": [
       "{'instances': [{'Age': 42.0,\n",
       "   'Weight': 224.75,\n",
       "   'Height': 74.75,\n",
       "   'Neck': 38.5,\n",
       "   'Chest': 106.7,\n",
       "   'Abdomen': 105.7,\n",
       "   'Hip': 111.8,\n",
       "   'Thigh': 65.3,\n",
       "   'Knee': 43.3,\n",
       "   'Ankle': 26.0,\n",
       "   'Biceps': 33.7,\n",
       "   'Forearm': 29.9,\n",
       "   'Wrist': 18.5}]}"
      ]
     },
     "execution_count": 12,
     "metadata": {},
     "output_type": "execute_result"
    }
   ],
   "source": [
    "request"
   ]
  },
  {
   "cell_type": "code",
   "execution_count": 13,
   "metadata": {},
   "outputs": [
    {
     "name": "stdout",
     "output_type": "stream",
     "text": [
      "Microsoft Windows [Version 10.0.18362.1139]\r\n",
      "(c) 2019 Microsoft Corporation. All rights reserved.\r\n",
      "\r\n",
      "(gcp) D:\\Cloud Folders\\Gloogle Drive\\python\\ai-examples\\linear regression\\keras gcp example>gcloud ai-platform predict --model=%MODEL_NAME% --version=%VERSION_NAME% --json-request=%INPUT_DATA_FILE%\n",
      "DENSE_2\r\n",
      "[25.83985710144043]\r\n",
      "\r\n",
      "(gcp) D:\\Cloud Folders\\Gloogle Drive\\python\\ai-examples\\linear regression\\keras gcp example>"
     ]
    },
    {
     "name": "stderr",
     "output_type": "stream",
     "text": [
      "Using endpoint [https://ml.googleapis.com/]\r\n"
     ]
    }
   ],
   "source": [
    "%%cmd\n",
    "gcloud ai-platform predict --model=%MODEL_NAME% --version=%VERSION_NAME% --json-request=%INPUT_DATA_FILE%"
   ]
  },
  {
   "cell_type": "code",
   "execution_count": null,
   "metadata": {},
   "outputs": [],
   "source": []
  }
 ],
 "metadata": {
  "kernelspec": {
   "display_name": "Python [conda env:gcp]",
   "language": "python",
   "name": "conda-env-gcp-py"
  },
  "language_info": {
   "codemirror_mode": {
    "name": "ipython",
    "version": 3
   },
   "file_extension": ".py",
   "mimetype": "text/x-python",
   "name": "python",
   "nbconvert_exporter": "python",
   "pygments_lexer": "ipython3",
   "version": "3.7.9"
  }
 },
 "nbformat": 4,
 "nbformat_minor": 4
}
