{
 "cells": [
  {
   "cell_type": "markdown",
   "metadata": {},
   "source": [
    "###  Created by Luis A. Sanchez-Perez (alejand@umich.edu).\n",
    "<p><span style=\"color:green\"><b>Copyright &#169;</b> Do not distribute or use without authorization from author.</span></p>"
   ]
  },
  {
   "cell_type": "markdown",
   "metadata": {},
   "source": [
    "### Deployment of locally trained model into AI-Platform\n",
    "In this notebook we deploy a locally trained model to AI-Platform using API through command line (gcloud). "
   ]
  },
  {
   "cell_type": "code",
   "execution_count": 1,
   "metadata": {},
   "outputs": [],
   "source": [
    "# Some configuration constants\n",
    "PROJECT = 'ml-examples-284704'\n",
    "REGION = 'us-east1'\n",
    "MODEL_NAME = 'body'\n",
    "MODEL_LOCATION = 'gs://ml-examples-linear/body'\n",
    "MODEL_VERSION = 'v1'\n",
    "STAGING_BUCKET = 'ml-examples-linear'"
   ]
  },
  {
   "cell_type": "code",
   "execution_count": 2,
   "metadata": {},
   "outputs": [],
   "source": [
    "# Storing as environmental variables to be able to use it from the command line\n",
    "import os\n",
    "os.environ['PROJECT'] = PROJECT\n",
    "os.environ['REGION'] = REGION\n",
    "os.environ['MODEL_NAME'] = MODEL_NAME\n",
    "os.environ['MODEL_VERSION'] = MODEL_VERSION\n",
    "os.environ['MODEL_LOCATION'] = MODEL_LOCATION\n",
    "os.environ['STAGING_BUCKET'] = STAGING_BUCKET"
   ]
  },
  {
   "cell_type": "code",
   "execution_count": 3,
   "metadata": {},
   "outputs": [
    {
     "name": "stdout",
     "output_type": "stream",
     "text": [
      "Microsoft Windows [Version 10.0.18362.1139]\r\n",
      "(c) 2019 Microsoft Corporation. All rights reserved.\r\n",
      "\r\n",
      "D:\\Cloud Folders\\Gloogle Drive\\python\\ai-examples\\linear regression\\keras gcp example>gcloud config set project %PROJECT%\n",
      "\r\n",
      "D:\\Cloud Folders\\Gloogle Drive\\python\\ai-examples\\linear regression\\keras gcp example>gcloud config set compute/region %REGION%\n",
      "\r\n",
      "D:\\Cloud Folders\\Gloogle Drive\\python\\ai-examples\\linear regression\\keras gcp example>"
     ]
    },
    {
     "name": "stderr",
     "output_type": "stream",
     "text": [
      "Updated property [core/project].\r\n",
      "Updated property [compute/region].\r\n"
     ]
    }
   ],
   "source": [
    "%%cmd\n",
    "gcloud config set project %PROJECT%\n",
    "gcloud config set compute/region %REGION%"
   ]
  },
  {
   "cell_type": "code",
   "execution_count": null,
   "metadata": {},
   "outputs": [],
   "source": [
    "%%cmd\n",
    "gcloud ai-platform versions delete %MODEL_VERSION% --model %MODEL_NAME%\n",
    "gcloud ai-platform models delete %MODEL_NAME%"
   ]
  },
  {
   "cell_type": "code",
   "execution_count": 6,
   "metadata": {},
   "outputs": [
    {
     "name": "stdout",
     "output_type": "stream",
     "text": [
      "Microsoft Windows [Version 10.0.18362.1139]\r\n",
      "(c) 2019 Microsoft Corporation. All rights reserved.\r\n",
      "\r\n",
      "D:\\Cloud Folders\\Gloogle Drive\\python\\ai-examples\\linear regression\\keras gcp example>gcloud ai-platform models create %MODEL_NAME% --regions %REGION%\n",
      "\r\n",
      "D:\\Cloud Folders\\Gloogle Drive\\python\\ai-examples\\linear regression\\keras gcp example>"
     ]
    },
    {
     "name": "stderr",
     "output_type": "stream",
     "text": [
      "Using endpoint [https://ml.googleapis.com/]\r\n",
      "Created ml engine model [projects/ml-examples-284704/models/body].\r\n"
     ]
    }
   ],
   "source": [
    "%%cmd\n",
    "gcloud ai-platform models create %MODEL_NAME% --regions %REGION%"
   ]
  },
  {
   "cell_type": "code",
   "execution_count": null,
   "metadata": {},
   "outputs": [],
   "source": [
    "%%cmd\n",
    "gcloud ai-platform versions create %MODEL_VERSION% --model %MODEL_NAME% --origin %MODEL_LOCATION% --runtime-version 2.2"
   ]
  },
  {
   "cell_type": "code",
   "execution_count": null,
   "metadata": {},
   "outputs": [],
   "source": []
  }
 ],
 "metadata": {
  "kernelspec": {
   "display_name": "Python 3",
   "language": "python",
   "name": "python3"
  },
  "language_info": {
   "codemirror_mode": {
    "name": "ipython",
    "version": 3
   },
   "file_extension": ".py",
   "mimetype": "text/x-python",
   "name": "python",
   "nbconvert_exporter": "python",
   "pygments_lexer": "ipython3",
   "version": "3.7.4"
  }
 },
 "nbformat": 4,
 "nbformat_minor": 2
}
