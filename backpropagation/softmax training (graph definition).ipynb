{
 "cells": [
  {
   "cell_type": "markdown",
   "metadata": {},
   "source": [
    "###  Created by Luis A. Sanchez-Perez (alejand@umich.edu).\n",
    "<p><span style=\"color:green\"><b>Copyright &#169;</b> Do not distribute or use without authorization from author.</span></p>"
   ]
  },
  {
   "cell_type": "markdown",
   "metadata": {},
   "source": [
    "A softmax regressor training using graphs"
   ]
  },
  {
   "cell_type": "markdown",
   "metadata": {},
   "source": [
    "### Imports and preparing training/test data"
   ]
  },
  {
   "cell_type": "code",
   "execution_count": 1,
   "metadata": {},
   "outputs": [],
   "source": [
    "import numpy as np\n",
    "from graphs.core import Param\n",
    "from graphs.core import DataHolder\n",
    "from graphs.core import Graph\n",
    "from graphs.nodes import linear_node\n",
    "from graphs.nodes import bias_node\n",
    "from graphs.nodes import softmax_node\n",
    "from graphs.nodes import mce_node\n",
    "from graphs.optimizers import AdamOptimizer\n",
    "from sklearn import datasets\n",
    "from sklearn.preprocessing import PolynomialFeatures\n",
    "from sklearn.preprocessing import StandardScaler\n",
    "from sklearn.model_selection import train_test_split\n",
    "from sklearn.metrics import accuracy_score\n",
    "import matplotlib.pyplot as plt\n",
    "import tensorflow as tf\n",
    "import datetime\n",
    "import pathlib\n",
    "import os\n",
    "os.environ['CUDA_VISIBLE_DEVICES'] = '-1'"
   ]
  },
  {
   "cell_type": "code",
   "execution_count": 2,
   "metadata": {},
   "outputs": [],
   "source": [
    "# Do not modify or delete this!\n",
    "def plot_boundary(h_node,X_node,\n",
    "                  X_train,y_train,X_test,y_test,\n",
    "                  poly=None,scaler=None,xlim=(0,1),ylim=(0,1)):\n",
    "    # Creates an auxiliary graph\n",
    "    graph = Graph()\n",
    "    graph.build(h_node)\n",
    "    # Generates mesh\n",
    "    pts = 100\n",
    "    x1 = np.linspace(xlim[0], xlim[1], pts)  # x1\n",
    "    x2 = np.linspace(ylim[0], ylim[1], pts)  # x2\n",
    "    x1, x2 = np.meshgrid(x1, x2)\n",
    "    mesh = np.vstack((x1.flatten(), x2.flatten())).T\n",
    "    if poly is not None:\n",
    "        mesh = poly.transform(mesh)\n",
    "    if scaler is not None:\n",
    "        mesh = scaler.transform(mesh)    \n",
    "    # Training set\n",
    "    if scaler is not None:\n",
    "        temp = scaler.inverse_transform(X_train)\n",
    "    plt.scatter(temp[:,0],temp[:,1],cmap='viridis',c=y_train.flatten(),s=50,edgecolor='k')\n",
    "    # Boundary\n",
    "    graph.feed({X_node: mesh})\n",
    "    graph.forward()\n",
    "    h = h_node.value\n",
    "    indexes = set(range(h.shape[1]))\n",
    "    for i in range(0, len(indexes) - 1):\n",
    "        g = h[:,i] - h[:,list(indexes - {i})].max(axis=1)\n",
    "        plt.contour(x1, x2, g.reshape((pts,pts)), levels = [0], colors='black')\n",
    "    # Decision regions\n",
    "    y_pred = h.argmax(axis=1).reshape((pts,pts))\n",
    "    plt.contourf(x1, x2, y_pred, alpha = 0.10,cmap='viridis')\n",
    "    # Test set\n",
    "    graph.feed({X_node: X_test})\n",
    "    graph.forward()\n",
    "    y_pred = h_node.value.argmax(axis=1)\n",
    "    correct = (y_pred == y_test.flatten())\n",
    "    if scaler is not None:\n",
    "        temp = scaler.inverse_transform(X_test)\n",
    "    plt.scatter(temp[correct,0],temp[correct,1], marker='.', c='black', s=60)\n",
    "    plt.scatter(temp[~correct,0],temp[~correct,1], marker='x', c='black', s=60)"
   ]
  },
  {
   "cell_type": "code",
   "execution_count": 3,
   "metadata": {},
   "outputs": [],
   "source": [
    "# Loads dataset\n",
    "dataset = datasets.load_iris()\n",
    "features = [1,2]\n",
    "predictors = dataset['data'][:,features]\n",
    "responses = dataset['target'].reshape(-1,1)"
   ]
  },
  {
   "cell_type": "code",
   "execution_count": 4,
   "metadata": {},
   "outputs": [],
   "source": [
    "# Splits into training/test sets\n",
    "X_train, X_test, y_train, y_test = train_test_split(predictors,responses,stratify=responses)\n",
    "# Expand dataset to include polynomial features\n",
    "ps = PolynomialFeatures(degree = 7,include_bias=False)\n",
    "ps.fit(X_train)\n",
    "X_train = ps.transform(X_train)\n",
    "X_test = ps.transform(X_test)\n",
    "# Standarize dataset\n",
    "sc = StandardScaler()\n",
    "sc.fit(X_train)\n",
    "X_train = sc.transform(X_train)\n",
    "X_test = sc.transform(X_test)"
   ]
  },
  {
   "cell_type": "markdown",
   "metadata": {},
   "source": [
    "### Creating custom computational graph\n",
    "Here we use our custom toy implemenations and perform training by minimizing the output of the graph (the loss/cost function)."
   ]
  },
  {
   "cell_type": "code",
   "execution_count": 5,
   "metadata": {},
   "outputs": [],
   "source": [
    "# Builds models inputs and params\n",
    "_,d = X_train.shape\n",
    "n = len(np.unique(y_train))\n",
    "X_node = DataHolder()\n",
    "y_node = DataHolder()"
   ]
  },
  {
   "cell_type": "code",
   "execution_count": 6,
   "metadata": {},
   "outputs": [],
   "source": [
    "# Builds model connections\n",
    "w_node = Param((d,n))\n",
    "b_node = Param((1,n))\n",
    "r_node = linear_node(X_node,w_node)\n",
    "z_node = bias_node(r_node,b_node)\n",
    "h_node = softmax_node(z_node)\n",
    "J_node = mce_node(h_node,y_node)"
   ]
  },
  {
   "cell_type": "code",
   "execution_count": 7,
   "metadata": {},
   "outputs": [
    {
     "data": {
      "text/plain": [
       "<graphs.core.Graph at 0x1dfc936c948>"
      ]
     },
     "execution_count": 7,
     "metadata": {},
     "output_type": "execute_result"
    }
   ],
   "source": [
    "# Graph helper object\n",
    "graph = Graph()\n",
    "graph.build(J_node).initialize()"
   ]
  },
  {
   "cell_type": "code",
   "execution_count": 8,
   "metadata": {},
   "outputs": [
    {
     "name": "stdout",
     "output_type": "stream",
     "text": [
      "Accuracy (Training):  0.77\n",
      "Accuracy (Test):  0.71\n"
     ]
    }
   ],
   "source": [
    "# Computing the accuracy of the model with random weights and bias\n",
    "graph.feed({X_node: X_train, y_node: y_train})\n",
    "graph.forward()\n",
    "y_pred = (h_node.value).argmax(axis=1)\n",
    "print('Accuracy (Training): ', '%.2f'  % accuracy_score(y_train, y_pred))\n",
    "graph.feed({X_node: X_test, y_node: y_test})\n",
    "graph.forward()\n",
    "y_pred = (h_node.value).argmax(axis=1)\n",
    "print('Accuracy (Test): ', '%.2f'  % accuracy_score(y_test, y_pred))"
   ]
  },
  {
   "cell_type": "code",
   "execution_count": 9,
   "metadata": {},
   "outputs": [
    {
     "data": {
      "image/png": "[encoded data removed]",
      "text/plain": [
       "<Figure size 432x288 with 1 Axes>"
      ]
     },
     "metadata": {
      "needs_background": "light"
     },
     "output_type": "display_data"
    }
   ],
   "source": [
    "# Plots boundary\n",
    "plot_boundary(J_node.inputs[0].inputs[0], X_node,\n",
    "              X_train,y_train,X_test,y_test,\n",
    "              poly=ps,scaler=sc,\n",
    "              xlim=(predictors[:,0].min(), predictors[:,0].max()),\n",
    "              ylim=(predictors[:,1].min(), predictors[:,1].max()))"
   ]
  },
  {
   "cell_type": "code",
   "execution_count": 10,
   "metadata": {},
   "outputs": [
    {
     "name": "stdout",
     "output_type": "stream",
     "text": [
      "In 1000 iteration cost went from 22.314514017054005 to 0.13005959792056462\n"
     ]
    }
   ],
   "source": [
    "# Training\n",
    "niter,history = graph.minimize(optimizer=AdamOptimizer())\n",
    "print('In {:} iteration cost went from {:} to {:}'.format(niter,history[0],history[-1]))"
   ]
  },
  {
   "cell_type": "code",
   "execution_count": 11,
   "metadata": {},
   "outputs": [
    {
     "name": "stdout",
     "output_type": "stream",
     "text": [
      "Accuracy (Training):  0.93\n",
      "Accuracy (Test):  1.00\n"
     ]
    }
   ],
   "source": [
    "# Computing the accuracy of the model with trained weights and bias\n",
    "graph.feed({X_node: X_train, y_node: y_train})\n",
    "graph.forward()\n",
    "y_pred = (h_node.value).argmax(axis=1)\n",
    "print('Accuracy (Training): ', '%.2f'  % accuracy_score(y_train, y_pred))\n",
    "graph.feed(feeder={X_node: X_test, y_node: y_test})\n",
    "graph.forward()\n",
    "y_pred = (h_node.value).argmax(axis=1)\n",
    "print('Accuracy (Test): ', '%.2f'  % accuracy_score(y_test, y_pred))"
   ]
  },
  {
   "cell_type": "code",
   "execution_count": 12,
   "metadata": {},
   "outputs": [
    {
     "data": {
      "image/png": "[encoded data removed]",
      "text/plain": [
       "<Figure size 432x288 with 1 Axes>"
      ]
     },
     "metadata": {
      "needs_background": "light"
     },
     "output_type": "display_data"
    }
   ],
   "source": [
    "# Plots boundary\n",
    "plot_boundary(J_node.inputs[0].inputs[0], X_node,\n",
    "              X_train,y_train,X_test,y_test,\n",
    "              poly=ps,scaler=sc,\n",
    "              xlim=(predictors[:,0].min(), predictors[:,0].max()),\n",
    "              ylim=(predictors[:,1].min(), predictors[:,1].max()))"
   ]
  },
  {
   "cell_type": "markdown",
   "metadata": {},
   "source": [
    "### Building tensorflow graph\n",
    "Here we use tensorflow to create the same computational graph and perform training by minimizing the output of the graph (the loss/cost function)."
   ]
  },
  {
   "cell_type": "code",
   "execution_count": 13,
   "metadata": {
    "scrolled": true
   },
   "outputs": [],
   "source": [
    "class SoftmaxGraph:\n",
    "    def __init__(self, categories, features):\n",
    "        self.weights = tf.Variable(tf.random.uniform((features, categories), dtype=tf.float32))\n",
    "        self.bias = tf.Variable(tf.random.uniform((1, categories), dtype=tf.float32))\n",
    "        self.optimizer = tf.keras.optimizers.Adam()\n",
    "    \n",
    "    def predict(self, inputs):\n",
    "        outputs = tf.nn.softmax(\n",
    "            tf.add(tf.matmul(inputs, self.weights), self.bias)\n",
    "        )\n",
    "        return outputs\n",
    "    \n",
    "    def step(self, inputs, outputs):\n",
    "        logits = tf.add(tf.matmul(inputs, self.weights), self.bias)\n",
    "        loss = tf.reduce_sum(tf.nn.sparse_softmax_cross_entropy_with_logits(\n",
    "            logits=logits,\n",
    "            labels=tf.cast(outputs, dtype=tf.int64)\n",
    "        ))\n",
    "        return loss\n",
    "    \n",
    "    def minimize(self, inputs, outputs):\n",
    "        for epoch in range(1000):\n",
    "            with tf.GradientTape() as tape:\n",
    "                loss = self.step(inputs, outputs)\n",
    "            gradients = tape.gradient(loss, [self.bias, self.weights])\n",
    "            self.optimizer.apply_gradients(zip(gradients, [self.bias, self.weights]))"
   ]
  },
  {
   "cell_type": "code",
   "execution_count": 14,
   "metadata": {},
   "outputs": [],
   "source": [
    "model = SoftmaxGraph(categories=3, features=X_train.shape[1])"
   ]
  },
  {
   "cell_type": "code",
   "execution_count": 15,
   "metadata": {},
   "outputs": [
    {
     "name": "stdout",
     "output_type": "stream",
     "text": [
      "Accuracy (Training):  0.02\n",
      "Accuracy (Test):  0.03\n"
     ]
    }
   ],
   "source": [
    "# Computing the accuracy of the model with random weights and bias\n",
    "inputs = tf.convert_to_tensor(X_train, dtype=tf.float32)\n",
    "outputs = model.predict(inputs)\n",
    "y_pred = outputs.numpy().argmax(axis=1)\n",
    "print('Accuracy (Training): ', '%.2f'  % accuracy_score(y_train, y_pred))\n",
    "inputs = tf.convert_to_tensor(X_test, dtype=tf.float32)\n",
    "outputs = model.predict(inputs)\n",
    "y_pred = outputs.numpy().argmax(axis=1)\n",
    "print('Accuracy (Test): ', '%.2f'  % accuracy_score(y_test, y_pred))"
   ]
  },
  {
   "cell_type": "code",
   "execution_count": 16,
   "metadata": {},
   "outputs": [],
   "source": [
    "# Prepares inputs/outputs for training\n",
    "inputs = tf.convert_to_tensor(X_train, dtype=tf.float32)\n",
    "y_true = tf.convert_to_tensor(y_train.ravel(), dtype=tf.float32)"
   ]
  },
  {
   "cell_type": "code",
   "execution_count": 17,
   "metadata": {},
   "outputs": [],
   "source": [
    "# Workaround to be able to trace\n",
    "@tf.function()\n",
    "def build_model(inputs, outputs):\n",
    "    model.step(inputs, outputs)"
   ]
  },
  {
   "cell_type": "code",
   "execution_count": 18,
   "metadata": {},
   "outputs": [],
   "source": [
    "# Set up logging.\n",
    "stamp = datetime.datetime.now().strftime(\"%Y%m%d-%H%M%S\")\n",
    "logdir = pathlib.Path('logs/%s' % stamp)\n",
    "writer = tf.summary.create_file_writer(str(logdir))\n",
    "tf.summary.trace_on(graph=True, profiler=False)\n",
    "# Call only one tf.function when tracing.\n",
    "outputs = build_model(inputs, y_true)\n",
    "# Stores to file\n",
    "with writer.as_default():\n",
    "    tf.summary.trace_export(name=\"build_model_trace\", step=0, profiler_outdir=str(logdir))"
   ]
  },
  {
   "cell_type": "code",
   "execution_count": 19,
   "metadata": {
    "scrolled": true
   },
   "outputs": [],
   "source": [
    "# Training\n",
    "model.minimize(inputs, y_true)"
   ]
  },
  {
   "cell_type": "code",
   "execution_count": 20,
   "metadata": {},
   "outputs": [
    {
     "name": "stdout",
     "output_type": "stream",
     "text": [
      "Accuracy (Training):  0.95\n",
      "Accuracy (Test):  0.97\n"
     ]
    }
   ],
   "source": [
    "# Computing the accuracy of the model with trained weights and bias\n",
    "inputs = tf.convert_to_tensor(X_train, dtype=tf.float32)\n",
    "outputs = model.predict(inputs)\n",
    "y_pred = outputs.numpy().argmax(axis=1)\n",
    "print('Accuracy (Training): ', '%.2f'  % accuracy_score(y_train, y_pred))\n",
    "inputs = tf.convert_to_tensor(X_test, dtype=tf.float32)\n",
    "outputs = model.predict(inputs)\n",
    "y_pred = outputs.numpy().argmax(axis=1)\n",
    "print('Accuracy (Test): ', '%.2f'  % accuracy_score(y_test, y_pred))"
   ]
  },
  {
   "cell_type": "code",
   "execution_count": null,
   "metadata": {},
   "outputs": [],
   "source": []
  }
 ],
 "metadata": {
  "kernelspec": {
   "display_name": "Python 3",
   "language": "python",
   "name": "python3"
  },
  "language_info": {
   "codemirror_mode": {
    "name": "ipython",
    "version": 3
   },
   "file_extension": ".py",
   "mimetype": "text/x-python",
   "name": "python",
   "nbconvert_exporter": "python",
   "pygments_lexer": "ipython3",
   "version": "3.7.6"
  }
 },
 "nbformat": 4,
 "nbformat_minor": 2
}
