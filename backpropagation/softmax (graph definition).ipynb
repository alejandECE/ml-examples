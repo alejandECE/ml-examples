{
 "cells": [
  {
   "cell_type": "markdown",
   "metadata": {},
   "source": [
    "###  Created by Luis A. Sanchez-Perez (alejand@umich.edu).\n",
    "<p><span style=\"color:green\"><b>Copyright &#169;</b> Do not distribute or use without authorization from author.</span></p>"
   ]
  },
  {
   "cell_type": "markdown",
   "metadata": {},
   "source": [
    "A single forward and backward pass for a softmax regressor using graphs. Compares results to analytical computations."
   ]
  },
  {
   "cell_type": "code",
   "execution_count": 1,
   "metadata": {},
   "outputs": [],
   "source": [
    "import numpy as np\n",
    "from graphs.core import Param\n",
    "from graphs.core import DataHolder\n",
    "from graphs.core import Graph\n",
    "from graphs.core import Operation\n",
    "from graphs.nodes import linear_node\n",
    "from graphs.nodes import bias_node\n",
    "from graphs.nodes import softmax_node\n",
    "from graphs.nodes import mce_node\n",
    "from graphs.nodes import softmax_mce_node\n",
    "from sklearn import datasets"
   ]
  },
  {
   "cell_type": "code",
   "execution_count": 2,
   "metadata": {},
   "outputs": [],
   "source": [
    "dataset = datasets.load_iris()\n",
    "predictors = dataset['data']\n",
    "responses = dataset['target'].reshape(-1,1)\n",
    "m,d = predictors.shape\n",
    "n = len(np.unique(responses))"
   ]
  },
  {
   "cell_type": "code",
   "execution_count": 3,
   "metadata": {},
   "outputs": [],
   "source": [
    "# rnd.seed(1)\n",
    "X_node = DataHolder()\n",
    "y_node = DataHolder()\n",
    "w_node = Param((d,n))\n",
    "b_node = Param((1,n))"
   ]
  },
  {
   "cell_type": "code",
   "execution_count": 4,
   "metadata": {},
   "outputs": [],
   "source": [
    "r_node = linear_node(X_node,w_node)\n",
    "z_node = bias_node(r_node,b_node)\n",
    "# J_node = softmax_mce_node(z_node,y_node)\n",
    "h_node = softmax_node(z_node)\n",
    "J_node = mce_node(h_node,y_node)"
   ]
  },
  {
   "cell_type": "code",
   "execution_count": 5,
   "metadata": {},
   "outputs": [
    {
     "data": {
      "text/plain": [
       "<graphs.core.Graph at 0x1f78d8bbc08>"
      ]
     },
     "execution_count": 5,
     "metadata": {},
     "output_type": "execute_result"
    }
   ],
   "source": [
    "g = Graph()\n",
    "g.build(J_node).initialize().feed({X_node:predictors, y_node:responses})"
   ]
  },
  {
   "cell_type": "code",
   "execution_count": 6,
   "metadata": {
    "scrolled": true
   },
   "outputs": [
    {
     "data": {
      "text/plain": [
       "<graphs.core.Graph at 0x1f78d8bbc08>"
      ]
     },
     "execution_count": 6,
     "metadata": {},
     "output_type": "execute_result"
    }
   ],
   "source": [
    "# %%timeit\n",
    "g.forward().backward()"
   ]
  },
  {
   "cell_type": "code",
   "execution_count": 7,
   "metadata": {},
   "outputs": [],
   "source": [
    "def softmax(elements):\n",
    "    shift = elements.max(axis=1).reshape(-1,1)\n",
    "    exp = np.exp(elements - shift)\n",
    "    return exp / exp.sum(axis=1).reshape(-1,1)\n",
    "\n",
    "def compute_cost(w,X,y):\n",
    "    m,d = X.shape\n",
    "    W = w.reshape((d,-1))\n",
    "    prob = softmax(X.dot(W))\n",
    "    loglikelihood = np.log(prob[range(m),y.flatten()]).sum() \n",
    "    return -loglikelihood\n",
    "\n",
    "def compute_grad(w,X,y):\n",
    "    # Reshape the weights into d,n\n",
    "    m,d = X.shape\n",
    "    W = w.reshape((d,-1))\n",
    "    _,n = W.shape\n",
    "    # Evaluates the indicator function for y (one-hot-encoding)\n",
    "    indicator = np.zeros((m,n))\n",
    "    indicator[range(len(y)),y.flatten()] = 1\n",
    "    prob = softmax(X.dot(W))\n",
    "    # Builds gradient\n",
    "    diff = indicator - prob\n",
    "    grad = np.zeros((d,n))\n",
    "    for c in range(n):\n",
    "        grad[:,c] = -(X * diff[:,c].reshape((m,1))).sum(axis=0)\n",
    "    grad = grad.flatten()\n",
    "    return grad"
   ]
  },
  {
   "cell_type": "code",
   "execution_count": 8,
   "metadata": {},
   "outputs": [],
   "source": [
    "X = np.hstack((np.ones((m,1)), predictors))\n",
    "w = np.vstack((b_node.value,w_node.value))\n",
    "y = y_node.value"
   ]
  },
  {
   "cell_type": "code",
   "execution_count": 9,
   "metadata": {},
   "outputs": [
    {
     "name": "stdout",
     "output_type": "stream",
     "text": [
      "Convetional: 953.8380680633793\n",
      "Graph: 953.8380680633793\n"
     ]
    }
   ],
   "source": [
    "print('Convetional:', compute_cost(w,X,y))\n",
    "print('Graph:', J_node.value)"
   ]
  },
  {
   "cell_type": "code",
   "execution_count": 10,
   "metadata": {},
   "outputs": [
    {
     "name": "stdout",
     "output_type": "stream",
     "text": [
      "Conventional: [ -41.29610729  -49.99950772   91.29561501 -196.22810625 -296.79761747\n",
      "  493.02572372 -146.42605174 -138.49856304  284.92461479  -30.79117725\n",
      " -212.99911488  243.79029214    2.22312269  -66.29981066   64.07668796]\n"
     ]
    }
   ],
   "source": [
    "print('Conventional:', compute_grad(w,X,y).flatten())"
   ]
  },
  {
   "cell_type": "code",
   "execution_count": 11,
   "metadata": {},
   "outputs": [
    {
     "name": "stdout",
     "output_type": "stream",
     "text": [
      "Graph: [ -41.29610729  -49.99950772   91.29561501 -196.22810625 -296.79761747\n",
      "  493.02572372 -146.42605174 -138.49856304  284.92461479  -30.79117725\n",
      " -212.99911488  243.79029214    2.22312269  -66.29981066   64.07668796]\n"
     ]
    }
   ],
   "source": [
    "print('Graph:', np.hstack((b_node.gradient.flatten(), w_node.gradient.flatten())))"
   ]
  }
 ],
 "metadata": {
  "kernelspec": {
   "display_name": "Python 3",
   "language": "python",
   "name": "python3"
  },
  "language_info": {
   "codemirror_mode": {
    "name": "ipython",
    "version": 3
   },
   "file_extension": ".py",
   "mimetype": "text/x-python",
   "name": "python",
   "nbconvert_exporter": "python",
   "pygments_lexer": "ipython3",
   "version": "3.7.6"
  }
 },
 "nbformat": 4,
 "nbformat_minor": 2
}
