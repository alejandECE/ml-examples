{
 "cells": [
  {
   "cell_type": "markdown",
   "metadata": {},
   "source": [
    "###  Created by Luis A. Sanchez-Perez (alejand@umich.edu).\n",
    "<p><span style=\"color:green\"><b>Copyright &#169;</b> Do not distribute or use without authorization from author.</span></p>"
   ]
  },
  {
   "cell_type": "markdown",
   "metadata": {},
   "source": [
    "An simple MLP training using graphs"
   ]
  },
  {
   "cell_type": "code",
   "execution_count": 1,
   "metadata": {},
   "outputs": [],
   "source": [
    "import numpy as np\n",
    "import numpy.random as rnd\n",
    "import scipy.io as sio\n",
    "import matplotlib.pyplot as plt\n",
    "from graphs.core import Param\n",
    "from graphs.core import DataHolder\n",
    "from graphs.core import Graph\n",
    "from graphs.nodes import linear_node\n",
    "from graphs.nodes import bias_node\n",
    "from graphs.nodes import sigmoid_node\n",
    "from graphs.nodes import relu_node\n",
    "from graphs.nodes import leaky_relu_node\n",
    "from graphs.nodes import softmax_mce_node\n",
    "from graphs.optimizers import RMSPropOptimizer\n",
    "from sklearn.model_selection import train_test_split\n",
    "from sklearn.metrics import accuracy_score\n",
    "from sklearn.neural_network import MLPClassifier\n",
    "import time\n",
    "import datetime\n",
    "import pathlib\n",
    "import tensorflow as tf\n",
    "import os\n",
    "os.environ['CUDA_VISIBLE_DEVICES'] = '-1'"
   ]
  },
  {
   "cell_type": "code",
   "execution_count": 2,
   "metadata": {},
   "outputs": [],
   "source": [
    "def display_subset(X,count=9,order='C'):\n",
    "    indexes = rnd.permutation(X.shape[0])\n",
    "    m = int(np.ceil(np.sqrt(count)))\n",
    "    n = int(np.ceil(count/m))\n",
    "    fig, axes = plt.subplots(n,m)\n",
    "    fig.set_size_inches(2*n,2*m)\n",
    "    for i,ax in enumerate(axes.ravel()):\n",
    "        if i <= count:\n",
    "            ax.matshow(X[indexes[i],:].reshape(28,28,order=order), cmap=plt.cm.gray)\n",
    "            ax.set_xticks(())\n",
    "            ax.set_yticks(())\n",
    "        else:\n",
    "            fig.delaxes(ax)"
   ]
  },
  {
   "cell_type": "code",
   "execution_count": 3,
   "metadata": {},
   "outputs": [],
   "source": [
    "# Loading the data\n",
    "datafile = sio.loadmat('E:/datasets/classification/mnist/emnist-digits.mat')\n",
    "X1 = datafile['dataset'][0][0]['train'][0][0]['images']\n",
    "X1 = X1 / 255.\n",
    "X2 = datafile['dataset'][0][0]['test'][0][0]['images']\n",
    "X2 = X2 / 255.\n",
    "y1 = datafile['dataset'][0][0]['train'][0][0]['labels'].ravel()\n",
    "y2 = datafile['dataset'][0][0]['test'][0][0]['labels'].ravel()\n",
    "X = np.concatenate((X1,X2))\n",
    "y = np.concatenate((y1,y2))"
   ]
  },
  {
   "cell_type": "code",
   "execution_count": 4,
   "metadata": {},
   "outputs": [],
   "source": [
    "# Splits into training/test sets\n",
    "X_train, X_test, y_train, y_test = train_test_split(X, y, stratify=y, train_size=5000)"
   ]
  },
  {
   "cell_type": "code",
   "execution_count": 5,
   "metadata": {},
   "outputs": [
    {
     "data": {
      "image/png": "[encoded data removed]",
      "text/plain": [
       "<Figure size 432x432 with 9 Axes>"
      ]
     },
     "metadata": {},
     "output_type": "display_data"
    }
   ],
   "source": [
    "# Displays some examples\n",
    "display_subset(X_train,order='F')"
   ]
  },
  {
   "cell_type": "code",
   "execution_count": 6,
   "metadata": {},
   "outputs": [],
   "source": [
    "# Builds models inputs and params\n",
    "_,d = X_train.shape\n",
    "n = len(np.unique(y_train))\n",
    "X_node = DataHolder()\n",
    "y_node = DataHolder()"
   ]
  },
  {
   "cell_type": "code",
   "execution_count": 7,
   "metadata": {},
   "outputs": [],
   "source": [
    "# Build hidden layers and all proper connections\n",
    "hidden_config = [(20,'leaky')] * 2\n",
    "input_shape = (d,)\n",
    "input_node = X_node\n",
    "\n",
    "for config in hidden_config:\n",
    "    # init weights and bias\n",
    "    w_node = Param((input_shape[0],config[0]))\n",
    "    b_node = Param((1,config[0]))\n",
    "    # builds hidden layer\n",
    "    r_node = linear_node(input_node,w_node)\n",
    "    z_node = bias_node(r_node,b_node)\n",
    "    if config[1] == 'sigmoid':\n",
    "        h_node = sigmoid_node(z_node)\n",
    "    elif config[1] == 'relu':\n",
    "        h_node = relu_node(z_node)\n",
    "    elif config[1] == 'leaky':\n",
    "        h_node = leaky_relu_node(z_node)\n",
    "    else:\n",
    "        h_node = z_node\n",
    "    # stores last node to connect to next layer\n",
    "    input_node = h_node\n",
    "    input_shape = (config[0],)\n",
    "\n",
    "w_node = Param((input_shape[0],n))\n",
    "b_node = Param((1,n))\n",
    "r_node = linear_node(input_node,w_node)\n",
    "z_node = bias_node(r_node,b_node)\n",
    "J_node = softmax_mce_node(z_node,y_node)"
   ]
  },
  {
   "cell_type": "code",
   "execution_count": 8,
   "metadata": {},
   "outputs": [
    {
     "data": {
      "text/plain": [
       "<graphs.core.Graph at 0x197b6eba548>"
      ]
     },
     "execution_count": 8,
     "metadata": {},
     "output_type": "execute_result"
    }
   ],
   "source": [
    "# Graph helper object\n",
    "graph = Graph()\n",
    "graph.build(J_node).initialize()"
   ]
  },
  {
   "cell_type": "code",
   "execution_count": 9,
   "metadata": {},
   "outputs": [
    {
     "name": "stdout",
     "output_type": "stream",
     "text": [
      "Cost:  12411.852522924397\n",
      "Accuracy (Training):  0.10\n",
      "Accuracy (Test):  0.10\n"
     ]
    }
   ],
   "source": [
    "# Computing the accuracy of the model with random weights and bias\n",
    "graph.feed({X_node: X_train, y_node: y_train})\n",
    "graph.forward()\n",
    "y_pred = (J_node.h_node.value).argmax(axis=1)\n",
    "print('Cost: ', J_node.value)\n",
    "print('Accuracy (Training): ', '%.2f' % accuracy_score(y_train, y_pred))\n",
    "graph.feed({X_node: X_test, y_node: y_test})\n",
    "graph.forward()\n",
    "y_pred = (J_node.h_node.value).argmax(axis=1)\n",
    "print('Accuracy (Test): ', '%.2f' % accuracy_score(y_test, y_pred))"
   ]
  },
  {
   "cell_type": "code",
   "execution_count": 10,
   "metadata": {},
   "outputs": [
    {
     "name": "stdout",
     "output_type": "stream",
     "text": [
      "In 1000 epochs (14.580574100000002 secs) cost went from 2557.089412076019 to 0.00247877990312257\n"
     ]
    }
   ],
   "source": [
    "# Training\n",
    "start = time.perf_counter()\n",
    "graph.feed({X_node: X_train, y_node: y_train})\n",
    "niter, history = graph.minimize(optimizer=RMSPropOptimizer(alpha=1e-3), batch_size=1024)\n",
    "end = time.perf_counter()\n",
    "print('In {:} epochs ({:} secs) cost went from {:} to {:}'.format(niter,end-start,history[0],history[-1]))"
   ]
  },
  {
   "cell_type": "code",
   "execution_count": 11,
   "metadata": {
    "scrolled": true
   },
   "outputs": [
    {
     "name": "stdout",
     "output_type": "stream",
     "text": [
      "Cost:  0.013470569583006154\n",
      "Accuracy (Training):  1.00\n",
      "Accuracy (Test):  0.92\n"
     ]
    }
   ],
   "source": [
    "# Computing the accuracy of the model with trained weights and bias\n",
    "graph.feed({X_node: X_train, y_node: y_train})\n",
    "graph.forward()\n",
    "y_pred = (J_node.h_node.value).argmax(axis=1)\n",
    "print('Cost: ', J_node.value)\n",
    "print('Accuracy (Training): ', '%.2f' % accuracy_score(y_train, y_pred))\n",
    "graph.feed({X_node: X_test, y_node: y_test})\n",
    "graph.forward()\n",
    "y_pred = (J_node.h_node.value).argmax(axis=1)\n",
    "print('Accuracy (Test): ', '%.2f' % accuracy_score(y_test, y_pred))"
   ]
  },
  {
   "cell_type": "code",
   "execution_count": 12,
   "metadata": {},
   "outputs": [
    {
     "name": "stderr",
     "output_type": "stream",
     "text": [
      "D:\\Anaconda3\\lib\\site-packages\\sklearn\\neural_network\\_multilayer_perceptron.py:571: ConvergenceWarning: Stochastic Optimizer: Maximum iterations (1000) reached and the optimization hasn't converged yet.\n",
      "  % self.max_iter, ConvergenceWarning)\n"
     ]
    },
    {
     "name": "stdout",
     "output_type": "stream",
     "text": [
      "Time training:  34.679595199999994  sec\n",
      "# of epochs:  1000\n",
      "Training Metrics: 1.00\n",
      "Test Metrics: 0.93\n"
     ]
    }
   ],
   "source": [
    "# Sklearn implementation\n",
    "mdl = MLPClassifier(hidden_layer_sizes=(20, 20),\n",
    "                    activation='relu', max_iter=1000, \n",
    "                    alpha=0,batch_size=1024,n_iter_no_change=1000)\n",
    "start = time.perf_counter()\n",
    "mdl.fit(X_train,y_train)\n",
    "end = time.perf_counter()\n",
    "print('Time training: ', end - start, ' sec')\n",
    "print('# of epochs: ', mdl.n_iter_)\n",
    "print('Training Metrics:','%.2f' % accuracy_score(y_train,mdl.predict(X_train)))\n",
    "print('Test Metrics:','%.2f' % accuracy_score(y_test,mdl.predict(X_test)))"
   ]
  },
  {
   "cell_type": "code",
   "execution_count": 13,
   "metadata": {},
   "outputs": [],
   "source": [
    "# Tensorflow implementation\n",
    "class MLP:\n",
    "    def __init__(self, features, categories, hidden_config):\n",
    "        self.layers = []\n",
    "        # Defines hidden layers\n",
    "        for config in hidden_config:\n",
    "            if config[1] == 'sigmoid':\n",
    "                self.layers.append((\n",
    "                    config[1],\n",
    "                    tf.keras.layers.Dense(config[0], kernel_initializer=tf.keras.initializers.glorot_uniform())\n",
    "                ))\n",
    "            elif config[1] == 'relu' or config[1] == 'leaky':\n",
    "                self.layers.append((\n",
    "                    config[1],\n",
    "                    tf.keras.layers.Dense(config[0], kernel_initializer=tf.keras.initializers.he_uniform())\n",
    "                ))\n",
    "            else:\n",
    "                self.layers.append((\n",
    "                    'linear',\n",
    "                    tf.keras.layers.Dense(config[0], kernel_initializer=tf.keras.initializers.glorot_normal())\n",
    "                ))\n",
    "        # Defines last layer\n",
    "        self.layers.append((\n",
    "            'softmax', tf.keras.layers.Dense(categories, activation='softmax')\n",
    "        ))\n",
    "        # Defines loss\n",
    "        self.loss = tf.keras.losses.SparseCategoricalCrossentropy()\n",
    "        \n",
    "    def __call__(self, inputs):\n",
    "        x = inputs\n",
    "        for activation, layer in self.layers:\n",
    "            x = layer(x)\n",
    "            if activation == 'sigmoid':\n",
    "                x = tf.keras.activations.sigmoid(x)\n",
    "            elif activation == 'relu':\n",
    "                x = tf.keras.activations.relu(x)\n",
    "            elif activation == 'leaky':\n",
    "                x = tf.keras.activations.relu(x, alpha=0.1)\n",
    "        return x\n",
    "    \n",
    "    def train(self, inputs, outputs, optimizer=None):\n",
    "        # Creates optimizer if needed\n",
    "        if optimizer is None:\n",
    "            optimizer = tf.keras.optimizers.Adam()\n",
    "        # Creates predictors and responses\n",
    "        inputs = tf.convert_to_tensor(inputs, dtype=tf.float32)\n",
    "        y_true = tf.convert_to_tensor(outputs, dtype=tf.float32)\n",
    "        # Training loop\n",
    "        for epoch in range(1000):\n",
    "            with tf.GradientTape() as tape:\n",
    "                y_pred = self.__call__(inputs)\n",
    "                loss = self.loss(y_true, y_pred)   \n",
    "            variables = [variable for _, layer in self.layers for variable in layer.trainable_variables]\n",
    "            gradients = tape.gradient(loss, variables)\n",
    "            optimizer.apply_gradients(zip(gradients, variables))"
   ]
  },
  {
   "cell_type": "code",
   "execution_count": 14,
   "metadata": {},
   "outputs": [],
   "source": [
    "# Creates tensorflow model\n",
    "model = MLP(features=d, categories=n, hidden_config=hidden_config)"
   ]
  },
  {
   "cell_type": "code",
   "execution_count": 15,
   "metadata": {},
   "outputs": [
    {
     "name": "stdout",
     "output_type": "stream",
     "text": [
      "Time training:  13.616037899999995  sec\n"
     ]
    }
   ],
   "source": [
    "# Trains model\n",
    "start = time.perf_counter()\n",
    "model.train(X_train, y_train)\n",
    "end = time.perf_counter()\n",
    "print('Time training: ', end - start, ' sec')"
   ]
  },
  {
   "cell_type": "code",
   "execution_count": 16,
   "metadata": {},
   "outputs": [
    {
     "name": "stdout",
     "output_type": "stream",
     "text": [
      "Accuracy (Training):  1.00\n",
      "Accuracy (Test):  0.92\n"
     ]
    }
   ],
   "source": [
    "# Computing the accuracy of the model with trained weights and bias\n",
    "inputs = tf.convert_to_tensor(X_train, dtype=tf.float32)\n",
    "y_pred = model(inputs)\n",
    "y_pred = y_pred.numpy().argmax(axis=1)\n",
    "print('Accuracy (Training): ', '%.2f' % accuracy_score(y_train, y_pred))\n",
    "inputs = tf.convert_to_tensor(X_test, dtype=tf.float32)\n",
    "y_pred = model(inputs)\n",
    "y_pred = y_pred.numpy().argmax(axis=1)\n",
    "print('Accuracy (Test): ', '%.2f' % accuracy_score(y_test, y_pred))"
   ]
  },
  {
   "cell_type": "code",
   "execution_count": 17,
   "metadata": {},
   "outputs": [],
   "source": [
    "# Workaround to export graph\n",
    "inputs = tf.random.uniform((1, d))\n",
    "@tf.function\n",
    "def export_graph():   \n",
    "    model(inputs)"
   ]
  },
  {
   "cell_type": "code",
   "execution_count": 18,
   "metadata": {},
   "outputs": [],
   "source": [
    "# Set up logging.\n",
    "stamp = datetime.datetime.now().strftime(\"%Y%m%d-%H%M%S\")\n",
    "logdir = pathlib.Path('logs/%s' % stamp)\n",
    "writer = tf.summary.create_file_writer(str(logdir))\n",
    "tf.summary.trace_on(graph=True, profiler=False)\n",
    "# Call only one tf.function when tracing.\n",
    "export_graph()\n",
    "# Stores to file\n",
    "with writer.as_default():\n",
    "    tf.summary.trace_export(name=\"build_tensorflow_mlp_trace\", step=0, profiler_outdir=str(logdir))"
   ]
  },
  {
   "cell_type": "code",
   "execution_count": null,
   "metadata": {},
   "outputs": [],
   "source": []
  }
 ],
 "metadata": {
  "kernelspec": {
   "display_name": "Python 3",
   "language": "python",
   "name": "python3"
  },
  "language_info": {
   "codemirror_mode": {
    "name": "ipython",
    "version": 3
   },
   "file_extension": ".py",
   "mimetype": "text/x-python",
   "name": "python",
   "nbconvert_exporter": "python",
   "pygments_lexer": "ipython3",
   "version": "3.7.6"
  }
 },
 "nbformat": 4,
 "nbformat_minor": 2
}
