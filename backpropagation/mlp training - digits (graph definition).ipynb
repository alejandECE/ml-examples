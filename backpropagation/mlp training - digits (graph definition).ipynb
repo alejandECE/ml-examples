{
 "cells": [
  {
   "cell_type": "markdown",
   "metadata": {},
   "source": [
    "###  Created by Luis Alejandro (alejand@umich.edu)\n",
    "An simple MLP training using graphs"
   ]
  },
  {
   "cell_type": "code",
   "execution_count": 1,
   "metadata": {},
   "outputs": [],
   "source": [
    "import numpy as np\n",
    "import numpy.random as rnd\n",
    "import scipy.io as sio\n",
    "import matplotlib.pyplot as plt\n",
    "\n",
    "import sys\n",
    "sys.path.append('../')\n",
    "\n",
    "from utils.graphs.core import Param\n",
    "from utils.graphs.core import DataHolder\n",
    "from utils.graphs.core import Graph\n",
    "from utils.graphs.nodes import linear_node\n",
    "from utils.graphs.nodes import bias_node\n",
    "from utils.graphs.nodes import sigmoid_node\n",
    "from utils.graphs.nodes import relu_node\n",
    "from utils.graphs.nodes import leaky_relu_node\n",
    "from utils.graphs.nodes import softmax_mce_node\n",
    "\n",
    "from sklearn.model_selection import train_test_split\n",
    "from sklearn.metrics import accuracy_score\n",
    "from sklearn.neural_network import MLPClassifier\n",
    "\n",
    "import time"
   ]
  },
  {
   "cell_type": "code",
   "execution_count": 2,
   "metadata": {},
   "outputs": [],
   "source": [
    "def display_subset(X,count=9,order='C'):\n",
    "    indexes = rnd.permutation(X.shape[0])\n",
    "    m = int(np.ceil(np.sqrt(count)))\n",
    "    n = int(np.ceil(count/m))\n",
    "    fig, axes = plt.subplots(n,m)\n",
    "    fig.set_size_inches(2*n,2*m)\n",
    "    for i,ax in enumerate(axes.ravel()):\n",
    "        if i <= count:\n",
    "            ax.matshow(X[indexes[i],:].reshape(28,28,order=order), cmap=plt.cm.gray)\n",
    "            ax.set_xticks(())\n",
    "            ax.set_yticks(())\n",
    "        else:\n",
    "            fig.delaxes(ax)"
   ]
  },
  {
   "cell_type": "code",
   "execution_count": 3,
   "metadata": {},
   "outputs": [],
   "source": [
    "# Loading the data\n",
    "datafile = sio.loadmat('../../datasets/classification/mnist/emnist-digits.mat')\n",
    "X1 = datafile['dataset'][0][0]['train'][0][0]['images']\n",
    "X1 = X1 / 255.\n",
    "X2 = datafile['dataset'][0][0]['test'][0][0]['images']\n",
    "X2 = X2 / 255.\n",
    "y1 = datafile['dataset'][0][0]['train'][0][0]['labels'].ravel()\n",
    "y2 = datafile['dataset'][0][0]['test'][0][0]['labels'].ravel()\n",
    "X = np.concatenate((X1,X2))\n",
    "y = np.concatenate((y1,y2))"
   ]
  },
  {
   "cell_type": "code",
   "execution_count": 4,
   "metadata": {},
   "outputs": [],
   "source": [
    "# Splits into training/test sets\n",
    "X_train, X_test, y_train, y_test = train_test_split(X,y,stratify=y,train_size=5000)"
   ]
  },
  {
   "cell_type": "code",
   "execution_count": 5,
   "metadata": {},
   "outputs": [
    {
     "data": {
      "image/png": "[encoded data removed]",
      "text/plain": [
       "<Figure size 432x432 with 9 Axes>"
      ]
     },
     "metadata": {},
     "output_type": "display_data"
    }
   ],
   "source": [
    "# Displays some examples\n",
    "display_subset(X_train,order='F')"
   ]
  },
  {
   "cell_type": "code",
   "execution_count": 6,
   "metadata": {},
   "outputs": [],
   "source": [
    "# Builds models inputs and params\n",
    "_,d = X_train.shape\n",
    "n = len(np.unique(y_train))\n",
    "X_node = DataHolder()\n",
    "y_node = DataHolder()"
   ]
  },
  {
   "cell_type": "code",
   "execution_count": 7,
   "metadata": {},
   "outputs": [],
   "source": [
    "# Build hidden layers and all proper connections\n",
    "hidden_config = [(20,'leaky')] * 2\n",
    "input_shape = (d,)\n",
    "input_node = X_node\n",
    "\n",
    "for config in hidden_config:\n",
    "    # init weights and bias\n",
    "    w_node = Param((input_shape[0],config[0]))\n",
    "    b_node = Param((1,config[0]))\n",
    "    # builds hidden layer\n",
    "    r_node = linear_node(input_node,w_node)\n",
    "    z_node = bias_node(r_node,b_node)\n",
    "    if config[1] == 'sigmoid':\n",
    "        h_node = sigmoid_node(z_node)\n",
    "    elif config[1] == 'relu':\n",
    "        h_node = relu_node(z_node)\n",
    "    elif config[1] == 'leaky':\n",
    "        h_node = leaky_relu_node(z_node)\n",
    "    else:\n",
    "        h_node = z_node\n",
    "    # stores last node to connect to next layer\n",
    "    input_node = h_node\n",
    "    input_shape = (config[0],)\n",
    "\n",
    "w_node = Param((input_shape[0],n))\n",
    "b_node = Param((1,n))\n",
    "r_node = linear_node(input_node,w_node)\n",
    "z_node = bias_node(r_node,b_node)\n",
    "J_node = softmax_mce_node(z_node,y_node)"
   ]
  },
  {
   "cell_type": "code",
   "execution_count": 8,
   "metadata": {},
   "outputs": [
    {
     "data": {
      "text/plain": [
       "<utils.graphs.core.Graph at 0x20e624a7d88>"
      ]
     },
     "execution_count": 8,
     "metadata": {},
     "output_type": "execute_result"
    }
   ],
   "source": [
    "# Graph helper object\n",
    "graph = Graph()\n",
    "graph.build(J_node).initialize()"
   ]
  },
  {
   "cell_type": "code",
   "execution_count": 9,
   "metadata": {},
   "outputs": [
    {
     "name": "stdout",
     "output_type": "stream",
     "text": [
      "Cost:  12377.907734727596\n",
      "Accuracy (Training):  0.10\n",
      "Accuracy (Test):  0.10\n"
     ]
    }
   ],
   "source": [
    "# Computing the accuracy of the model with random weights and bias\n",
    "graph.feed({X_node: X_train, y_node: y_train})\n",
    "graph.forward()\n",
    "y_pred = (J_node.h_node.value).argmax(axis=1)\n",
    "print('Cost: ', J_node.value)\n",
    "print('Accuracy (Training): ', '%.2f' % accuracy_score(y_train, y_pred))\n",
    "graph.feed({X_node: X_test, y_node: y_test})\n",
    "graph.forward()\n",
    "y_pred = (J_node.h_node.value).argmax(axis=1)\n",
    "print('Accuracy (Test): ', '%.2f' % accuracy_score(y_test, y_pred))"
   ]
  },
  {
   "cell_type": "code",
   "execution_count": 10,
   "metadata": {},
   "outputs": [
    {
     "name": "stdout",
     "output_type": "stream",
     "text": [
      "In 1000 epochs (16.0537159 secs) cost went from 12377.907734727596 to 38.02927676898739\n"
     ]
    }
   ],
   "source": [
    "# Training\n",
    "start = time.perf_counter()\n",
    "graph.feed({X_node: X_train, y_node: y_train})\n",
    "niter,history = graph.minimize(optimizer='rmsprop',batch_size=1024,alpha=1e-3)\n",
    "end = time.perf_counter()\n",
    "print('In {:} epochs ({:} secs) cost went from {:} to {:}'.format(niter,end-start,history[0],history[-1]))"
   ]
  },
  {
   "cell_type": "code",
   "execution_count": 11,
   "metadata": {
    "scrolled": true
   },
   "outputs": [
    {
     "name": "stdout",
     "output_type": "stream",
     "text": [
      "Cost:  38.78689784909879\n",
      "Accuracy (Training):  1.00\n",
      "Accuracy (Test):  0.93\n"
     ]
    }
   ],
   "source": [
    "# Computing the accuracy of the model with trained weights and bias\n",
    "graph.feed({X_node: X_train, y_node: y_train})\n",
    "graph.forward()\n",
    "y_pred = (J_node.h_node.value).argmax(axis=1)\n",
    "print('Cost: ', J_node.value)\n",
    "print('Accuracy (Training): ', '%.2f' % accuracy_score(y_train, y_pred))\n",
    "graph.feed({X_node: X_test, y_node: y_test})\n",
    "graph.forward()\n",
    "y_pred = (J_node.h_node.value).argmax(axis=1)\n",
    "print('Accuracy (Test): ', '%.2f' % accuracy_score(y_test, y_pred))"
   ]
  },
  {
   "cell_type": "code",
   "execution_count": 12,
   "metadata": {},
   "outputs": [
    {
     "name": "stderr",
     "output_type": "stream",
     "text": [
      "D:\\Anaconda3\\lib\\site-packages\\sklearn\\neural_network\\_multilayer_perceptron.py:571: ConvergenceWarning: Stochastic Optimizer: Maximum iterations (1000) reached and the optimization hasn't converged yet.\n",
      "  % self.max_iter, ConvergenceWarning)\n"
     ]
    },
    {
     "name": "stdout",
     "output_type": "stream",
     "text": [
      "Time training:  34.63367810000001  sec\n",
      "# of epochs:  1000\n",
      "Training Metrics: 1.00\n",
      "Test Metrics: 0.93\n"
     ]
    }
   ],
   "source": [
    "# Sklearn implementation\n",
    "mdl = MLPClassifier(hidden_layer_sizes=(20,20),\n",
    "                    activation='relu', max_iter=1000, \n",
    "                    alpha=0,batch_size=1024,n_iter_no_change=1000)\n",
    "start = time.perf_counter()\n",
    "mdl.fit(X_train,y_train)\n",
    "end = time.perf_counter()\n",
    "print('Time training: ', end - start, ' sec')\n",
    "print('# of epochs: ', mdl.n_iter_)\n",
    "print('Training Metrics:','%.2f' % accuracy_score(y_train,mdl.predict(X_train)))\n",
    "print('Test Metrics:','%.2f' % accuracy_score(y_test,mdl.predict(X_test)))"
   ]
  },
  {
   "cell_type": "markdown",
   "metadata": {},
   "source": [
    "#### Notice\n",
    "\n",
    "Even though the graph implementation is not fully optimized (no computation is done in parallel, among many other possible optimizations not implemented),the time it takes to train the model is smaller than in the sklearn implementation, which is really exciting."
   ]
  },
  {
   "cell_type": "code",
   "execution_count": null,
   "metadata": {},
   "outputs": [],
   "source": []
  }
 ],
 "metadata": {
  "kernelspec": {
   "display_name": "Python 3",
   "language": "python",
   "name": "python3"
  },
  "language_info": {
   "codemirror_mode": {
    "name": "ipython",
    "version": 3
   },
   "file_extension": ".py",
   "mimetype": "text/x-python",
   "name": "python",
   "nbconvert_exporter": "python",
   "pygments_lexer": "ipython3",
   "version": "3.7.6"
  }
 },
 "nbformat": 4,
 "nbformat_minor": 2
}
