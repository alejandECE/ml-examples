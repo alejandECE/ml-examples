{
 "cells": [
  {
   "cell_type": "markdown",
   "metadata": {},
   "source": [
    "###  Created by Luis Alejandro (alejand@umich.edu)\n",
    "A logistic regression forward and backward pass. Compares results to analytical computations."
   ]
  },
  {
   "cell_type": "code",
   "execution_count": 1,
   "metadata": {},
   "outputs": [],
   "source": [
    "import numpy as np\n",
    "import numpy.random as rnd\n",
    "\n",
    "import sys\n",
    "sys.path.append('../')\n",
    "\n",
    "from utils.graphs.core import Param\n",
    "from utils.graphs.core import DataHolder\n",
    "from utils.graphs.core import Graph\n",
    "from utils.graphs.core import Operation\n",
    "\n",
    "from utils.graphs.nodes import linear_node\n",
    "from utils.graphs.nodes import bias_node\n",
    "from utils.graphs.nodes import sigmoid_node\n",
    "from utils.graphs.nodes import bce_node\n",
    "\n",
    "from sklearn import datasets"
   ]
  },
  {
   "cell_type": "code",
   "execution_count": 2,
   "metadata": {},
   "outputs": [],
   "source": [
    "dataset = datasets.load_iris()"
   ]
  },
  {
   "cell_type": "code",
   "execution_count": 3,
   "metadata": {},
   "outputs": [],
   "source": [
    "predictors = dataset['data']\n",
    "responses = dataset['target'].reshape(-1,1)\n",
    "responses[responses == 2] = 1\n",
    "m,d = predictors.shape"
   ]
  },
  {
   "cell_type": "code",
   "execution_count": 4,
   "metadata": {},
   "outputs": [],
   "source": [
    "X_node = DataHolder()\n",
    "y_node = DataHolder()\n",
    "w_node = Param(shape=(d,1))\n",
    "b_node = Param(shape=(1,1))"
   ]
  },
  {
   "cell_type": "code",
   "execution_count": 5,
   "metadata": {},
   "outputs": [],
   "source": [
    "r_node = linear_node(X_node,w_node)\n",
    "z_node = bias_node(r_node,b_node)\n",
    "h_node = sigmoid_node(z_node)\n",
    "J_node = bce_node(h_node,y_node)"
   ]
  },
  {
   "cell_type": "code",
   "execution_count": 6,
   "metadata": {},
   "outputs": [
    {
     "data": {
      "text/plain": [
       "<utils.graphs.core.Graph at 0x242b1e4e348>"
      ]
     },
     "execution_count": 6,
     "metadata": {},
     "output_type": "execute_result"
    }
   ],
   "source": [
    "g = Graph()\n",
    "g.build(J_node).initialize().feed({X_node:predictors, y_node:responses})"
   ]
  },
  {
   "cell_type": "code",
   "execution_count": 7,
   "metadata": {},
   "outputs": [
    {
     "data": {
      "text/plain": [
       "<utils.graphs.core.Graph at 0x242b1e4e348>"
      ]
     },
     "execution_count": 7,
     "metadata": {},
     "output_type": "execute_result"
    }
   ],
   "source": [
    "g.forward().backward()"
   ]
  },
  {
   "cell_type": "code",
   "execution_count": 8,
   "metadata": {},
   "outputs": [],
   "source": [
    "def sigmoid(x):\n",
    "    return 1/(1+np.exp(-x))\n",
    "\n",
    "def compute_cost(w,X,y):\n",
    "    h = sigmoid(X.dot(w))\n",
    "    loglikelihood = sum([np.log(prob) if label else np.log(1-prob) for prob,label in zip(h,y)])\n",
    "    return -loglikelihood\n",
    "\n",
    "def compute_grad(w,X,y):\n",
    "    h = sigmoid(X.dot(w))\n",
    "    grad = (X.T).dot(h - y)\n",
    "    return grad"
   ]
  },
  {
   "cell_type": "code",
   "execution_count": 9,
   "metadata": {},
   "outputs": [],
   "source": [
    "X = np.hstack((np.ones((predictors.shape[0],1)), predictors))\n",
    "w = np.vstack((b_node.value,w_node.value))\n",
    "y = y_node.value"
   ]
  },
  {
   "cell_type": "code",
   "execution_count": 10,
   "metadata": {},
   "outputs": [
    {
     "name": "stdout",
     "output_type": "stream",
     "text": [
      "Convetional: [68.8358429]\n",
      "Graph: [68.8358429]\n"
     ]
    }
   ],
   "source": [
    "print('Convetional:', compute_cost(w,X,y))\n",
    "print('Graph:', J_node.value)"
   ]
  },
  {
   "cell_type": "code",
   "execution_count": 11,
   "metadata": {},
   "outputs": [
    {
     "name": "stdout",
     "output_type": "stream",
     "text": [
      "Conventional: [ -44.87399624 -276.94107244 -126.88571433 -215.5101709   -72.66582952]\n"
     ]
    }
   ],
   "source": [
    "print('Conventional:', compute_grad(w,X,y).flatten())"
   ]
  },
  {
   "cell_type": "code",
   "execution_count": 12,
   "metadata": {},
   "outputs": [
    {
     "name": "stdout",
     "output_type": "stream",
     "text": [
      "Graph: [ -44.87399624 -276.94107244 -126.88571433 -215.5101709   -72.66582952]\n"
     ]
    }
   ],
   "source": [
    "print('Graph:', np.hstack((b_node.gradient.flatten(), w_node.gradient.flatten())))"
   ]
  },
  {
   "cell_type": "code",
   "execution_count": null,
   "metadata": {},
   "outputs": [],
   "source": []
  }
 ],
 "metadata": {
  "kernelspec": {
   "display_name": "Python 3",
   "language": "python",
   "name": "python3"
  },
  "language_info": {
   "codemirror_mode": {
    "name": "ipython",
    "version": 3
   },
   "file_extension": ".py",
   "mimetype": "text/x-python",
   "name": "python",
   "nbconvert_exporter": "python",
   "pygments_lexer": "ipython3",
   "version": "3.7.6"
  }
 },
 "nbformat": 4,
 "nbformat_minor": 2
}
