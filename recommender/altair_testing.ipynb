{
 "cells": [
  {
   "cell_type": "code",
   "execution_count": 1,
   "metadata": {},
   "outputs": [],
   "source": [
    "import altair as alt\n",
    "import pandas as pd\n",
    "import os\n",
    "import pathlib"
   ]
  },
  {
   "cell_type": "code",
   "execution_count": 2,
   "metadata": {},
   "outputs": [],
   "source": [
    "DATASETS = pathlib.Path(os.environ['DATASETS'])"
   ]
  },
  {
   "cell_type": "code",
   "execution_count": 3,
   "metadata": {},
   "outputs": [],
   "source": [
    "ratings = pd.read_csv('data/ml-100k/preprocessed_ratings.csv', index_col=['userId', 'movieId'])"
   ]
  },
  {
   "cell_type": "code",
   "execution_count": 4,
   "metadata": {},
   "outputs": [],
   "source": [
    "genre_cols = [\n",
    "    \"Unknown\", \"Action\", \"Adventure\", \"Animation\", \"Children\", \"Comedy\",\n",
    "    \"Crime\", \"Documentary\", \"Drama\", \"Fantasy\", \"Film-Noir\", \"Horror\",\n",
    "    \"Musical\", \"Mystery\", \"Romance\", \"Sci-Fi\", \"Thriller\", \"War\", \"Western\"\n",
    "]\n",
    "movies_cols = [\n",
    "    'movieId', 'title', 'release_date', 'video_release_date', 'imdb_url'\n",
    "] + genre_cols"
   ]
  },
  {
   "cell_type": "code",
   "execution_count": 5,
   "metadata": {},
   "outputs": [],
   "source": [
    "movies = pd.read_csv(\n",
    "    DATASETS / 'recommender/movies/ml-100k/u.item', \n",
    "    sep='|', names=movies_cols, \n",
    "    index_col=['movieId'],\n",
    "    encoding='latin-1'\n",
    ")"
   ]
  },
  {
   "cell_type": "code",
   "execution_count": 6,
   "metadata": {},
   "outputs": [],
   "source": [
    "movies.drop(columns=['title', 'release_date', 'video_release_date', 'imdb_url'], inplace=True)"
   ]
  },
  {
   "cell_type": "code",
   "execution_count": 7,
   "metadata": {},
   "outputs": [],
   "source": [
    "merged = ratings.merge(movies, left_on='movieId', right_on='movieId')"
   ]
  },
  {
   "cell_type": "code",
   "execution_count": 8,
   "metadata": {},
   "outputs": [],
   "source": [
    "averages = [(entry, merged[merged[entry] == 1]['rating'].mean()) for entry in genre_cols]"
   ]
  },
  {
   "cell_type": "code",
   "execution_count": 9,
   "metadata": {},
   "outputs": [],
   "source": [
    "data = pd.DataFrame(averages, columns=['genre', 'avg_rating'])"
   ]
  },
  {
   "cell_type": "code",
   "execution_count": 10,
   "metadata": {},
   "outputs": [
    {
     "data": {
      "text/html": [
       "\n",
       "<div id=\"altair-viz-447d8930e57047c89920cbcd3a073b6b\"></div>\n",
       "<script type=\"text/javascript\">\n",
       "  (function(spec, embedOpt){\n",
       "    let outputDiv = document.currentScript.previousElementSibling;\n",
       "    if (outputDiv.id !== \"altair-viz-447d8930e57047c89920cbcd3a073b6b\") {\n",
       "      outputDiv = document.getElementById(\"altair-viz-447d8930e57047c89920cbcd3a073b6b\");\n",
       "    }\n",
       "    const paths = {\n",
       "      \"vega\": \"https://cdn.jsdelivr.net/npm//vega@5?noext\",\n",
       "      \"vega-lib\": \"https://cdn.jsdelivr.net/npm//vega-lib?noext\",\n",
       "      \"vega-lite\": \"https://cdn.jsdelivr.net/npm//vega-lite@4.8.1?noext\",\n",
       "      \"vega-embed\": \"https://cdn.jsdelivr.net/npm//vega-embed@6?noext\",\n",
       "    };\n",
       "\n",
       "    function loadScript(lib) {\n",
       "      return new Promise(function(resolve, reject) {\n",
       "        var s = document.createElement('script');\n",
       "        s.src = paths[lib];\n",
       "        s.async = true;\n",
       "        s.onload = () => resolve(paths[lib]);\n",
       "        s.onerror = () => reject(`Error loading script: ${paths[lib]}`);\n",
       "        document.getElementsByTagName(\"head\")[0].appendChild(s);\n",
       "      });\n",
       "    }\n",
       "\n",
       "    function showError(err) {\n",
       "      outputDiv.innerHTML = `<div class=\"error\" style=\"color:red;\">${err}</div>`;\n",
       "      throw err;\n",
       "    }\n",
       "\n",
       "    function displayChart(vegaEmbed) {\n",
       "      vegaEmbed(outputDiv, spec, embedOpt)\n",
       "        .catch(err => showError(`Javascript Error: ${err.message}<br>This usually means there's a typo in your chart specification. See the javascript console for the full traceback.`));\n",
       "    }\n",
       "\n",
       "    if(typeof define === \"function\" && define.amd) {\n",
       "      requirejs.config({paths});\n",
       "      require([\"vega-embed\"], displayChart, err => showError(`Error loading script: ${err.message}`));\n",
       "    } else if (typeof vegaEmbed === \"function\") {\n",
       "      displayChart(vegaEmbed);\n",
       "    } else {\n",
       "      loadScript(\"vega\")\n",
       "        .then(() => loadScript(\"vega-lite\"))\n",
       "        .then(() => loadScript(\"vega-embed\"))\n",
       "        .catch(showError)\n",
       "        .then(() => displayChart(vegaEmbed));\n",
       "    }\n",
       "  })({\"config\": {\"view\": {\"continuousWidth\": 400, \"continuousHeight\": 300}}, \"layer\": [{\"mark\": \"bar\", \"encoding\": {\"opacity\": {\"condition\": {\"value\": 1, \"selection\": \"selector001\"}, \"value\": 0.7}, \"x\": {\"type\": \"quantitative\", \"field\": \"avg_rating\"}, \"y\": {\"type\": \"nominal\", \"field\": \"genre\"}}, \"selection\": {\"selector001\": {\"type\": \"interval\", \"encodings\": [\"y\"]}}}, {\"mark\": {\"type\": \"rule\", \"color\": \"firebrick\"}, \"encoding\": {\"size\": {\"value\": 3}, \"x\": {\"type\": \"quantitative\", \"aggregate\": \"mean\", \"field\": \"avg_rating\"}}, \"transform\": [{\"filter\": {\"selection\": \"selector001\"}}]}], \"data\": {\"name\": \"data-e20c7ee5deb1e14d7891616ffd797191\"}, \"$schema\": \"https://vega.github.io/schema/vega-lite/v4.8.1.json\", \"datasets\": {\"data-e20c7ee5deb1e14d7891616ffd797191\": [{\"genre\": \"Unknown\", \"avg_rating\": 3.7704280155642023}, {\"genre\": \"Action\", \"avg_rating\": 3.4961561206386755}, {\"genre\": \"Adventure\", \"avg_rating\": 3.609903381642512}, {\"genre\": \"Animation\", \"avg_rating\": 3.6847518642324504}, {\"genre\": \"Children\", \"avg_rating\": 3.548727636404045}, {\"genre\": \"Comedy\", \"avg_rating\": 3.5624416170075697}, {\"genre\": \"Crime\", \"avg_rating\": 3.576936723832052}, {\"genre\": \"Documentary\", \"avg_rating\": 3.1673441734417342}, {\"genre\": \"Drama\", \"avg_rating\": 3.5720608979035946}, {\"genre\": \"Fantasy\", \"avg_rating\": 3.051470588235294}, {\"genre\": \"Film-Noir\", \"avg_rating\": 3.654386815317499}, {\"genre\": \"Horror\", \"avg_rating\": 3.370859760394644}, {\"genre\": \"Musical\", \"avg_rating\": 3.7849013657056148}, {\"genre\": \"Mystery\", \"avg_rating\": 3.5771687615907686}, {\"genre\": \"Romance\", \"avg_rating\": 3.6172087129668737}, {\"genre\": \"Sci-Fi\", \"avg_rating\": 3.5970134194329533}, {\"genre\": \"Thriller\", \"avg_rating\": 3.4626517007577915}, {\"genre\": \"War\", \"avg_rating\": 3.75505553973227}, {\"genre\": \"Western\", \"avg_rating\": 3.7474977252047315}]}}, {\"mode\": \"vega-lite\"});\n",
       "</script>"
      ],
      "text/plain": [
       "alt.LayerChart(...)"
      ]
     },
     "execution_count": 10,
     "metadata": {},
     "output_type": "execute_result"
    }
   ],
   "source": [
    "brush = alt.selection(type='interval', encodings=['y'])\n",
    "\n",
    "bars = alt.Chart().mark_bar().encode(\n",
    "    y='genre',\n",
    "    x='avg_rating',\n",
    "    opacity=alt.condition(brush, alt.OpacityValue(1), alt.OpacityValue(0.7))\n",
    ").add_selection(\n",
    "    brush\n",
    ")\n",
    "\n",
    "line = alt.Chart().mark_rule(color='firebrick').encode(\n",
    "    x='mean(avg_rating):Q',\n",
    "    size=alt.SizeValue(3)\n",
    ").transform_filter(\n",
    "    brush\n",
    ")\n",
    "alt.layer(bars, line, data=data)"
   ]
  },
  {
   "cell_type": "code",
   "execution_count": null,
   "metadata": {},
   "outputs": [],
   "source": []
  }
 ],
 "metadata": {
  "kernelspec": {
   "display_name": "Python 3",
   "language": "python",
   "name": "python3"
  },
  "language_info": {
   "codemirror_mode": {
    "name": "ipython",
    "version": 3
   },
   "file_extension": ".py",
   "mimetype": "text/x-python",
   "name": "python",
   "nbconvert_exporter": "python",
   "pygments_lexer": "ipython3",
   "version": "3.8.5"
  }
 },
 "nbformat": 4,
 "nbformat_minor": 4
}
