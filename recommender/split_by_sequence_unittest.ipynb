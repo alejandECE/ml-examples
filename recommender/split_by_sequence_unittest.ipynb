{
 "cells": [
  {
   "cell_type": "markdown",
   "metadata": {},
   "source": [
    "###  Created by Luis A. Sanchez-Perez (l.alejandro.2011@gmail.com).\n",
    "<p><span style=\"color:green\"><b>Copyright &#169;</b> Do not distribute or use without authorization from author.</span></p>"
   ]
  },
  {
   "cell_type": "code",
   "execution_count": 1,
   "metadata": {},
   "outputs": [],
   "source": [
    "import pandas as pd\n",
    "import numpy as np\n",
    "import pathlib\n",
    "import os\n",
    "from tqdm import tqdm\n",
    "import utils"
   ]
  },
  {
   "cell_type": "code",
   "execution_count": 2,
   "metadata": {},
   "outputs": [],
   "source": [
    "tqdm.pandas()"
   ]
  },
  {
   "cell_type": "code",
   "execution_count": 3,
   "metadata": {},
   "outputs": [],
   "source": [
    "DATASETS = pathlib.Path(os.environ['DATASETS'])"
   ]
  },
  {
   "cell_type": "code",
   "execution_count": 4,
   "metadata": {},
   "outputs": [],
   "source": [
    "with open('data/ml-100k/splits/sequence/user_to_index.txt') as file:\n",
    "    index_to_user = [int(entry.strip()) for entry in file.readlines()]"
   ]
  },
  {
   "cell_type": "code",
   "execution_count": 5,
   "metadata": {},
   "outputs": [],
   "source": [
    "with open('data/ml-100k/splits/sequence/movie_to_index.txt') as file:\n",
    "    index_to_movie = [int(entry.strip()) for entry in file.readlines()]"
   ]
  },
  {
   "cell_type": "code",
   "execution_count": 6,
   "metadata": {},
   "outputs": [],
   "source": [
    "train_df = pd.read_csv('data/ml-100k/splits/sequence/train_df.csv')"
   ]
  },
  {
   "cell_type": "code",
   "execution_count": 7,
   "metadata": {},
   "outputs": [],
   "source": [
    "test_df = pd.read_csv('data/ml-100k/splits/sequence/test_df.csv', index_col='userId')"
   ]
  },
  {
   "cell_type": "code",
   "execution_count": 8,
   "metadata": {},
   "outputs": [],
   "source": [
    "dataset = pd.read_csv(DATASETS / 'recommender/movies/ml-100k/u.data',\n",
    "                      sep='\\t', names=['userId', 'movieId', 'rating', 'timestamp'], encoding='latin-1',\n",
    "                      index_col=['userId', 'movieId'])"
   ]
  },
  {
   "cell_type": "code",
   "execution_count": 9,
   "metadata": {},
   "outputs": [],
   "source": [
    "def check_training_sequences(user_data):\n",
    "    index = user_data['userId'].values[0]\n",
    "    user = index_to_user[index]\n",
    "    movies = dataset.loc[user]\n",
    "    indices = [index_to_movie[entry] for entry in user_data.iloc[:, 1].values]\n",
    "    previous = movies.loc[indices]['timestamp']\n",
    "    for i in range(2, 6):\n",
    "        indices = [index_to_movie[entry] for entry in user_data.iloc[:, i].values]   \n",
    "        current = movies.loc[indices]['timestamp']\n",
    "        if (previous.values > current.values).any():\n",
    "            return False\n",
    "        previous = current\n",
    "    return True"
   ]
  },
  {
   "cell_type": "code",
   "execution_count": 10,
   "metadata": {
    "scrolled": true
   },
   "outputs": [
    {
     "name": "stderr",
     "output_type": "stream",
     "text": [
      "100%|██████████| 943/943 [00:01<00:00, 566.31it/s]\n"
     ]
    }
   ],
   "source": [
    "assert train_df.groupby(by='userId', group_keys=False).progress_apply(check_training_sequences).all()"
   ]
  },
  {
   "cell_type": "code",
   "execution_count": 11,
   "metadata": {},
   "outputs": [],
   "source": [
    "def check_user_last_target(user_data):\n",
    "    index = user_data['userId'].values[0]\n",
    "    user = index_to_user[index]\n",
    "    movies = dataset.loc[user]\n",
    "    indices = [index_to_movie[entry] for entry in user_data['target'].values]\n",
    "    max_timestamp = movies.loc[indices]['timestamp'].max()\n",
    "    return max_timestamp <= movies.loc[index_to_movie[test_df.loc[index]['target']]]['timestamp']"
   ]
  },
  {
   "cell_type": "code",
   "execution_count": 12,
   "metadata": {},
   "outputs": [
    {
     "name": "stderr",
     "output_type": "stream",
     "text": [
      "100%|██████████| 943/943 [00:00<00:00, 1175.05it/s]\n"
     ]
    }
   ],
   "source": [
    "assert train_df.groupby(by='userId', group_keys=False).progress_apply(check_user_last_target).all()"
   ]
  },
  {
   "cell_type": "code",
   "execution_count": null,
   "metadata": {},
   "outputs": [],
   "source": []
  }
 ],
 "metadata": {
  "kernelspec": {
   "display_name": "Python 3",
   "language": "python",
   "name": "python3"
  },
  "language_info": {
   "codemirror_mode": {
    "name": "ipython",
    "version": 3
   },
   "file_extension": ".py",
   "mimetype": "text/x-python",
   "name": "python",
   "nbconvert_exporter": "python",
   "pygments_lexer": "ipython3",
   "version": "3.8.5"
  }
 },
 "nbformat": 4,
 "nbformat_minor": 4
}
