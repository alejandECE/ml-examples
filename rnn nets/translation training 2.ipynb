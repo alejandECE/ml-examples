{
 "cells": [
  {
   "cell_type": "markdown",
   "metadata": {},
   "source": [
    "###  Created by Luis Alejandro (alejand@umich.edu)"
   ]
  },
  {
   "cell_type": "code",
   "execution_count": 1,
   "metadata": {},
   "outputs": [],
   "source": [
    "import tensorflow as tf\n",
    "import numpy as np\n",
    "from utils import unicode_to_ascii\n",
    "from dataset import DatasetBuilder\n",
    "from attention_translation import preprocess\n",
    "from attention_translation import Translator\n",
    "import os\n",
    "os.environ[\"TF_FORCE_GPU_ALLOW_GROWTH\"]=\"true\""
   ]
  },
  {
   "cell_type": "code",
   "execution_count": 2,
   "metadata": {},
   "outputs": [
    {
     "data": {
      "text/plain": [
       "[PhysicalDevice(name='/physical_device:GPU:0', device_type='GPU')]"
      ]
     },
     "execution_count": 2,
     "metadata": {},
     "output_type": "execute_result"
    }
   ],
   "source": [
    "# GPU?\n",
    "tf.config.experimental.list_physical_devices('GPU')"
   ]
  },
  {
   "cell_type": "code",
   "execution_count": 3,
   "metadata": {},
   "outputs": [],
   "source": [
    "# Creates dataset for training\n",
    "files = ['../../datasets/nlp/english-spanish.txt']\n",
    "builder = DatasetBuilder(files, preprocessors=(preprocess,preprocess), batch_size=64, max_obs=30000, test_obs=20)\n",
    "train_dataset, test_dataset = builder.build()"
   ]
  },
  {
   "cell_type": "code",
   "execution_count": 4,
   "metadata": {},
   "outputs": [],
   "source": [
    "# Defining model\n",
    "translator = Translator(builder.source_tokenizer.word_to_index,\n",
    "                        builder.target_tokenizer.word_to_index,\n",
    "                        source_embedding_size=256,\n",
    "                        target_embedding_size=256,\n",
    "                        max_output_length=builder.target_tokenizer.max_seq,\n",
    "                        attention_size=512,\n",
    "                        restore=True)"
   ]
  },
  {
   "cell_type": "code",
   "execution_count": 13,
   "metadata": {
    "scrolled": true
   },
   "outputs": [
    {
     "name": "stdout",
     "output_type": "stream",
     "text": [
      "Epoch 1 out of 10 complete (36.43 secs) -- Train Loss: 0.1255 -- Train Acc: 0.97 -- Test Loss: 0.7724 -- Test Acc: 0.90\n",
      "Epoch 2 out of 10 complete (35.17 secs) -- Train Loss: 0.1154 -- Train Acc: 0.97 -- Test Loss: 0.7537 -- Test Acc: 0.91\n",
      "Epoch 3 out of 10 complete (34.85 secs) -- Train Loss: 0.1065 -- Train Acc: 0.97 -- Test Loss: 0.7909 -- Test Acc: 0.90\n",
      "Epoch 4 out of 10 complete (35.74 secs) -- Train Loss: 0.0991 -- Train Acc: 0.97 -- Test Loss: 0.8132 -- Test Acc: 0.91\n",
      "Epoch 5 out of 10 complete (36.62 secs) -- Train Loss: 0.0919 -- Train Acc: 0.97 -- Test Loss: 0.7587 -- Test Acc: 0.91\n",
      "Epoch 6 out of 10 complete (37.91 secs) -- Train Loss: 0.0871 -- Train Acc: 0.97 -- Test Loss: 0.7994 -- Test Acc: 0.91\n",
      "Epoch 7 out of 10 complete (37.05 secs) -- Train Loss: 0.0819 -- Train Acc: 0.97 -- Test Loss: 0.8053 -- Test Acc: 0.90\n",
      "Epoch 8 out of 10 complete (36.37 secs) -- Train Loss: 0.0775 -- Train Acc: 0.97 -- Test Loss: 0.8036 -- Test Acc: 0.90\n",
      "Epoch 9 out of 10 complete (38.49 secs) -- Train Loss: 0.0741 -- Train Acc: 0.98 -- Test Loss: 0.8325 -- Test Acc: 0.90\n",
      "Epoch 10 out of 10 complete (36.35 secs) -- Train Loss: 0.0727 -- Train Acc: 0.98 -- Test Loss: 0.7840 -- Test Acc: 0.91\n",
      "Creating intermediate checkpoint!\n",
      "Creating final checkpoint!\n"
     ]
    }
   ],
   "source": [
    "# Training model\n",
    "translator.train(10,train_dataset, test_dataset)"
   ]
  },
  {
   "cell_type": "code",
   "execution_count": 14,
   "metadata": {},
   "outputs": [
    {
     "name": "stdout",
     "output_type": "stream",
     "text": [
      "tf.Tensor([b'<start>' b'i' b'm' b'very' b'happy' b'to' b'see' b'you' b'.' b'<end>'], shape=(10,), dtype=string)\n",
      "tf.Tensor([[  0  17  49 946 295 255 104 105   2   3   0]], shape=(1, 11), dtype=int32)\n"
     ]
    }
   ],
   "source": [
    "# Creating some input\n",
    "source = b\"I'm very happy to see you.\"\n",
    "source = preprocess(tf.constant(source))\n",
    "source = tf.strings.split(tf.constant(source))\n",
    "print(source)\n",
    "source = builder.source_tokenizer.encode(source.numpy())\n",
    "source = tf.constant(np.pad(source,(0,builder.source_tokenizer.max_seq - len(source))),\n",
    "                     shape=[1,builder.source_tokenizer.max_seq])\n",
    "print(source)"
   ]
  },
  {
   "cell_type": "code",
   "execution_count": 15,
   "metadata": {},
   "outputs": [
    {
     "name": "stdout",
     "output_type": "stream",
     "text": [
      "estoy contento de verte .\n"
     ]
    }
   ],
   "source": [
    "# Outputing model translation\n",
    "print(' '.join(builder.target_tokenizer.index_to_word[word].decode() for word in translator.translate(source))) "
   ]
  },
  {
   "cell_type": "code",
   "execution_count": 16,
   "metadata": {},
   "outputs": [
    {
     "name": "stdout",
     "output_type": "stream",
     "text": [
      "Original: ellos aplaudieron .\n",
      "Translation: nosotros aplaudimos .\n",
      "\n",
      "Original: es nuevo .\n",
      "Translation: es nuevo .\n",
      "\n",
      "Original: me gusta el empleo que tengo .\n",
      "Translation: me encanta mi trabajo .\n",
      "\n",
      "Original: que guey !\n",
      "Translation: que idiota !\n",
      "\n",
      "Original: te vamos a extranar .\n",
      "Translation: te extranamos .\n",
      "\n",
      "Original: tengo mala suerte .\n",
      "Translation: yo soy la cena .\n",
      "\n",
      "Original: estoy emocionado .\n",
      "Translation: estoy emocionada .\n",
      "\n",
      "Original: quiero palomitas de maiz .\n",
      "Translation: quiero palomitas .\n",
      "\n",
      "Original: soy buena para cocinar .\n",
      "Translation: soy un buen cocinero .\n",
      "\n",
      "Original: hazlo ahorita .\n",
      "Translation: hazlo ahora mismo .\n",
      "\n",
      "Original: ayudanos .\n",
      "Translation: nosotros nos preguntamos .\n",
      "\n",
      "Original: ¿ esta tom farfullando ?\n",
      "Translation: ¿ esta tom involucrado en esto ?\n",
      "\n",
      "Original: nunca me rindo .\n",
      "Translation: no me rindo nunca .\n",
      "\n",
      "Original: pase .\n",
      "Translation: pase .\n",
      "\n",
      "Original: encargate tu .\n",
      "Translation: asume el mando .\n",
      "\n",
      "Original: quedese en casa .\n",
      "Translation: quedaos en casa .\n",
      "\n",
      "Original: es tu vida .\n",
      "Translation: es tu vida .\n",
      "\n",
      "Original: corre .\n",
      "Translation: tu vas a un cigarrillo .\n",
      "\n",
      "Original: le hizo llorar .\n",
      "Translation: el queria llorar .\n",
      "\n",
      "Original: yo hice mi parte .\n",
      "Translation: yo hice mi parte .\n",
      "\n"
     ]
    }
   ],
   "source": [
    "# Check translation for elements in test set\n",
    "for batch in test_dataset:\n",
    "    for source, target in zip(batch[0], batch[1]):\n",
    "        source = tf.expand_dims(source,0)\n",
    "        print('Original:', ' '.join(builder.target_tokenizer.index_to_word[word].decode() for word in target.numpy() \n",
    "                                   if word != builder.target_tokenizer.word_to_index[b'<start>'] \n",
    "                                   and word != builder.target_tokenizer.word_to_index[b'<end>'])) \n",
    "        print('Translation:', ' '.join(builder.target_tokenizer.index_to_word[word].decode() \n",
    "                                       for word in translator.translate(source)),end='\\n\\n')      "
   ]
  },
  {
   "cell_type": "code",
   "execution_count": null,
   "metadata": {},
   "outputs": [],
   "source": []
  }
 ],
 "metadata": {
  "kernelspec": {
   "display_name": "Python 3",
   "language": "python",
   "name": "python3"
  },
  "language_info": {
   "codemirror_mode": {
    "name": "ipython",
    "version": 3
   },
   "file_extension": ".py",
   "mimetype": "text/x-python",
   "name": "python",
   "nbconvert_exporter": "python",
   "pygments_lexer": "ipython3",
   "version": "3.7.6"
  }
 },
 "nbformat": 4,
 "nbformat_minor": 4
}
