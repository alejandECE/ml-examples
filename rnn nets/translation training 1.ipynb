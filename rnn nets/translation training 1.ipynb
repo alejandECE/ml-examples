{
 "cells": [
  {
   "cell_type": "markdown",
   "metadata": {},
   "source": [
    "###  Created by Luis Alejandro (alejand@umich.edu)"
   ]
  },
  {
   "cell_type": "code",
   "execution_count": 1,
   "metadata": {},
   "outputs": [],
   "source": [
    "import tensorflow as tf\n",
    "import numpy as np\n",
    "from utils import unicode_to_ascii\n",
    "from dataset import DatasetBuilder\n",
    "from basic_translation import preprocess\n",
    "from basic_translation import Translator\n",
    "import os\n",
    "os.environ[\"TF_FORCE_GPU_ALLOW_GROWTH\"]=\"true\""
   ]
  },
  {
   "cell_type": "code",
   "execution_count": 2,
   "metadata": {},
   "outputs": [
    {
     "data": {
      "text/plain": [
       "[PhysicalDevice(name='/physical_device:GPU:0', device_type='GPU')]"
      ]
     },
     "execution_count": 2,
     "metadata": {},
     "output_type": "execute_result"
    }
   ],
   "source": [
    "# GPU?\n",
    "tf.config.experimental.list_physical_devices('GPU')"
   ]
  },
  {
   "cell_type": "code",
   "execution_count": 3,
   "metadata": {},
   "outputs": [],
   "source": [
    "# Creates dataset for training\n",
    "files = ['../../datasets/nlp/english-spanish.txt']\n",
    "builder = DatasetBuilder(files, preprocessors=(preprocess,preprocess), batch_size=64, max_obs=40000, test_obs=20)\n",
    "train_dataset, test_dataset = builder.build()"
   ]
  },
  {
   "cell_type": "code",
   "execution_count": 4,
   "metadata": {},
   "outputs": [],
   "source": [
    "# Load embedding matrix (glove vectors) -> these will only be used for English (source/input)\n",
    "embedding_size = 100\n",
    "word_to_vector = {}\n",
    "with open('../../datasets/glove.6B/glove.6B.%sd.txt' % embedding_size, encoding='utf8') as file:\n",
    "    for line in file:\n",
    "        values = line.split()\n",
    "        word = unicode_to_ascii(values[0])\n",
    "        vector = np.asarray(values[1:],dtype=np.float32)\n",
    "        word_to_vector[word] = vector\n",
    "        \n",
    "embedding_vectors = np.zeros((len(builder.source_tokenizer.word_to_index), embedding_size))\n",
    "for word, index in builder.source_tokenizer.word_to_index.items():\n",
    "    if word.decode() in word_to_vector:\n",
    "        embedding_vectors[index,:] = word_to_vector[word.decode()]"
   ]
  },
  {
   "cell_type": "code",
   "execution_count": 5,
   "metadata": {},
   "outputs": [],
   "source": [
    "# Defining model\n",
    "translator = Translator(builder.source_tokenizer,\n",
    "                        builder.target_tokenizer,\n",
    "                        source_embedding_matrix=embedding_vectors,\n",
    "                        target_embedding_size=embedding_size,\n",
    "                        max_output_length=builder.target_tokenizer.max_seq,\n",
    "                        restore=True,\n",
    "                        masking=False)"
   ]
  },
  {
   "cell_type": "code",
   "execution_count": 6,
   "metadata": {
    "scrolled": false
   },
   "outputs": [
    {
     "name": "stdout",
     "output_type": "stream",
     "text": [
      "Epoch 1 out of 15 complete (55.49 secs) -- Train Loss: 1915.7638 -- Train Acc: 0.72 -- Test Loss: 452.1208 -- Test Acc: 0.76\n",
      "Epoch 2 out of 15 complete (19.79 secs) -- Train Loss: 1385.7570 -- Train Acc: 0.78 -- Test Loss: 375.3958 -- Test Acc: 0.80\n",
      "Epoch 3 out of 15 complete (19.79 secs) -- Train Loss: 1165.6428 -- Train Acc: 0.81 -- Test Loss: 318.2838 -- Test Acc: 0.82\n",
      "Epoch 4 out of 15 complete (19.82 secs) -- Train Loss: 989.5719 -- Train Acc: 0.82 -- Test Loss: 276.9268 -- Test Acc: 0.83\n",
      "Epoch 5 out of 15 complete (19.82 secs) -- Train Loss: 847.0971 -- Train Acc: 0.84 -- Test Loss: 255.3964 -- Test Acc: 0.84\n",
      "Epoch 6 out of 15 complete (19.84 secs) -- Train Loss: 731.2919 -- Train Acc: 0.85 -- Test Loss: 231.3786 -- Test Acc: 0.84\n",
      "Epoch 7 out of 15 complete (19.81 secs) -- Train Loss: 634.0085 -- Train Acc: 0.86 -- Test Loss: 209.9299 -- Test Acc: 0.86\n",
      "Epoch 8 out of 15 complete (19.81 secs) -- Train Loss: 551.5997 -- Train Acc: 0.88 -- Test Loss: 194.5173 -- Test Acc: 0.87\n",
      "Epoch 9 out of 15 complete (19.82 secs) -- Train Loss: 480.2345 -- Train Acc: 0.89 -- Test Loss: 191.4980 -- Test Acc: 0.88\n",
      "Epoch 10 out of 15 complete (20.35 secs) -- Train Loss: 420.3810 -- Train Acc: 0.90 -- Test Loss: 188.0411 -- Test Acc: 0.88\n",
      "Creating intermediate checkpoint!\n",
      "Epoch 11 out of 15 complete (20.35 secs) -- Train Loss: 368.7138 -- Train Acc: 0.91 -- Test Loss: 179.3494 -- Test Acc: 0.89\n",
      "Epoch 12 out of 15 complete (19.99 secs) -- Train Loss: 325.6644 -- Train Acc: 0.92 -- Test Loss: 178.1027 -- Test Acc: 0.88\n",
      "Epoch 13 out of 15 complete (20.11 secs) -- Train Loss: 289.9043 -- Train Acc: 0.93 -- Test Loss: 169.9807 -- Test Acc: 0.89\n",
      "Epoch 14 out of 15 complete (19.81 secs) -- Train Loss: 259.4419 -- Train Acc: 0.93 -- Test Loss: 179.3220 -- Test Acc: 0.89\n",
      "Epoch 15 out of 15 complete (19.83 secs) -- Train Loss: 233.1875 -- Train Acc: 0.94 -- Test Loss: 166.9748 -- Test Acc: 0.89\n",
      "Creating final checkpoint!\n"
     ]
    }
   ],
   "source": [
    "# Training model\n",
    "translator.train(15, train_dataset, test_dataset)"
   ]
  },
  {
   "cell_type": "code",
   "execution_count": 7,
   "metadata": {},
   "outputs": [
    {
     "name": "stdout",
     "output_type": "stream",
     "text": [
      "Expected: el renuncio .\n",
      "Translation: se fue dormido .\n",
      "\n",
      "Expected: le di todo a tom .\n",
      "Translation: le di a tom que lo cierto .\n",
      "\n",
      "Expected: no me pidas dinero .\n",
      "Translation: no me culpes por eso .\n",
      "\n",
      "Expected: ¿ te sientes afortunado ?\n",
      "Translation: ¿ te sientes afortunado ?\n",
      "\n",
      "Expected: siempre se esta riendo .\n",
      "Translation: siempre esta bromeando .\n",
      "\n",
      "Expected: solia vivir alli .\n",
      "Translation: yo solia vivir alli .\n",
      "\n",
      "Expected: todos ustedes estan invitados .\n",
      "Translation: todos estan invitadas .\n",
      "\n",
      "Expected: ¿ tom trabaja para mary ?\n",
      "Translation: ¿ tom trabaja en mary ?\n",
      "\n",
      "Expected: ¿ puedo llamarte de vuelta ?\n",
      "Translation: ¿ te puedo llamar de vuelta ?\n",
      "\n",
      "Expected: estoy descalzo .\n",
      "Translation: estoy reventado .\n",
      "\n",
      "Expected: parece egipcio .\n",
      "Translation: parece confidencial .\n",
      "\n",
      "Expected: te quiero acompanar .\n",
      "Translation: quiero ir con vos .\n",
      "\n",
      "Expected: ¿ por que no estas en casa ?\n",
      "Translation: ¿ por que no estas en casa ?\n",
      "\n",
      "Expected: yo me siento aqui .\n",
      "Translation: estoy aqui aqui .\n",
      "\n",
      "Expected: no voy a decir ni una palabra .\n",
      "Translation: no me hagas una palabra .\n",
      "\n",
      "Expected: ese ruido me distrae .\n",
      "Translation: eso me desconcierta .\n",
      "\n",
      "Expected: es la tarea de tom .\n",
      "Translation: es el trabajo de tom .\n",
      "\n",
      "Expected: ¿ esa radio es tuya ?\n",
      "Translation: ¿ es eso tuyo ?\n",
      "\n",
      "Expected: ¿ quien rompio la taza ?\n",
      "Translation: ¿ quien quebro la taza ?\n",
      "\n",
      "Expected: se mas flexible .\n",
      "Translation: mas mas razonable .\n",
      "\n"
     ]
    }
   ],
   "source": [
    "# Test model\n",
    "translator.evaluate(test_dataset)"
   ]
  },
  {
   "cell_type": "code",
   "execution_count": 8,
   "metadata": {},
   "outputs": [
    {
     "name": "stdout",
     "output_type": "stream",
     "text": [
      "Epoch 1 out of 15 complete (20.00 secs) -- Train Loss: 211.1373 -- Train Acc: 0.94 -- Test Loss: 161.4949 -- Test Acc: 0.90\n",
      "Epoch 2 out of 15 complete (19.95 secs) -- Train Loss: 192.2778 -- Train Acc: 0.95 -- Test Loss: 167.7374 -- Test Acc: 0.89\n",
      "Epoch 3 out of 15 complete (19.91 secs) -- Train Loss: 175.5346 -- Train Acc: 0.95 -- Test Loss: 167.2835 -- Test Acc: 0.89\n",
      "Epoch 4 out of 15 complete (19.80 secs) -- Train Loss: 160.7040 -- Train Acc: 0.96 -- Test Loss: 175.7200 -- Test Acc: 0.88\n",
      "Epoch 5 out of 15 complete (19.80 secs) -- Train Loss: 147.8123 -- Train Acc: 0.96 -- Test Loss: 170.0994 -- Test Acc: 0.89\n",
      "Epoch 6 out of 15 complete (19.81 secs) -- Train Loss: 136.6789 -- Train Acc: 0.96 -- Test Loss: 176.2223 -- Test Acc: 0.89\n",
      "Epoch 7 out of 15 complete (19.79 secs) -- Train Loss: 127.1132 -- Train Acc: 0.96 -- Test Loss: 165.4771 -- Test Acc: 0.89\n",
      "Epoch 8 out of 15 complete (19.91 secs) -- Train Loss: 118.2793 -- Train Acc: 0.97 -- Test Loss: 177.9667 -- Test Acc: 0.89\n",
      "Epoch 9 out of 15 complete (19.87 secs) -- Train Loss: 110.5985 -- Train Acc: 0.97 -- Test Loss: 173.8289 -- Test Acc: 0.89\n",
      "Epoch 10 out of 15 complete (20.19 secs) -- Train Loss: 104.0923 -- Train Acc: 0.97 -- Test Loss: 174.7171 -- Test Acc: 0.90\n",
      "Creating intermediate checkpoint!\n",
      "Epoch 11 out of 15 complete (20.54 secs) -- Train Loss: 98.5926 -- Train Acc: 0.97 -- Test Loss: 182.0443 -- Test Acc: 0.89\n",
      "Epoch 12 out of 15 complete (21.29 secs) -- Train Loss: 93.6270 -- Train Acc: 0.97 -- Test Loss: 187.1328 -- Test Acc: 0.89\n",
      "Epoch 13 out of 15 complete (20.16 secs) -- Train Loss: 89.2331 -- Train Acc: 0.97 -- Test Loss: 178.9691 -- Test Acc: 0.89\n",
      "Epoch 14 out of 15 complete (19.98 secs) -- Train Loss: 84.5148 -- Train Acc: 0.97 -- Test Loss: 185.8229 -- Test Acc: 0.87\n",
      "Epoch 15 out of 15 complete (20.50 secs) -- Train Loss: 81.2890 -- Train Acc: 0.97 -- Test Loss: 172.6646 -- Test Acc: 0.88\n",
      "Creating final checkpoint!\n"
     ]
    }
   ],
   "source": [
    "# Training model\n",
    "translator.train(15, train_dataset, test_dataset)"
   ]
  },
  {
   "cell_type": "code",
   "execution_count": 9,
   "metadata": {},
   "outputs": [
    {
     "name": "stdout",
     "output_type": "stream",
     "text": [
      "Expected: el renuncio .\n",
      "Translation: se fue bajo .\n",
      "\n",
      "Expected: le di todo a tom .\n",
      "Translation: le di a tom .\n",
      "\n",
      "Expected: no me pidas dinero .\n",
      "Translation: no pidas dinero .\n",
      "\n",
      "Expected: ¿ te sientes afortunado ?\n",
      "Translation: ¿ tu tienes mucho ?\n",
      "\n",
      "Expected: siempre se esta riendo .\n",
      "Translation: el siempre se pasa .\n",
      "\n",
      "Expected: solia vivir alli .\n",
      "Translation: yo solia vivir alli .\n",
      "\n",
      "Expected: todos ustedes estan invitados .\n",
      "Translation: todas ustedes estan invitadas .\n",
      "\n",
      "Expected: ¿ tom trabaja para mary ?\n",
      "Translation: ¿ trabaja tom para mary ?\n",
      "\n",
      "Expected: ¿ puedo llamarte de vuelta ?\n",
      "Translation: ¿ te puedo llamar de vuelta ?\n",
      "\n",
      "Expected: estoy descalzo .\n",
      "Translation: estoy agotado .\n",
      "\n",
      "Expected: parece egipcio .\n",
      "Translation: se ve egipcio .\n",
      "\n",
      "Expected: te quiero acompanar .\n",
      "Translation: quiero ir con vos .\n",
      "\n",
      "Expected: ¿ por que no estas en casa ?\n",
      "Translation: ¿ por que no estas en la escuela ?\n",
      "\n",
      "Expected: yo me siento aqui .\n",
      "Translation: estoy aqui por mi .\n",
      "\n",
      "Expected: no voy a decir ni una palabra .\n",
      "Translation: no voy a decir una palabra .\n",
      "\n",
      "Expected: ese ruido me distrae .\n",
      "Translation: eso me desconcierta .\n",
      "\n",
      "Expected: es la tarea de tom .\n",
      "Translation: es el deber de tom .\n",
      "\n",
      "Expected: ¿ esa radio es tuya ?\n",
      "Translation: ¿ eso es tu tuya ?\n",
      "\n",
      "Expected: ¿ quien rompio la taza ?\n",
      "Translation: ¿ quien quebro esa taza ?\n",
      "\n",
      "Expected: se mas flexible .\n",
      "Translation: mas mas mas que necesitaba .\n",
      "\n"
     ]
    }
   ],
   "source": [
    "# Test model\n",
    "translator.evaluate(test_dataset)"
   ]
  },
  {
   "cell_type": "code",
   "execution_count": 10,
   "metadata": {},
   "outputs": [
    {
     "name": "stdout",
     "output_type": "stream",
     "text": [
      "tf.Tensor([b'<start>' b'i' b'm' b'very' b'happy' b'to' b'see' b'you' b'.' b'<end>'], shape=(10,), dtype=string)\n",
      "tf.Tensor([[  1  18  50 947 296 256 105 106   3   4   0   0]], shape=(1, 12), dtype=int32)\n"
     ]
    }
   ],
   "source": [
    "# Creating some input\n",
    "source = b\"I'm very happy to see you.\"\n",
    "source = preprocess(tf.constant(source))\n",
    "source = tf.strings.split(tf.constant(source))\n",
    "print(source)\n",
    "source = builder.source_tokenizer.encode(source.numpy())\n",
    "source = tf.constant(np.pad(source,(0,builder.source_tokenizer.max_seq - len(source))),\n",
    "                     shape=[1,builder.source_tokenizer.max_seq])\n",
    "print(source)"
   ]
  },
  {
   "cell_type": "code",
   "execution_count": 11,
   "metadata": {},
   "outputs": [
    {
     "name": "stdout",
     "output_type": "stream",
     "text": [
      "estoy muy feliz de verte . <end>\n"
     ]
    }
   ],
   "source": [
    "# Outputing model translation\n",
    "prediction = translator.translate(source)\n",
    "print(' '.join(builder.target_tokenizer.index_to_word[word].decode() for word in prediction))"
   ]
  }
 ],
 "metadata": {
  "kernelspec": {
   "display_name": "Python 3",
   "language": "python",
   "name": "python3"
  },
  "language_info": {
   "codemirror_mode": {
    "name": "ipython",
    "version": 3
   },
   "file_extension": ".py",
   "mimetype": "text/x-python",
   "name": "python",
   "nbconvert_exporter": "python",
   "pygments_lexer": "ipython3",
   "version": "3.7.6"
  }
 },
 "nbformat": 4,
 "nbformat_minor": 4
}
