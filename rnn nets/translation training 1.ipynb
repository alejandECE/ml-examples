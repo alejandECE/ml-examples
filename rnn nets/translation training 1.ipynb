{
 "cells": [
  {
   "cell_type": "markdown",
   "metadata": {},
   "source": [
    "###  Created by Luis Alejandro (alejand@umich.edu)"
   ]
  },
  {
   "cell_type": "code",
   "execution_count": 1,
   "metadata": {},
   "outputs": [],
   "source": [
    "import tensorflow as tf\n",
    "import numpy as np\n",
    "from utils import unicode_to_ascii\n",
    "from dataset import DatasetBuilder\n",
    "from translation import preprocess\n",
    "from translation import Encoder, Decoder, Translator\n",
    "import os\n",
    "os.environ[\"TF_FORCE_GPU_ALLOW_GROWTH\"]=\"true\""
   ]
  },
  {
   "cell_type": "code",
   "execution_count": 2,
   "metadata": {},
   "outputs": [
    {
     "data": {
      "text/plain": [
       "[PhysicalDevice(name='/physical_device:GPU:0', device_type='GPU')]"
      ]
     },
     "execution_count": 2,
     "metadata": {},
     "output_type": "execute_result"
    }
   ],
   "source": [
    "# GPU?\n",
    "tf.config.experimental.list_physical_devices('GPU')"
   ]
  },
  {
   "cell_type": "code",
   "execution_count": 3,
   "metadata": {},
   "outputs": [],
   "source": [
    "# Creates dataset for training\n",
    "files = ['../../datasets/nlp/english-spanish.txt']\n",
    "builder = DatasetBuilder(files, preprocessors=(preprocess,preprocess), batch_size=64, max_obs=30000, test_obs=20)\n",
    "train_dataset, test_dataset = builder.build()"
   ]
  },
  {
   "cell_type": "code",
   "execution_count": 4,
   "metadata": {},
   "outputs": [],
   "source": [
    "# Load embedding matrix (glove vectors) -> these will only be used for English (source/input)\n",
    "embedding_size = 100\n",
    "word_to_vector = {}\n",
    "with open('../../datasets/glove.6B/glove.6B.%sd.txt' % embedding_size, encoding='utf8') as file:\n",
    "    for line in file:\n",
    "        values = line.split()\n",
    "        word = unicode_to_ascii(values[0])\n",
    "        vector = np.asarray(values[1:],dtype=np.float32)\n",
    "        word_to_vector[word] = vector\n",
    "        \n",
    "embedding_vectors = np.zeros((len(builder.source_tokenizer.word_to_index), embedding_size))\n",
    "for word, index in builder.source_tokenizer.word_to_index.items():\n",
    "    if word.decode() in word_to_vector:\n",
    "        embedding_vectors[index,:] = word_to_vector[word.decode()]"
   ]
  },
  {
   "cell_type": "code",
   "execution_count": 5,
   "metadata": {},
   "outputs": [],
   "source": [
    "# Defining model\n",
    "translator = Translator(builder.source_tokenizer.word_to_index,\n",
    "                        builder.target_tokenizer.word_to_index,\n",
    "                        source_embedding_matrix=embedding_vectors,\n",
    "                        target_embedding_dim=embedding_size,\n",
    "                        max_output_length=builder.target_tokenizer.max_seq,\n",
    "                        restore=True)"
   ]
  },
  {
   "cell_type": "code",
   "execution_count": 6,
   "metadata": {
    "scrolled": true
   },
   "outputs": [
    {
     "name": "stdout",
     "output_type": "stream",
     "text": [
      "Epoch 1 out of 4 complete (23.83 secs) -- Train Loss: 0.3125 -- Train Acc: 0.93 -- Test Loss: 0.3426 -- Test Acc: 0.93\n",
      "Epoch 2 out of 4 complete (15.45 secs) -- Train Loss: 0.2775 -- Train Acc: 0.93 -- Test Loss: 0.3466 -- Test Acc: 0.92\n",
      "Epoch 3 out of 4 complete (15.53 secs) -- Train Loss: 0.2485 -- Train Acc: 0.94 -- Test Loss: 0.3682 -- Test Acc: 0.92\n",
      "Epoch 4 out of 4 complete (15.46 secs) -- Train Loss: 0.2229 -- Train Acc: 0.94 -- Test Loss: 0.3692 -- Test Acc: 0.93\n",
      "Creating final checkpoint!\n"
     ]
    }
   ],
   "source": [
    "# Training model\n",
    "translator.train(4,train_dataset, test_dataset)"
   ]
  },
  {
   "cell_type": "code",
   "execution_count": 7,
   "metadata": {},
   "outputs": [
    {
     "name": "stdout",
     "output_type": "stream",
     "text": [
      "tf.Tensor([b'<start>' b'i' b'm' b'very' b'happy' b'to' b'see' b'you' b'.' b'<end>'], shape=(10,), dtype=string)\n",
      "tf.Tensor([[  0  17  49 946 295 255 104 105   2   3   0]], shape=(1, 11), dtype=int32)\n"
     ]
    }
   ],
   "source": [
    "# Creating some input\n",
    "source = b\"I'm very happy to see you.\"\n",
    "source = preprocess(tf.constant(source))\n",
    "source = tf.strings.split(tf.constant(source))\n",
    "print(source)\n",
    "source = builder.source_tokenizer.encode(source.numpy())\n",
    "source = tf.constant(np.pad(source,(0,builder.source_tokenizer.max_seq - len(source))),\n",
    "                     shape=[1,builder.source_tokenizer.max_seq])\n",
    "print(source)"
   ]
  },
  {
   "cell_type": "code",
   "execution_count": 8,
   "metadata": {},
   "outputs": [
    {
     "name": "stdout",
     "output_type": "stream",
     "text": [
      "estoy feliz de verte .\n"
     ]
    }
   ],
   "source": [
    "# Outputing model translation\n",
    "print(' '.join(builder.target_tokenizer.index_to_word[word].decode() for word in translator.translate(source))) "
   ]
  },
  {
   "cell_type": "code",
   "execution_count": 9,
   "metadata": {},
   "outputs": [
    {
     "name": "stdout",
     "output_type": "stream",
     "text": [
      "Original deja de quejarte .\n",
      "Translation: deja de chismorrear .\n",
      "\n",
      "Original ¿ quien es tom ?\n",
      "Translation: ¿ quien es tom ?\n",
      "\n",
      "Original ¿ a que viene esto ?\n",
      "Translation: ¿ por que esto es ?\n",
      "\n",
      "Original yo os quise .\n",
      "Translation: yo te queria .\n",
      "\n",
      "Original renunciemos .\n",
      "Translation: desistamos .\n",
      "\n",
      "Original eso es bueno .\n",
      "Translation: es perfecto .\n",
      "\n",
      "Original soy adulta .\n",
      "Translation: soy adulto .\n",
      "\n",
      "Original odio el futbol .\n",
      "Translation: odio el futbol .\n",
      "\n",
      "Original prueba esto .\n",
      "Translation: prueben esto .\n",
      "\n",
      "Original nos estamos mudando .\n",
      "Translation: nos estamos acercando .\n",
      "\n",
      "Original yo te respeto .\n",
      "Translation: te respeto .\n",
      "\n",
      "Original despues veremos .\n",
      "Translation: veremos .\n",
      "\n",
      "Original soy malo .\n",
      "Translation: estoy de acuerdo .\n",
      "\n",
      "Original me escape .\n",
      "Translation: me escapaba .\n",
      "\n",
      "Original mira aqui .\n",
      "Translation: mira aqui .\n",
      "\n",
      "Original ¿ a poco si ?\n",
      "Translation: ¿ es correcta ?\n",
      "\n",
      "Original funciona bien .\n",
      "Translation: funciona bien .\n",
      "\n",
      "Original ven temprano .\n",
      "Translation: ven temprano .\n",
      "\n",
      "Original ¿ quienes son ellos ?\n",
      "Translation: ¿ quienes son ?\n",
      "\n",
      "Original baja .\n",
      "Translation: baje .\n",
      "\n"
     ]
    }
   ],
   "source": [
    "# Check translation for elements in test set\n",
    "for batch in test_dataset:\n",
    "    for source, target in zip(batch[0], batch[1]):\n",
    "        source = tf.expand_dims(source,0)\n",
    "        print('Original', ' '.join(builder.target_tokenizer.index_to_word[word].decode() for word in target.numpy() \n",
    "                                   if word != builder.target_tokenizer.word_to_index[b'<start>'] \n",
    "                                   and word != builder.target_tokenizer.word_to_index[b'<end>'])) \n",
    "        print('Translation:', ' '.join(builder.target_tokenizer.index_to_word[word].decode() \n",
    "                                       for word in translator.translate(source)),end='\\n\\n')      "
   ]
  },
  {
   "cell_type": "code",
   "execution_count": null,
   "metadata": {},
   "outputs": [],
   "source": []
  }
 ],
 "metadata": {
  "kernelspec": {
   "display_name": "Python 3",
   "language": "python",
   "name": "python3"
  },
  "language_info": {
   "codemirror_mode": {
    "name": "ipython",
    "version": 3
   },
   "file_extension": ".py",
   "mimetype": "text/x-python",
   "name": "python",
   "nbconvert_exporter": "python",
   "pygments_lexer": "ipython3",
   "version": "3.7.6"
  }
 },
 "nbformat": 4,
 "nbformat_minor": 4
}
