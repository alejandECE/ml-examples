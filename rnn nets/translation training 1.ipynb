{
 "cells": [
  {
   "cell_type": "markdown",
   "metadata": {},
   "source": [
    "###  Created by Luis Alejandro (alejand@umich.edu)"
   ]
  },
  {
   "cell_type": "code",
   "execution_count": 1,
   "metadata": {},
   "outputs": [],
   "source": [
    "import tensorflow as tf\n",
    "import numpy as np\n",
    "from utils import unicode_to_ascii\n",
    "from dataset import DatasetBuilder\n",
    "from basic_translation import preprocess\n",
    "from basic_translation import Translator\n",
    "import os\n",
    "os.environ[\"TF_FORCE_GPU_ALLOW_GROWTH\"]=\"true\""
   ]
  },
  {
   "cell_type": "code",
   "execution_count": 2,
   "metadata": {},
   "outputs": [
    {
     "data": {
      "text/plain": [
       "[PhysicalDevice(name='/physical_device:GPU:0', device_type='GPU')]"
      ]
     },
     "execution_count": 2,
     "metadata": {},
     "output_type": "execute_result"
    }
   ],
   "source": [
    "# GPU?\n",
    "tf.config.experimental.list_physical_devices('GPU')"
   ]
  },
  {
   "cell_type": "code",
   "execution_count": 3,
   "metadata": {},
   "outputs": [],
   "source": [
    "# Creates dataset for training\n",
    "files = ['../../datasets/nlp/english-spanish.txt']\n",
    "builder = DatasetBuilder(files, preprocessors=(preprocess,preprocess), batch_size=64, max_obs=30000, test_obs=20)\n",
    "train_dataset, test_dataset = builder.build()"
   ]
  },
  {
   "cell_type": "code",
   "execution_count": 4,
   "metadata": {},
   "outputs": [],
   "source": [
    "# Load embedding matrix (glove vectors) -> these will only be used for English (source/input)\n",
    "embedding_size = 100\n",
    "word_to_vector = {}\n",
    "with open('../../datasets/glove.6B/glove.6B.%sd.txt' % embedding_size, encoding='utf8') as file:\n",
    "    for line in file:\n",
    "        values = line.split()\n",
    "        word = unicode_to_ascii(values[0])\n",
    "        vector = np.asarray(values[1:],dtype=np.float32)\n",
    "        word_to_vector[word] = vector\n",
    "        \n",
    "embedding_vectors = np.zeros((len(builder.source_tokenizer.word_to_index), embedding_size))\n",
    "for word, index in builder.source_tokenizer.word_to_index.items():\n",
    "    if word.decode() in word_to_vector:\n",
    "        embedding_vectors[index,:] = word_to_vector[word.decode()]"
   ]
  },
  {
   "cell_type": "code",
   "execution_count": 5,
   "metadata": {},
   "outputs": [],
   "source": [
    "# Defining model\n",
    "translator = Translator(builder.source_tokenizer.word_to_index,\n",
    "                        builder.target_tokenizer.word_to_index,\n",
    "                        source_embedding_matrix=embedding_vectors,\n",
    "                        target_embedding_size=embedding_size,\n",
    "                        max_output_length=builder.target_tokenizer.max_seq,\n",
    "                        restore=True)"
   ]
  },
  {
   "cell_type": "code",
   "execution_count": 6,
   "metadata": {
    "scrolled": false
   },
   "outputs": [
    {
     "name": "stdout",
     "output_type": "stream",
     "text": [
      "Epoch 1 out of 20 complete (24.03 secs) -- Train Loss: 1.9192 -- Train Acc: 0.74 -- Test Loss: 1.2630 -- Test Acc: 0.81\n",
      "Epoch 2 out of 20 complete (17.88 secs) -- Train Loss: 1.3576 -- Train Acc: 0.80 -- Test Loss: 1.0558 -- Test Acc: 0.83\n",
      "Epoch 3 out of 20 complete (18.21 secs) -- Train Loss: 1.1492 -- Train Acc: 0.82 -- Test Loss: 0.9122 -- Test Acc: 0.85\n",
      "Epoch 4 out of 20 complete (17.84 secs) -- Train Loss: 0.9945 -- Train Acc: 0.83 -- Test Loss: 0.7961 -- Test Acc: 0.85\n",
      "Epoch 5 out of 20 complete (17.86 secs) -- Train Loss: 0.8676 -- Train Acc: 0.85 -- Test Loss: 0.7142 -- Test Acc: 0.86\n",
      "Epoch 6 out of 20 complete (18.19 secs) -- Train Loss: 0.7596 -- Train Acc: 0.86 -- Test Loss: 0.6424 -- Test Acc: 0.87\n",
      "Epoch 7 out of 20 complete (18.75 secs) -- Train Loss: 0.6659 -- Train Acc: 0.87 -- Test Loss: 0.5750 -- Test Acc: 0.90\n",
      "Epoch 8 out of 20 complete (17.68 secs) -- Train Loss: 0.5828 -- Train Acc: 0.88 -- Test Loss: 0.5389 -- Test Acc: 0.90\n",
      "Epoch 9 out of 20 complete (17.86 secs) -- Train Loss: 0.5107 -- Train Acc: 0.89 -- Test Loss: 0.5058 -- Test Acc: 0.90\n",
      "Epoch 10 out of 20 complete (17.75 secs) -- Train Loss: 0.4474 -- Train Acc: 0.90 -- Test Loss: 0.4706 -- Test Acc: 0.90\n",
      "Creating intermediate checkpoint!\n",
      "Epoch 11 out of 20 complete (17.63 secs) -- Train Loss: 0.3933 -- Train Acc: 0.91 -- Test Loss: 0.4495 -- Test Acc: 0.91\n",
      "Epoch 12 out of 20 complete (17.73 secs) -- Train Loss: 0.3467 -- Train Acc: 0.92 -- Test Loss: 0.4310 -- Test Acc: 0.91\n",
      "Epoch 13 out of 20 complete (17.92 secs) -- Train Loss: 0.3067 -- Train Acc: 0.93 -- Test Loss: 0.4185 -- Test Acc: 0.91\n",
      "Epoch 14 out of 20 complete (18.14 secs) -- Train Loss: 0.2731 -- Train Acc: 0.93 -- Test Loss: 0.4152 -- Test Acc: 0.91\n",
      "Epoch 15 out of 20 complete (18.57 secs) -- Train Loss: 0.2445 -- Train Acc: 0.94 -- Test Loss: 0.4139 -- Test Acc: 0.91\n",
      "Epoch 16 out of 20 complete (18.39 secs) -- Train Loss: 0.2198 -- Train Acc: 0.95 -- Test Loss: 0.3964 -- Test Acc: 0.93\n",
      "Epoch 17 out of 20 complete (17.91 secs) -- Train Loss: 0.1992 -- Train Acc: 0.95 -- Test Loss: 0.4103 -- Test Acc: 0.91\n",
      "Epoch 18 out of 20 complete (17.54 secs) -- Train Loss: 0.1810 -- Train Acc: 0.95 -- Test Loss: 0.4057 -- Test Acc: 0.92\n",
      "Epoch 19 out of 20 complete (17.82 secs) -- Train Loss: 0.1653 -- Train Acc: 0.96 -- Test Loss: 0.4284 -- Test Acc: 0.92\n",
      "Epoch 20 out of 20 complete (17.65 secs) -- Train Loss: 0.1512 -- Train Acc: 0.96 -- Test Loss: 0.4079 -- Test Acc: 0.91\n",
      "Creating intermediate checkpoint!\n",
      "Creating final checkpoint!\n"
     ]
    }
   ],
   "source": [
    "# Training model\n",
    "translator.train(20, train_dataset, test_dataset)"
   ]
  },
  {
   "cell_type": "code",
   "execution_count": 7,
   "metadata": {},
   "outputs": [
    {
     "name": "stdout",
     "output_type": "stream",
     "text": [
      "tf.Tensor([b'<start>' b'i' b'm' b'very' b'happy' b'to' b'see' b'you' b'.' b'<end>'], shape=(10,), dtype=string)\n",
      "tf.Tensor([[  0  17  49 946 295 255 104 105   2   3   0]], shape=(1, 11), dtype=int32)\n"
     ]
    }
   ],
   "source": [
    "# Creating some input\n",
    "source = b\"I'm very happy to see you.\"\n",
    "source = preprocess(tf.constant(source))\n",
    "source = tf.strings.split(tf.constant(source))\n",
    "print(source)\n",
    "source = builder.source_tokenizer.encode(source.numpy())\n",
    "source = tf.constant(np.pad(source,(0,builder.source_tokenizer.max_seq - len(source))),\n",
    "                     shape=[1,builder.source_tokenizer.max_seq])\n",
    "print(source)"
   ]
  },
  {
   "cell_type": "code",
   "execution_count": 8,
   "metadata": {},
   "outputs": [
    {
     "name": "stdout",
     "output_type": "stream",
     "text": [
      "estoy muy feliz de verte . <end>\n"
     ]
    }
   ],
   "source": [
    "# Outputing model translation\n",
    "prediction = translator.translate(source)\n",
    "print(' '.join(builder.target_tokenizer.index_to_word[word].decode() for word in prediction))"
   ]
  },
  {
   "cell_type": "code",
   "execution_count": 9,
   "metadata": {},
   "outputs": [
    {
     "name": "stdout",
     "output_type": "stream",
     "text": [
      "Expected: es canadiense .\n",
      "Translation: es canadiense .\n",
      "\n",
      "Expected: ¿ esta loco tom ?\n",
      "Translation: ¿ tom esta loco ?\n",
      "\n",
      "Expected: los dos estan vivos .\n",
      "Translation: los hombres estan vivos .\n",
      "\n",
      "Expected: ¿ es eso un anillo ?\n",
      "Translation: ¿ es ese ese sombrero ?\n",
      "\n",
      "Expected: parese aqui mismo .\n",
      "Translation: parate aqui mismo .\n",
      "\n",
      "Expected: estudiad mas .\n",
      "Translation: estudia mas .\n",
      "\n",
      "Expected: estoy sin dinero .\n",
      "Translation: no tengo un chavo .\n",
      "\n",
      "Expected: esto es mejor .\n",
      "Translation: esto es mejor .\n",
      "\n",
      "Expected: confia en dios .\n",
      "Translation: confia en dios en dios .\n",
      "\n",
      "Expected: ¿ le conozco ?\n",
      "Translation: ¿ lo conozco ?\n",
      "\n",
      "Expected: sos un perdedor .\n",
      "Translation: tu eres un perdedor .\n",
      "\n",
      "Expected: sabiamos eso .\n",
      "Translation: lo sabiamos .\n",
      "\n",
      "Expected: no era nuestra .\n",
      "Translation: no fue nuestro .\n",
      "\n",
      "Expected: ella esta en peligro .\n",
      "Translation: esta en peligro .\n",
      "\n",
      "Expected: yo extrano a mi mama .\n",
      "Translation: echo mi mama .\n",
      "\n",
      "Expected: ese perro salto .\n",
      "Translation: ese perro brinco .\n",
      "\n",
      "Expected: no estoy mintiendo .\n",
      "Translation: no miento .\n",
      "\n",
      "Expected: yo lo escribi .\n",
      "Translation: lo llame .\n",
      "\n",
      "Expected: aca estoy otra vez .\n",
      "Translation: aqui estoy aqui .\n",
      "\n",
      "Expected: yo no cante .\n",
      "Translation: yo no canto .\n",
      "\n"
     ]
    }
   ],
   "source": [
    "# Check translation for elements in test set\n",
    "for batch in test_dataset:\n",
    "    for source, target in zip(batch[0], batch[1]):\n",
    "        # Prepares input\n",
    "        source = tf.expand_dims(source,0)\n",
    "        # Prints expected translation\n",
    "        words = []\n",
    "        for word in target.numpy():\n",
    "            decoded = builder.target_tokenizer.index_to_word[word].decode()\n",
    "            words.append(decoded)\n",
    "            if decoded == '<end>':\n",
    "                break\n",
    "        print('Expected:', ' '.join(words[1:-1]))\n",
    "        # Prints actual translation\n",
    "        words = []\n",
    "        prediction = translator.translate(source)\n",
    "        for word in prediction:\n",
    "            decoded = builder.target_tokenizer.index_to_word[word].decode()\n",
    "            words.append(decoded)\n",
    "        print('Translation:', ' '.join(words[:-1]), end='\\n\\n')   "
   ]
  }
 ],
 "metadata": {
  "kernelspec": {
   "display_name": "Python 3",
   "language": "python",
   "name": "python3"
  },
  "language_info": {
   "codemirror_mode": {
    "name": "ipython",
    "version": 3
   },
   "file_extension": ".py",
   "mimetype": "text/x-python",
   "name": "python",
   "nbconvert_exporter": "python",
   "pygments_lexer": "ipython3",
   "version": "3.7.6"
  }
 },
 "nbformat": 4,
 "nbformat_minor": 4
}
