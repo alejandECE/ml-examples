{
 "cells": [
  {
   "cell_type": "code",
   "execution_count": 1,
   "metadata": {},
   "outputs": [],
   "source": [
    "import tensorflow as tf\n",
    "import numpy as np\n",
    "from utils import unicode_to_ascii\n",
    "from dataset import DatasetBuilder\n",
    "from translation import preprocess\n",
    "from translation import Encoder, Decoder, Translator\n",
    "import os\n",
    "os.environ[\"TF_FORCE_GPU_ALLOW_GROWTH\"]=\"true\""
   ]
  },
  {
   "cell_type": "code",
   "execution_count": 2,
   "metadata": {},
   "outputs": [
    {
     "data": {
      "text/plain": [
       "[PhysicalDevice(name='/physical_device:GPU:0', device_type='GPU')]"
      ]
     },
     "execution_count": 2,
     "metadata": {},
     "output_type": "execute_result"
    }
   ],
   "source": [
    "# GPU?\n",
    "tf.config.experimental.list_physical_devices('GPU')"
   ]
  },
  {
   "cell_type": "code",
   "execution_count": 3,
   "metadata": {},
   "outputs": [],
   "source": [
    "# Creates dataset for training\n",
    "files = ['../../datasets/nlp/english-spanish.txt']\n",
    "builder = DatasetBuilder(files, preprocessors=(preprocess,preprocess), batch_size=64, max_obs=60000)\n",
    "dataset = builder.build(logged=True)"
   ]
  },
  {
   "cell_type": "code",
   "execution_count": 4,
   "metadata": {},
   "outputs": [],
   "source": [
    "# Load embedding matrix (glove vectors) -> these will only be used for English (source/input)\n",
    "embedding_size = 100\n",
    "word_to_vector = {}\n",
    "with open('../../datasets/glove.6B/glove.6B.%sd.txt' % embedding_size, encoding='utf8') as file:\n",
    "    for line in file:\n",
    "        values = line.split()\n",
    "        word = unicode_to_ascii(values[0])\n",
    "        vector = np.asarray(values[1:],dtype=np.float32)\n",
    "        word_to_vector[word] = vector\n",
    "        \n",
    "embedding_vectors = np.zeros((len(builder.source_tokenizer.word_to_index), embedding_size))\n",
    "for word, index in builder.source_tokenizer.word_to_index.items():\n",
    "    if word.decode() in word_to_vector:\n",
    "        embedding_vectors[index,:] = word_to_vector[word.decode()]"
   ]
  },
  {
   "cell_type": "code",
   "execution_count": 5,
   "metadata": {},
   "outputs": [],
   "source": [
    "# Defining model\n",
    "translator = Translator(builder.source_tokenizer.word_to_index,\n",
    "                        builder.target_tokenizer.word_to_index,\n",
    "                        source_embedding_matrix=embedding_vectors,\n",
    "                        target_embedding_dim=embedding_size,\n",
    "                        max_output_length=builder.target_tokenizer.max_seq)"
   ]
  },
  {
   "cell_type": "code",
   "execution_count": 6,
   "metadata": {
    "scrolled": false
   },
   "outputs": [
    {
     "name": "stdout",
     "output_type": "stream",
     "text": [
      "Epoch 1 out of 15 complete (52.7884751 secs) -- Loss: 1.6411 -- Accuracy: 0.77\n",
      "Epoch 2 out of 15 complete (45.6843626 secs) -- Loss: 1.1138 -- Accuracy: 0.82\n",
      "Epoch 3 out of 15 complete (45.19065889999999 secs) -- Loss: 0.8660 -- Accuracy: 0.85\n",
      "Epoch 4 out of 15 complete (46.6768835 secs) -- Loss: 0.6955 -- Accuracy: 0.87\n",
      "Epoch 5 out of 15 complete (46.2414977 secs) -- Loss: 0.5724 -- Accuracy: 0.88\n",
      "Epoch 6 out of 15 complete (47.965723699999955 secs) -- Loss: 0.4782 -- Accuracy: 0.90\n",
      "Epoch 7 out of 15 complete (46.743928900000014 secs) -- Loss: 0.4048 -- Accuracy: 0.91\n",
      "Epoch 8 out of 15 complete (46.9050239 secs) -- Loss: 0.3467 -- Accuracy: 0.92\n",
      "Epoch 9 out of 15 complete (45.62400969999999 secs) -- Loss: 0.3006 -- Accuracy: 0.93\n",
      "Epoch 10 out of 15 complete (45.05480749999998 secs) -- Loss: 0.2641 -- Accuracy: 0.94\n",
      "Epoch 11 out of 15 complete (45.09541779999995 secs) -- Loss: 0.2346 -- Accuracy: 0.94\n",
      "Epoch 12 out of 15 complete (45.141294899999934 secs) -- Loss: 0.2106 -- Accuracy: 0.95\n",
      "Epoch 13 out of 15 complete (45.33356079999999 secs) -- Loss: 0.1902 -- Accuracy: 0.95\n",
      "Epoch 14 out of 15 complete (46.0591263 secs) -- Loss: 0.1728 -- Accuracy: 0.96\n",
      "Epoch 15 out of 15 complete (46.35636879999993 secs) -- Loss: 0.1574 -- Accuracy: 0.96\n"
     ]
    }
   ],
   "source": [
    "# Training model\n",
    "translator.train(15,dataset)"
   ]
  },
  {
   "cell_type": "code",
   "execution_count": 11,
   "metadata": {},
   "outputs": [
    {
     "name": "stdout",
     "output_type": "stream",
     "text": [
      "tf.Tensor([b'<start>' b'i' b'm' b'very' b'happy' b'to' b'see' b'you' b'.' b'<end>'], shape=(10,), dtype=string)\n",
      "tf.Tensor([[  0  17  49 946 295 255 104 105   2   3   0   0   0]], shape=(1, 13), dtype=int32)\n"
     ]
    }
   ],
   "source": [
    "# Creating some input\n",
    "source = b\"I'm very happy to see you.\"\n",
    "source = preprocess(tf.constant(source))\n",
    "source = tf.strings.split(tf.constant(source))\n",
    "print(source)\n",
    "source = builder.source_tokenizer.encode(source.numpy())\n",
    "source = tf.constant(np.pad(source,(0,builder.source_tokenizer.max_seq - len(source))),\n",
    "                     shape=[1,builder.source_tokenizer.max_seq])\n",
    "print(source)"
   ]
  },
  {
   "cell_type": "code",
   "execution_count": 12,
   "metadata": {},
   "outputs": [
    {
     "name": "stdout",
     "output_type": "stream",
     "text": [
      "estoy muy feliz con verte .\n"
     ]
    }
   ],
   "source": [
    "# Outputing model translation\n",
    "print(' '.join(builder.target_tokenizer.index_to_word[word].decode() for word in translator(source))) "
   ]
  },
  {
   "cell_type": "code",
   "execution_count": null,
   "metadata": {},
   "outputs": [],
   "source": []
  }
 ],
 "metadata": {
  "kernelspec": {
   "display_name": "Python 3",
   "language": "python",
   "name": "python3"
  },
  "language_info": {
   "codemirror_mode": {
    "name": "ipython",
    "version": 3
   },
   "file_extension": ".py",
   "mimetype": "text/x-python",
   "name": "python",
   "nbconvert_exporter": "python",
   "pygments_lexer": "ipython3",
   "version": "3.7.6"
  }
 },
 "nbformat": 4,
 "nbformat_minor": 4
}
