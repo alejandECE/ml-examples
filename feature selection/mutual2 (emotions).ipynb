{
 "cells": [
  {
   "cell_type": "markdown",
   "metadata": {},
   "source": [
    "###  Created by Luis A. Sanchez-Perez (alejand@umich.edu).\n",
    "<p><span style=\"color:green\"><b>Copyright &#169;</b> Do not distribute or use without authorization from author.</span></p>"
   ]
  },
  {
   "cell_type": "markdown",
   "metadata": {},
   "source": [
    "Applies the Mutual Information (MI) ranking criterion to the text emotions dataset"
   ]
  },
  {
   "cell_type": "code",
   "execution_count": 1,
   "metadata": {},
   "outputs": [],
   "source": [
    "import pandas as pd\n",
    "import re\n",
    "import time\n",
    "import numpy as np\n",
    "from sklearn.metrics import accuracy_score\n",
    "from sklearn.feature_selection import mutual_info_classif\n",
    "from sklearn.model_selection import train_test_split\n",
    "from sklearn.feature_extraction.text import CountVectorizer\n",
    "from sklearn.preprocessing import LabelEncoder\n",
    "from utils.vectorizer import Vectorizer\n",
    "from utils.mutual import MutualInfo\n",
    "from utils.reports import report_feature_ranking"
   ]
  },
  {
   "cell_type": "code",
   "execution_count": 2,
   "metadata": {
    "scrolled": true
   },
   "outputs": [
    {
     "name": "stdout",
     "output_type": "stream",
     "text": [
      "['anger' 'boredom' 'empty' 'enthusiasm' 'fun' 'happiness' 'hate' 'love'\n",
      " 'neutral' 'relief' 'sadness' 'surprise' 'worry']\n"
     ]
    }
   ],
   "source": [
    "# Importing the dataset\n",
    "dataset = pd.read_csv('E:/datasets/classification/text_emotions/train_data.csv')\n",
    "corpus = dataset.iloc[:,1].values\n",
    "responses = dataset.iloc[:,0].values\n",
    "print(np.unique(responses))\n",
    "lc = LabelEncoder()\n",
    "responses = lc.fit_transform(responses)\n",
    "min_freq = 20\n",
    "max_freq = 10000\n",
    "# Conditioning text and generates dictionary of word\n",
    "dictionary = dict()\n",
    "for i in range(len(corpus)):\n",
    "    corpus[i] = corpus[i].lower()\n",
    "    corpus[i] = re.sub(r'[^a-z\\'\\s]',' ',corpus[i])\n",
    "    corpus[i] = re.sub(r'[^a-z]+[\\']|[\\'][^a-z]+',' ',corpus[i])"
   ]
  },
  {
   "cell_type": "code",
   "execution_count": 3,
   "metadata": {},
   "outputs": [],
   "source": [
    "def extract_features_custom (corpus):\n",
    "    start = time.perf_counter()\n",
    "    # ------------------------------------------------------\n",
    "    cv = Vectorizer(corpus, min_freq=min_freq, max_freq=max_freq)\n",
    "    X = cv.fit()\n",
    "    # ------------------------------------------------------   \n",
    "    end = time.perf_counter()\n",
    "    print(end - start, ' seconds')\n",
    "    # Converts matrix to nparray\n",
    "    X = X.toarray()\n",
    "    # Outputs validation\n",
    "    cv.output_validation()\n",
    "    return X,cv"
   ]
  },
  {
   "cell_type": "code",
   "execution_count": 4,
   "metadata": {},
   "outputs": [],
   "source": [
    "# Extracts the features using built-in funciton in sklearn\n",
    "def extract_features_sklearn (corpus):\n",
    "    start = time.perf_counter()\n",
    "    # ------------------------------------------------------\n",
    "    cv = CountVectorizer(min_df=min_freq + 1, max_df=max_freq - 1)\n",
    "    X = cv.fit_transform(corpus)\n",
    "    # ------------------------------------------------------   \n",
    "    end = time.perf_counter()\n",
    "    print(end - start, ' seconds')\n",
    "    # Converts matrix to nparray\n",
    "    X = X.toarray()\n",
    "    # Verifies data matrix\n",
    "    print(sum(X[0,:]))\n",
    "    print(corpus[0])\n",
    "    return X,cv"
   ]
  },
  {
   "cell_type": "code",
   "execution_count": 5,
   "metadata": {
    "scrolled": false
   },
   "outputs": [
    {
     "name": "stdout",
     "output_type": "stream",
     "text": [
      "0.41588860000000016  seconds\n",
      "11\n",
      " tiffanylue i know  i was listenin to bad habit earlier and i started freakin at his part   \n",
      "(30000, 1579)\n",
      "0.3711934000000001  seconds\n",
      "1476\n",
      "item: crash in qmbol\n",
      "column: [1012   89]\n",
      "data: [1 1]\n",
      "crash\n",
      "in\n",
      "(30000, 1640)\n"
     ]
    }
   ],
   "source": [
    "# Split dataset into train and test sets\n",
    "predictors,cv = extract_features_sklearn(corpus)\n",
    "print(predictors.shape)\n",
    "predictors,cv = extract_features_custom(corpus)\n",
    "print(predictors.shape)\n",
    "predictors_filtered = predictors\n",
    "#predictors_filtered[predictors_filtered > 1] = 1\n",
    "X, X_holdout, y, y_holdout = train_test_split(predictors_filtered,responses,test_size = 0.20, stratify=responses)"
   ]
  },
  {
   "cell_type": "code",
   "execution_count": 6,
   "metadata": {
    "scrolled": true
   },
   "outputs": [
    {
     "name": "stdout",
     "output_type": "stream",
     "text": [
      "Using parallel version\n",
      "3.0801088000000005  seconds\n"
     ]
    }
   ],
   "source": [
    "# Computes MI with custom implementation\n",
    "start = time.perf_counter()\n",
    "mi = MutualInfo(X,y,n_jobs=4)\n",
    "mi.compute()\n",
    "end = time.perf_counter()\n",
    "print(end - start, ' seconds')"
   ]
  },
  {
   "cell_type": "code",
   "execution_count": 7,
   "metadata": {},
   "outputs": [
    {
     "name": "stdout",
     "output_type": "stream",
     "text": [
      "Feature ranked 1 is 'love' with value 2.85E-02\n",
      "Feature ranked 2 is 'hate' with value 1.94E-02\n",
      "Feature ranked 3 is 'sad' with value 1.92E-02\n",
      "Feature ranked 4 is 'thanks' with value 1.11E-02\n",
      "Feature ranked 5 is 'happy' with value 1.07E-02\n",
      "Feature ranked 6 is 'miss' with value 9.71E-03\n",
      "Feature ranked 7 is 'good' with value 8.71E-03\n",
      "Feature ranked 8 is 'my' with value 8.63E-03\n",
      "Feature ranked 9 is 'sorry' with value 7.60E-03\n",
      "Feature ranked 10 is 'great' with value 7.52E-03\n",
      ".\n",
      ".\n",
      ".\n",
      "\n",
      "Feature ranked 1631 is 'sunday' with value 1.59E-04\n",
      "Feature ranked 1632 is 'training' with value 1.58E-04\n",
      "Feature ranked 1633 is 'street' with value 1.55E-04\n",
      "Feature ranked 1634 is 'fight' with value 1.51E-04\n",
      "Feature ranked 1635 is 'men' with value 1.47E-04\n",
      "Feature ranked 1636 is 'six' with value 1.37E-04\n",
      "Feature ranked 1637 is 'bc' with value 1.30E-04\n",
      "Feature ranked 1638 is 'gd' with value 1.20E-04\n",
      "Feature ranked 1639 is 'wanting' with value 1.10E-04\n",
      "Feature ranked 1640 is 'sent' with value 8.10E-05\n"
     ]
    }
   ],
   "source": [
    "# Reports result\n",
    "report_feature_ranking(mi.info, cv.words, 20)"
   ]
  },
  {
   "cell_type": "code",
   "execution_count": 8,
   "metadata": {},
   "outputs": [
    {
     "name": "stdout",
     "output_type": "stream",
     "text": [
      "Elpased time: 335.9162398\n"
     ]
    }
   ],
   "source": [
    "# Computes MI with sklearn implementation\n",
    "start = time.perf_counter()\n",
    "mi = mutual_info_classif(X,y)\n",
    "end = time.perf_counter()\n",
    "print('Elpased time:', end-start)"
   ]
  },
  {
   "cell_type": "code",
   "execution_count": 9,
   "metadata": {},
   "outputs": [
    {
     "name": "stdout",
     "output_type": "stream",
     "text": [
      "Feature ranked 1 is 'miss' with value 1.79E-02\n",
      "Feature ranked 2 is 'sad' with value 1.75E-02\n",
      "Feature ranked 3 is 'often' with value 1.31E-02\n",
      "Feature ranked 4 is 'america' with value 1.20E-02\n",
      "Feature ranked 5 is 'x' with value 1.20E-02\n",
      "Feature ranked 6 is 'not' with value 1.16E-02\n",
      "Feature ranked 7 is 'moment' with value 1.16E-02\n",
      "Feature ranked 8 is 'thank' with value 1.15E-02\n",
      "Feature ranked 9 is 'neither' with value 1.14E-02\n",
      "Feature ranked 10 is 'facebook' with value 1.13E-02\n",
      ".\n",
      ".\n",
      ".\n",
      "\n",
      "Feature ranked 1631 is 'staying' with value 0.00E+00\n",
      "Feature ranked 1632 is 'word' with value 0.00E+00\n",
      "Feature ranked 1633 is 'somebody' with value 0.00E+00\n",
      "Feature ranked 1634 is 'smh' with value 0.00E+00\n",
      "Feature ranked 1635 is 'coming' with value 0.00E+00\n",
      "Feature ranked 1636 is 'ddlovato' with value 0.00E+00\n",
      "Feature ranked 1637 is 'library' with value 0.00E+00\n",
      "Feature ranked 1638 is 'stopped' with value 0.00E+00\n",
      "Feature ranked 1639 is 'huh' with value 0.00E+00\n",
      "Feature ranked 1640 is 'know' with value 0.00E+00\n"
     ]
    }
   ],
   "source": [
    "# Reports result\n",
    "report_feature_ranking(mi, cv.words, 20)"
   ]
  }
 ],
 "metadata": {
  "kernelspec": {
   "display_name": "Python 3",
   "language": "python",
   "name": "python3"
  },
  "language_info": {
   "codemirror_mode": {
    "name": "ipython",
    "version": 3
   },
   "file_extension": ".py",
   "mimetype": "text/x-python",
   "name": "python",
   "nbconvert_exporter": "python",
   "pygments_lexer": "ipython3",
   "version": "3.7.6"
  }
 },
 "nbformat": 4,
 "nbformat_minor": 2
}
