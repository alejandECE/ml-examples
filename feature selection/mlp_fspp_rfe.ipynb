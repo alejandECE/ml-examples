{
 "cells": [
  {
   "cell_type": "markdown",
   "metadata": {},
   "source": [
    "###  Created by Luis A. Sanchez-Perez (alejand@umich.edu).\n",
    "<p><span style=\"color:green\"><b>Copyright &#169;</b> Do not distribute or use without authorization from author.</span></p>"
   ]
  },
  {
   "cell_type": "markdown",
   "metadata": {},
   "source": [
    "### MLP-FSPP-RFE\n",
    "Performs a recursive feature elimination (RFE) approach using feature sensitivity to posterior probability (FSPP) for MLP according to https://ieeexplore.ieee.org/abstract/document/5282531"
   ]
  },
  {
   "cell_type": "code",
   "execution_count": 1,
   "metadata": {},
   "outputs": [],
   "source": [
    "import numpy as np\n",
    "from sklearn import datasets\n",
    "from sklearn.preprocessing import StandardScaler\n",
    "from sklearn.model_selection import train_test_split\n",
    "from sklearn.neural_network import MLPClassifier\n",
    "from sklearn.model_selection import cross_validate\n",
    "from sklearn.metrics import accuracy_score\n",
    "from sklearn.pipeline import Pipeline\n",
    "import matplotlib.pyplot as plt\n",
    "from utils.fspp import get_fspp"
   ]
  },
  {
   "cell_type": "code",
   "execution_count": 2,
   "metadata": {},
   "outputs": [
    {
     "name": "stdout",
     "output_type": "stream",
     "text": [
      "['mean radius' 'mean texture' 'mean perimeter' 'mean area'\n",
      " 'mean smoothness' 'mean compactness' 'mean concavity'\n",
      " 'mean concave points' 'mean symmetry' 'mean fractal dimension'\n",
      " 'radius error' 'texture error' 'perimeter error' 'area error'\n",
      " 'smoothness error' 'compactness error' 'concavity error'\n",
      " 'concave points error' 'symmetry error' 'fractal dimension error'\n",
      " 'worst radius' 'worst texture' 'worst perimeter' 'worst area'\n",
      " 'worst smoothness' 'worst compactness' 'worst concavity'\n",
      " 'worst concave points' 'worst symmetry' 'worst fractal dimension']\n",
      "['malignant' 'benign']\n"
     ]
    }
   ],
   "source": [
    "# Load dataset\n",
    "dataset = datasets.load_breast_cancer()\n",
    "print(dataset.feature_names, end=\"\\n\")\n",
    "print(dataset.target_names)\n",
    "predictors = dataset.data\n",
    "responses = dataset.target"
   ]
  },
  {
   "cell_type": "code",
   "execution_count": 3,
   "metadata": {},
   "outputs": [],
   "source": [
    "# Splits into training/test sets\n",
    "X, X_holdout, y, y_holdout = train_test_split(predictors, responses, test_size=0.3, random_state=0)"
   ]
  },
  {
   "cell_type": "code",
   "execution_count": 5,
   "metadata": {},
   "outputs": [],
   "source": [
    "# Defines model\n",
    "regularization = 0\n",
    "sc = StandardScaler()\n",
    "clf = MLPClassifier(hidden_layer_sizes=(30), alpha=regularization)\n",
    "estimators = [('normalizer', sc), ('classifier', clf)]\n",
    "pipe = Pipeline(estimators)"
   ]
  },
  {
   "cell_type": "code",
   "execution_count": 6,
   "metadata": {},
   "outputs": [
    {
     "name": "stdout",
     "output_type": "stream",
     "text": [
      "Iteration - features: 30 , train_err 0.01 , val_err 0.03 , test_err: 0.03 , deleted: [5, 11, 7, 16, 14]\n",
      "Iteration - features: 25 , train_err 0.01 , val_err 0.02 , test_err: 0.03 , deleted: [13, 17, 15, 29, 27]\n",
      "Iteration - features: 20 , train_err 0.02 , val_err 0.02 , test_err: 0.02 , deleted: [9, 25, 4, 19, 18]\n",
      "Iteration - features: 15 , train_err 0.02 , val_err 0.03 , test_err: 0.04 , deleted: [8, 10, 6, 3, 2]\n",
      "Iteration - features: 10 , train_err 0.02 , val_err 0.02 , test_err: 0.03 , deleted: [1, 28, 23, 21, 20]\n",
      "Iteration - features: 5 , train_err 0.04 , val_err 0.04 , test_err: 0.09 , deleted: [12, 24, 22, 26, 0]\n"
     ]
    }
   ],
   "source": [
    "# Applies RFE\n",
    "step = 5\n",
    "d = X.shape[1]\n",
    "current_features = set(range(d))\n",
    "deleted_features = list()\n",
    "performance = list()\n",
    "while len(current_features) > 0:\n",
    "    # train model\n",
    "    features = [feature for feature in current_features]\n",
    "    results = cross_validate(pipe,X[:,features], y, cv = 5, scoring = ['accuracy'], n_jobs=-1,\n",
    "                             return_estimator=True, return_train_score=True)\n",
    "    best_pipe = results['estimator'][results['test_accuracy'].argmin()]\n",
    "    y_pred = best_pipe.predict(X_holdout[:,features])\n",
    "    train_err =  1 - results['train_accuracy'].mean()\n",
    "    val_err = 1 - results['test_accuracy'].mean()\n",
    "    test_err = 1 - accuracy_score(y_holdout, y_pred)\n",
    "    performance.append((len(current_features),train_err,val_err,test_err))\n",
    "    # compute rank\n",
    "    relevance = get_fspp(best_pipe,X[:,features])\n",
    "    # delete features\n",
    "    rank = relevance.argsort()\n",
    "    for i in rank[:step]:\n",
    "        current_features.discard(features[i])\n",
    "        deleted_features.append(features[i])\n",
    "    print('Iteration -',\n",
    "          'features: %d' % (len(current_features) + min(len(rank),step)),\n",
    "          ', train_err %.2f' % train_err,\n",
    "          ', val_err %.2f' % val_err,\n",
    "          ', test_err: %.2f' % test_err,\n",
    "          ', deleted:', [features[i] for i in rank[:step]])"
   ]
  },
  {
   "cell_type": "code",
   "execution_count": 7,
   "metadata": {},
   "outputs": [
    {
     "name": "stdout",
     "output_type": "stream",
     "text": [
      "[5, 11, 7, 16, 14, 13, 17, 15, 29, 27, 9, 25, 4, 19, 18, 8, 10, 6, 3, 2, 1, 28, 23, 21, 20, 12, 24, 22, 26, 0]\n",
      "set()\n"
     ]
    },
    {
     "data": {
      "image/png": "[encoded data removed]",
      "text/plain": [
       "<Figure size 432x288 with 1 Axes>"
      ]
     },
     "metadata": {
      "needs_background": "light"
     },
     "output_type": "display_data"
    }
   ],
   "source": [
    "# Plots results\n",
    "print(deleted_features)\n",
    "print(current_features)\n",
    "features = [results[0] for results in performance]\n",
    "train_err = [results[1] for results in performance]\n",
    "val_err = [results[2] for results in performance]\n",
    "test_err = [results[3] for results in performance]\n",
    "plt.plot(features,train_err, label='Train err (avg)')\n",
    "plt.plot(features,val_err, label='Validation err (avg)')\n",
    "plt.plot(features,test_err,label='Test err (Holdout set)')\n",
    "plt.legend()\n",
    "plt.grid()"
   ]
  }
 ],
 "metadata": {
  "kernelspec": {
   "display_name": "Python 3",
   "language": "python",
   "name": "python3"
  },
  "language_info": {
   "codemirror_mode": {
    "name": "ipython",
    "version": 3
   },
   "file_extension": ".py",
   "mimetype": "text/x-python",
   "name": "python",
   "nbconvert_exporter": "python",
   "pygments_lexer": "ipython3",
   "version": "3.7.6"
  }
 },
 "nbformat": 4,
 "nbformat_minor": 2
}
