{
 "cells": [
  {
   "cell_type": "markdown",
   "metadata": {},
   "source": [
    "###  Created by Luis A. Sanchez-Perez (alejand@umich.edu).\n",
    "<p><span style=\"color:green\"><b>Copyright &#169;</b> Do not distribute or use without authorization from author.</span></p>"
   ]
  },
  {
   "cell_type": "markdown",
   "metadata": {},
   "source": [
    "Applies the Mutual Information I (MII) ranking criterion to the wine dataset"
   ]
  },
  {
   "cell_type": "code",
   "execution_count": 1,
   "metadata": {},
   "outputs": [],
   "source": [
    "import time\n",
    "from sklearn import datasets\n",
    "from sklearn.feature_selection import mutual_info_classif\n",
    "from utils.mutual import MutualInfo\n",
    "from utils.mutualI import MutualInfoI\n",
    "from utils.reports import report_feature_ranking"
   ]
  },
  {
   "cell_type": "code",
   "execution_count": 2,
   "metadata": {},
   "outputs": [],
   "source": [
    "# Loads and pre-process dataset\n",
    "dataset = datasets.load_wine()\n",
    "predictors_names = dataset['feature_names']\n",
    "responses_names = dataset['target_names']\n",
    "predictors = dataset['data']\n",
    "responses = dataset['target'].flatten()"
   ]
  },
  {
   "cell_type": "code",
   "execution_count": 3,
   "metadata": {},
   "outputs": [
    {
     "name": "stdout",
     "output_type": "stream",
     "text": [
      "Using parallel version\n",
      "Elapsed time: 3.8232242999999997\n"
     ]
    }
   ],
   "source": [
    "# Using Mutual I criterion\n",
    "start = time.perf_counter()\n",
    "mi = MutualInfoI(predictors, responses, n_jobs=4)\n",
    "mi.compute()\n",
    "end = time.perf_counter()\n",
    "print('Elapsed time:',end - start)"
   ]
  },
  {
   "cell_type": "code",
   "execution_count": 4,
   "metadata": {},
   "outputs": [
    {
     "name": "stdout",
     "output_type": "stream",
     "text": [
      "Feature ranked 1 is 'flavanoids' with value 2.52E-01\n",
      "Feature ranked 2 is 'proline' with value 1.00E-01\n",
      "Feature ranked 3 is 'od280/od315_of_diluted_wines' with value 5.62E-02\n",
      "Feature ranked 4 is 'color_intensity' with value 2.18E-02\n",
      "Feature ranked 5 is 'hue' with value -5.31E-02\n",
      "Feature ranked 6 is 'alcohol' with value -6.19E-02\n",
      "Feature ranked 7 is 'total_phenols' with value -1.13E-01\n",
      "Feature ranked 8 is 'malic_acid' with value -2.43E-01\n",
      "Feature ranked 9 is 'proanthocyanins' with value -3.36E-01\n",
      "Feature ranked 10 is 'alcalinity_of_ash' with value -3.65E-01\n",
      "Feature ranked 11 is 'nonflavanoid_phenols' with value -4.15E-01\n",
      "Feature ranked 12 is 'magnesium' with value -4.17E-01\n",
      "Feature ranked 13 is 'ash' with value -5.12E-01\n"
     ]
    }
   ],
   "source": [
    "report_feature_ranking(mi.info, predictors_names, 20)"
   ]
  },
  {
   "cell_type": "code",
   "execution_count": 5,
   "metadata": {},
   "outputs": [
    {
     "name": "stdout",
     "output_type": "stream",
     "text": [
      "Using basic matrix version\n",
      "Elapsed time: 0.005201399999999801\n"
     ]
    }
   ],
   "source": [
    "# Using MI criterion\n",
    "start = time.perf_counter()\n",
    "mi = MutualInfo(predictors,responses)\n",
    "mi.compute()\n",
    "end = time.perf_counter()\n",
    "print('Elapsed time:',end - start)"
   ]
  },
  {
   "cell_type": "code",
   "execution_count": 6,
   "metadata": {},
   "outputs": [
    {
     "name": "stdout",
     "output_type": "stream",
     "text": [
      "Feature ranked 1 is 'flavanoids' with value 9.88E-01\n",
      "Feature ranked 2 is 'proline' with value 8.37E-01\n",
      "Feature ranked 3 is 'od280/od315_of_diluted_wines' with value 7.93E-01\n",
      "Feature ranked 4 is 'color_intensity' with value 7.58E-01\n",
      "Feature ranked 5 is 'hue' with value 6.83E-01\n",
      "Feature ranked 6 is 'alcohol' with value 6.75E-01\n",
      "Feature ranked 7 is 'total_phenols' with value 6.23E-01\n",
      "Feature ranked 8 is 'malic_acid' with value 4.93E-01\n",
      "Feature ranked 9 is 'proanthocyanins' with value 4.01E-01\n",
      "Feature ranked 10 is 'alcalinity_of_ash' with value 3.72E-01\n",
      "Feature ranked 11 is 'nonflavanoid_phenols' with value 3.22E-01\n",
      "Feature ranked 12 is 'magnesium' with value 3.19E-01\n",
      "Feature ranked 13 is 'ash' with value 2.25E-01\n"
     ]
    }
   ],
   "source": [
    "report_feature_ranking(mi.info, predictors_names, 20)"
   ]
  },
  {
   "cell_type": "code",
   "execution_count": 7,
   "metadata": {},
   "outputs": [
    {
     "name": "stdout",
     "output_type": "stream",
     "text": [
      "Elpased time: 0.04843360000000008\n"
     ]
    }
   ],
   "source": [
    "# Using MI sklearn implementation\n",
    "start = time.perf_counter()\n",
    "mi = mutual_info_classif(predictors,responses)\n",
    "end = time.perf_counter()\n",
    "print('Elpased time:', end-start)"
   ]
  },
  {
   "cell_type": "code",
   "execution_count": 8,
   "metadata": {},
   "outputs": [
    {
     "name": "stdout",
     "output_type": "stream",
     "text": [
      "Feature ranked 1 is 'flavanoids' with value 6.63E-01\n",
      "Feature ranked 2 is 'proline' with value 5.60E-01\n",
      "Feature ranked 3 is 'color_intensity' with value 5.48E-01\n",
      "Feature ranked 4 is 'od280/od315_of_diluted_wines' with value 5.14E-01\n",
      "Feature ranked 5 is 'alcohol' with value 4.80E-01\n",
      "Feature ranked 6 is 'hue' with value 4.48E-01\n",
      "Feature ranked 7 is 'total_phenols' with value 4.14E-01\n",
      "Feature ranked 8 is 'proanthocyanins' with value 2.92E-01\n",
      "Feature ranked 9 is 'malic_acid' with value 2.88E-01\n",
      "Feature ranked 10 is 'alcalinity_of_ash' with value 2.55E-01\n",
      "Feature ranked 11 is 'magnesium' with value 1.90E-01\n",
      "Feature ranked 12 is 'nonflavanoid_phenols' with value 1.24E-01\n",
      "Feature ranked 13 is 'ash' with value 5.17E-02\n"
     ]
    }
   ],
   "source": [
    "# Reports result\n",
    "report_feature_ranking(mi, predictors_names, 20)"
   ]
  },
  {
   "cell_type": "code",
   "execution_count": null,
   "metadata": {},
   "outputs": [],
   "source": []
  }
 ],
 "metadata": {
  "kernelspec": {
   "display_name": "Python 3",
   "language": "python",
   "name": "python3"
  },
  "language_info": {
   "codemirror_mode": {
    "name": "ipython",
    "version": 3
   },
   "file_extension": ".py",
   "mimetype": "text/x-python",
   "name": "python",
   "nbconvert_exporter": "python",
   "pygments_lexer": "ipython3",
   "version": "3.7.6"
  }
 },
 "nbformat": 4,
 "nbformat_minor": 2
}
