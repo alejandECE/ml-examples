{
 "cells": [
  {
   "cell_type": "markdown",
   "metadata": {},
   "source": [
    "###  Created by Luis Alejandro (alejand@umich.edu)\n",
    "Applies the Mutual Information I (MII) ranking criterion to the wine dataset"
   ]
  },
  {
   "cell_type": "code",
   "execution_count": 1,
   "metadata": {},
   "outputs": [],
   "source": [
    "import time\n",
    "from sklearn import datasets\n",
    "from sklearn.feature_selection import mutual_info_classif\n",
    "import sys\n",
    "sys.path.append('../')\n",
    "from utils.feature_selection.mutual import MutualInfo\n",
    "from utils.feature_selection.mutualI import MutualInfoI\n",
    "from utils.feature_selection.reports import report_feature_ranking"
   ]
  },
  {
   "cell_type": "code",
   "execution_count": 2,
   "metadata": {},
   "outputs": [],
   "source": [
    "# Loads and pre-process dataset\n",
    "dataset = datasets.load_wine()\n",
    "predictors_names = dataset['feature_names']\n",
    "responses_names = dataset['target_names']\n",
    "predictors = dataset['data']\n",
    "responses = dataset['target'].flatten()"
   ]
  },
  {
   "cell_type": "code",
   "execution_count": 3,
   "metadata": {},
   "outputs": [
    {
     "name": "stdout",
     "output_type": "stream",
     "text": [
      "Using parallel version\n",
      "Elapsed time: 3.601330099999984\n"
     ]
    }
   ],
   "source": [
    "# Using Mutual I criterion\n",
    "start = time.perf_counter()\n",
    "mi = MutualInfoI(predictors,responses,n_jobs = 4)\n",
    "mi.compute()\n",
    "end = time.perf_counter()\n",
    "print('Elapsed time:',end - start)"
   ]
  },
  {
   "cell_type": "code",
   "execution_count": 4,
   "metadata": {},
   "outputs": [
    {
     "name": "stdout",
     "output_type": "stream",
     "text": [
      "Feature ranked 1 is (flavanoids) with value 0.251538\n",
      "Feature ranked 2 is (proline) with value 0.100217\n",
      "Feature ranked 3 is (od280/od315_of_diluted_wines) with value 0.056158\n",
      "Feature ranked 4 is (color_intensity) with value 0.021773\n",
      "Feature ranked 5 is (hue) with value -0.053057\n",
      "Feature ranked 6 is (alcohol) with value -0.061872\n",
      "Feature ranked 7 is (total_phenols) with value -0.113132\n",
      "Feature ranked 8 is (malic_acid) with value -0.243362\n",
      "Feature ranked 9 is (proanthocyanins) with value -0.335631\n",
      "Feature ranked 10 is (alcalinity_of_ash) with value -0.364610\n",
      "Feature ranked 11 is (nonflavanoid_phenols) with value -0.414741\n",
      "Feature ranked 12 is (magnesium) with value -0.416945\n",
      "Feature ranked 13 is (ash) with value -0.511622\n"
     ]
    }
   ],
   "source": [
    "report_feature_ranking(mi.info,predictors_names,20)"
   ]
  },
  {
   "cell_type": "code",
   "execution_count": 5,
   "metadata": {},
   "outputs": [
    {
     "name": "stdout",
     "output_type": "stream",
     "text": [
      "Using basic matrix version\n",
      "Elapsed time: 0.006726399999990917\n"
     ]
    }
   ],
   "source": [
    "# Using MI criterion\n",
    "start = time.perf_counter()\n",
    "mi = MutualInfo(predictors,responses)\n",
    "mi.compute()\n",
    "end = time.perf_counter()\n",
    "print('Elapsed time:',end - start)"
   ]
  },
  {
   "cell_type": "code",
   "execution_count": 6,
   "metadata": {},
   "outputs": [
    {
     "name": "stdout",
     "output_type": "stream",
     "text": [
      "Feature ranked 1 is (flavanoids) with value 0.987925\n",
      "Feature ranked 2 is (proline) with value 0.836604\n",
      "Feature ranked 3 is (od280/od315_of_diluted_wines) with value 0.792544\n",
      "Feature ranked 4 is (color_intensity) with value 0.758160\n",
      "Feature ranked 5 is (hue) with value 0.683330\n",
      "Feature ranked 6 is (alcohol) with value 0.674514\n",
      "Feature ranked 7 is (total_phenols) with value 0.623255\n",
      "Feature ranked 8 is (malic_acid) with value 0.493024\n",
      "Feature ranked 9 is (proanthocyanins) with value 0.400756\n",
      "Feature ranked 10 is (alcalinity_of_ash) with value 0.371777\n",
      "Feature ranked 11 is (nonflavanoid_phenols) with value 0.321646\n",
      "Feature ranked 12 is (magnesium) with value 0.319442\n",
      "Feature ranked 13 is (ash) with value 0.224764\n"
     ]
    }
   ],
   "source": [
    "report_feature_ranking(mi.info,predictors_names,20)"
   ]
  },
  {
   "cell_type": "code",
   "execution_count": 7,
   "metadata": {},
   "outputs": [
    {
     "name": "stdout",
     "output_type": "stream",
     "text": [
      "Elpased time: 0.04240390000001071\n"
     ]
    }
   ],
   "source": [
    "# Using MI sklearn implementation\n",
    "start = time.perf_counter()\n",
    "mi = mutual_info_classif(predictors,responses)\n",
    "end = time.perf_counter()\n",
    "print('Elpased time:', end-start)"
   ]
  },
  {
   "cell_type": "code",
   "execution_count": 8,
   "metadata": {},
   "outputs": [
    {
     "name": "stdout",
     "output_type": "stream",
     "text": [
      "Feature ranked 1 is (flavanoids) with value 0.667668\n",
      "Feature ranked 2 is (color_intensity) with value 0.553694\n",
      "Feature ranked 3 is (proline) with value 0.552871\n",
      "Feature ranked 4 is (od280/od315_of_diluted_wines) with value 0.521648\n",
      "Feature ranked 5 is (hue) with value 0.475773\n",
      "Feature ranked 6 is (alcohol) with value 0.465262\n",
      "Feature ranked 7 is (total_phenols) with value 0.419591\n",
      "Feature ranked 8 is (proanthocyanins) with value 0.291434\n",
      "Feature ranked 9 is (malic_acid) with value 0.275868\n",
      "Feature ranked 10 is (alcalinity_of_ash) with value 0.235863\n",
      "Feature ranked 11 is (magnesium) with value 0.161904\n",
      "Feature ranked 12 is (nonflavanoid_phenols) with value 0.114326\n",
      "Feature ranked 13 is (ash) with value 0.066720\n"
     ]
    }
   ],
   "source": [
    "# Reports result\n",
    "report_feature_ranking(mi, predictors_names, 20)"
   ]
  }
 ],
 "metadata": {
  "kernelspec": {
   "display_name": "Python 3",
   "language": "python",
   "name": "python3"
  },
  "language_info": {
   "codemirror_mode": {
    "name": "ipython",
    "version": 3
   },
   "file_extension": ".py",
   "mimetype": "text/x-python",
   "name": "python",
   "nbconvert_exporter": "python",
   "pygments_lexer": "ipython3",
   "version": "3.7.6"
  }
 },
 "nbformat": 4,
 "nbformat_minor": 2
}
