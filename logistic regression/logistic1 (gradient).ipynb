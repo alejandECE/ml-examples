{
 "cells": [
  {
   "cell_type": "markdown",
   "metadata": {},
   "source": [
    "###  Created by Luis Alejandro (alejand@umich.edu)\n",
    "Training logistic regression models without regularization using different gradient based methods on the Fisher iris dataset. Uses polynomial expansion to fit non-linear boundaries."
   ]
  },
  {
   "cell_type": "code",
   "execution_count": 1,
   "metadata": {},
   "outputs": [],
   "source": [
    "from sklearn import datasets\n",
    "from sklearn.preprocessing import PolynomialFeatures\n",
    "from sklearn.preprocessing import StandardScaler\n",
    "from sklearn.metrics import f1_score\n",
    "from sklearn.metrics import recall_score\n",
    "from sklearn.metrics import precision_score\n",
    "from sklearn.metrics import accuracy_score\n",
    "import numpy as np\n",
    "import numpy.random as rnd\n",
    "import numpy.linalg as alg\n",
    "import matplotlib.pyplot as plt\n",
    "from matplotlib.colors import ListedColormap\n",
    "from IPython.display import display, clear_output\n",
    "import keyboard\n",
    "from enum import Enum"
   ]
  },
  {
   "cell_type": "code",
   "execution_count": 2,
   "metadata": {},
   "outputs": [],
   "source": [
    "# Functions\n",
    "def sigmoid(x):\n",
    "    return 1 / (1 + np.exp(-x))\n",
    "\n",
    "def plot_1d_boundary(ax,w,X,y,threshold):\n",
    "    # boundary and regions\n",
    "    color_map = ListedColormap(('red', 'blue'))\n",
    "    ax.scatter(X[:,1],y,c=y,cmap=color_map)\n",
    "    ax.plot([-w[0]/w[1], -w[0]/w[1]], [0,1],'k-')\n",
    "\n",
    "def plot_2d_boundary(ax,w,X,y,mesh,threshold):\n",
    "    # boundary and regions\n",
    "    color_map = ListedColormap(('red', 'blue'))\n",
    "    ax.scatter(X[:,1],X[:,2],c=y,cmap=color_map)\n",
    "    pts = int(np.sqrt(mesh.shape[0]))\n",
    "    x1 = mesh[:,1].reshape((pts,pts))\n",
    "    x2 = mesh[:,2].reshape((pts,pts))\n",
    "    h = sigmoid(mesh.dot(w))\n",
    "    z = h.reshape((pts,pts))\n",
    "    ax.contour(x1, x2, z, levels = [threshold], colors = 'black')\n",
    "    ax.contourf(x1, x2, z >= threshold, alpha = 0.10, cmap = color_map)\n",
    "    \n",
    "def plot_cost(ax,J,niter):\n",
    "    ax.plot(np.arange(1,niter+1), J[:niter], 'k.-')\n",
    "    ax.grid() \n",
    "    \n",
    "def compute_metrics(w,X,y):\n",
    "    h = sigmoid(X.dot(w))\n",
    "    y_pred = (h >= threshold)\n",
    "    print('Accuracy: ', '%.2f'  % accuracy_score(y, y_pred))\n",
    "    print('F1 Score: ', '%.2f'  % f1_score(y, y_pred))\n",
    "    print('Recall: ', '%.2f'  % recall_score(y, y_pred))\n",
    "    print('Precision: ', '%.2f'  % precision_score(y, y_pred))   \n",
    "    \n",
    "class GradType(Enum):\n",
    "    BATCH_GRAD = 0\n",
    "    ADAGRAD = 1\n",
    "    LINE_SEARCH = 2\n",
    "    NEWTON_METHOD = 3"
   ]
  },
  {
   "cell_type": "code",
   "execution_count": 3,
   "metadata": {},
   "outputs": [
    {
     "name": "stdout",
     "output_type": "stream",
     "text": [
      "['sepal length (cm)', 'sepal width (cm)', 'petal length (cm)', 'petal width (cm)']\n",
      "['setosa' 'versicolor' 'virginica']\n"
     ]
    }
   ],
   "source": [
    "# Load dataset\n",
    "iris = datasets.load_iris()\n",
    "print(iris.feature_names, end=\"\\n\")\n",
    "print(iris.target_names)\n",
    "# Binarize the problem\n",
    "y = iris.target\n",
    "y[y != 1] =  0"
   ]
  },
  {
   "cell_type": "code",
   "execution_count": 4,
   "metadata": {},
   "outputs": [],
   "source": [
    "# Init data\n",
    "features = [1]\n",
    "X = iris.data[:,features]\n",
    "m,d = X.shape\n",
    "X = np.concatenate((np.ones((m,1)),X), axis = 1)"
   ]
  },
  {
   "cell_type": "code",
   "execution_count": 5,
   "metadata": {},
   "outputs": [],
   "source": [
    "# Params\n",
    "MAX_ITER = 1000\n",
    "MIN_DELTA = 1e-5\n",
    "batch_size = None\n",
    "grad_method = GradType.NEWTON_METHOD\n",
    "threshold = 0.5\n",
    "epsilon = 1e-10"
   ]
  },
  {
   "cell_type": "code",
   "execution_count": 6,
   "metadata": {},
   "outputs": [],
   "source": [
    "# Init algorithm\n",
    "niter = 0\n",
    "delta_J = MIN_DELTA\n",
    "W = 1e-4 * rnd.randn(d+1,MAX_ITER)\n",
    "h = sigmoid(X.dot(W[:,niter]))\n",
    "loglikelihood = sum([np.log(prob) if label else np.log(1-prob) for prob,label in zip(h,y)]) \n",
    "J = np.array([-loglikelihood]*MAX_ITER)\n",
    "cum_grad = np.zeros((d+1,))"
   ]
  },
  {
   "cell_type": "code",
   "execution_count": 7,
   "metadata": {},
   "outputs": [
    {
     "name": "stdout",
     "output_type": "stream",
     "text": [
      "Accuracy:  0.73\n",
      "F1 Score:  0.51\n",
      "Recall:  0.42\n",
      "Precision:  0.64\n"
     ]
    },
    {
     "data": {
      "image/png": "[encoded data removed]",
      "text/plain": [
       "<Figure size 432x720 with 2 Axes>"
      ]
     },
     "metadata": {},
     "output_type": "display_data"
    }
   ],
   "source": [
    "# Solve for w and plots progress\n",
    "plot_progress = True\n",
    "fig = plt.figure()\n",
    "fig.set_size_inches(6,10)\n",
    "ax_boundary = fig.add_subplot(2,1,1) \n",
    "ax_cost = fig.add_subplot(2,1,2) \n",
    "\n",
    "while niter < MAX_ITER - 1 and abs(delta_J) >= MIN_DELTA:\n",
    "    # plot graphical progress\n",
    "    if plot_progress == True:\n",
    "        ax_boundary.cla()\n",
    "        ax_cost.cla()\n",
    "        plot_1d_boundary(ax_boundary,W[:,niter],X,y,threshold)\n",
    "        plot_cost(ax_cost,J,niter)\n",
    "        display(fig)\n",
    "        clear_output(wait = True)\n",
    "        plt.pause(0.1)\n",
    "        if keyboard.is_pressed('Esc'):\n",
    "            plot_progress = False\n",
    "\n",
    "    # Determines gradient\n",
    "    # batch\n",
    "    if batch_size == None: \n",
    "        h = sigmoid(X.dot(W[:,niter]))\n",
    "        grad = (X.T).dot(h - y)\n",
    "    # stochastic\n",
    "    else: \n",
    "        indexes = rnd.permutation(m)[:batch_size]\n",
    "        h = sigmoid(X[indexes,:].dot(W[:,niter]))\n",
    "        grad = (X[indexes,:].T).dot(h - y[indexes])\n",
    "        \n",
    "    # Determines update rule (step) according to chosen method\n",
    "    if grad_method == GradType.BATCH_GRAD:\n",
    "        alpha = 1e-3\n",
    "        step = alpha * grad\n",
    "    elif grad_method == GradType.ADAGRAD:\n",
    "        alpha = 10\n",
    "        cum_grad += (grad**2)\n",
    "        step = (alpha / np.sqrt((epsilon + cum_grad))) * grad\n",
    "    elif grad_method == GradType.LINE_SEARCH:\n",
    "        S = np.diag(h*(1-h))\n",
    "        H = (X.T).dot(S).dot(X)\n",
    "        alpha = (grad.T).dot(grad) / (grad.T).dot(H).dot(grad)\n",
    "        step = alpha * grad\n",
    "    elif grad_method == GradType.NEWTON_METHOD:\n",
    "        S = np.diag(h*(1-h))\n",
    "        H = (X.T).dot(S).dot(X)\n",
    "        step = alg.solve(H,grad)  #step = alg.pinv(H).dot(grad)\n",
    "\n",
    "    # Move iteration pointer\n",
    "    niter = niter + 1    \n",
    "    W[:,niter] = W[:,niter - 1] - step\n",
    "    h = sigmoid(X.dot(W[:,niter]))\n",
    "    loglikelihood = sum([np.log(prob) if label else np.log(1-prob) for prob,label in zip(h,y)]) \n",
    "    J[niter] = -loglikelihood\n",
    "    delta_J = J[niter - 1] - J[niter]\n",
    "\n",
    "# Display training performance\n",
    "compute_metrics(W[:,niter],X,y)\n",
    "ax_boundary.cla()\n",
    "ax_cost.cla()\n",
    "plot_1d_boundary(ax_boundary,W[:,niter],X,y,threshold)\n",
    "plot_cost(ax_cost,J,niter) \n",
    "display(fig)"
   ]
  },
  {
   "cell_type": "code",
   "execution_count": 8,
   "metadata": {},
   "outputs": [],
   "source": [
    "# Init data\n",
    "features = [0,3]\n",
    "X = iris.data[:,features]\n",
    "# Mesh building\n",
    "bottom = np.min(X,0)\n",
    "top = np.max(X,0)\n",
    "pts = 500\n",
    "mx = np.linspace(bottom[0], top[0], pts)  # x1\n",
    "my = np.linspace(bottom[1], top[1], pts)  # x2\n",
    "mx, my = np.meshgrid(mx, my)\n",
    "mesh = np.vstack((mx.flatten(), my.flatten())).T\n",
    "d = 7\n",
    "ps = PolynomialFeatures(degree = d)\n",
    "ps.fit(X)\n",
    "X = ps.transform(X)\n",
    "mesh = ps.transform(mesh)\n",
    "sc = StandardScaler()\n",
    "sc.fit(X[:,1:])\n",
    "X[:,1:] = sc.transform(X[:,1:])\n",
    "mesh[:,1:] = sc.transform(mesh[:,1:])\n",
    "m,d = X.shape"
   ]
  },
  {
   "cell_type": "code",
   "execution_count": 9,
   "metadata": {},
   "outputs": [],
   "source": [
    "# Init algorithm\n",
    "niter = 0\n",
    "delta_J = MIN_DELTA\n",
    "W = 1e-4 * rnd.randn(d,MAX_ITER)\n",
    "h = sigmoid(X.dot(W[:,niter]))\n",
    "J = np.array([-(y*np.log(h) + (1 - y)*np.log(1 - h)).sum()]*MAX_ITER)\n",
    "cum_grad = np.zeros((d,))\n",
    "alpha = 1e-3\n",
    "epsilon = 1e-10"
   ]
  },
  {
   "cell_type": "code",
   "execution_count": 10,
   "metadata": {
    "scrolled": false
   },
   "outputs": [
    {
     "name": "stderr",
     "output_type": "stream",
     "text": [
      "D:\\Anaconda3\\lib\\site-packages\\ipykernel_launcher.py:54: RuntimeWarning: divide by zero encountered in log\n",
      "D:\\Anaconda3\\lib\\site-packages\\ipykernel_launcher.py:54: RuntimeWarning: invalid value encountered in multiply\n",
      "D:\\Anaconda3\\lib\\site-packages\\ipykernel_launcher.py:3: RuntimeWarning: overflow encountered in exp\n",
      "  This is separate from the ipykernel package so we can avoid doing imports until\n"
     ]
    },
    {
     "name": "stdout",
     "output_type": "stream",
     "text": [
      "Accuracy:  0.97\n",
      "F1 Score:  0.95\n",
      "Recall:  0.96\n",
      "Precision:  0.94\n"
     ]
    },
    {
     "data": {
      "image/png": "[encoded data removed]",
      "text/plain": [
       "<Figure size 432x720 with 2 Axes>"
      ]
     },
     "metadata": {},
     "output_type": "display_data"
    }
   ],
   "source": [
    "# Solve for w and plots progress\n",
    "plot_progress = True\n",
    "fig = plt.figure()\n",
    "fig.set_size_inches(6,10)\n",
    "ax_boundary = fig.add_subplot(2,1,1) \n",
    "ax_cost = fig.add_subplot(2,1,2) \n",
    "\n",
    "while niter < MAX_ITER - 1 and abs(delta_J) >= MIN_DELTA:\n",
    "    # plot graphical progress\n",
    "    if plot_progress == True:\n",
    "        ax_boundary.cla()\n",
    "        ax_cost.cla()\n",
    "        plot_2d_boundary(ax_boundary,W[:,niter],X,y,mesh,threshold)\n",
    "        plot_cost(ax_cost,J,niter)\n",
    "        display(fig)\n",
    "        clear_output(wait = True)\n",
    "        plt.pause(0.1)\n",
    "        if keyboard.is_pressed('Esc'):\n",
    "            plot_progress = False\n",
    "\n",
    "    # Determines gradient\n",
    "    # batch\n",
    "    if batch_size == None: \n",
    "        h = sigmoid(X.dot(W[:,niter]))\n",
    "        grad = (X.T).dot(h - y)\n",
    "    # stochastic\n",
    "    else: \n",
    "        indexes = rnd.permutation(m)[:batch_size]\n",
    "        h = sigmoid(X[indexes,:].dot(W[:,niter]))\n",
    "        grad = (X[indexes,:].T).dot(h - y[indexes])\n",
    "        \n",
    "    # Determines update rule (step) according to chosen method\n",
    "    if grad_method == GradType.BATCH_GRAD:\n",
    "        alpha = 1e-3\n",
    "        step = alpha * grad\n",
    "    elif grad_method == GradType.ADAGRAD:\n",
    "        alpha = 1\n",
    "        cum_grad += (grad**2)\n",
    "        step = (alpha / np.sqrt((epsilon + cum_grad))) * grad\n",
    "    elif grad_method == GradType.LINE_SEARCH:\n",
    "        S = np.diag(h*(1-h))\n",
    "        H = (X.T).dot(S).dot(X)        \n",
    "        alpha = (grad.T).dot(grad) / (grad.T).dot(H).dot(grad)\n",
    "        step = alpha * grad\n",
    "    elif grad_method == GradType.NEWTON_METHOD:\n",
    "        S = np.diag(h*(1-h))\n",
    "        H = (X.T).dot(S).dot(X)         \n",
    "        step = alg.solve(H,grad)  #step = alg.pinv(H).dot(grad)\n",
    "\n",
    "    # Move iteration pointer\n",
    "    niter = niter + 1    \n",
    "    W[:,niter] = W[:,niter - 1] - step\n",
    "    h = sigmoid(X.dot(W[:,niter]))\n",
    "    J[niter] = -(y*np.log(h) + (1 - y)*np.log(1 - h)).sum()\n",
    "    delta_J = J[niter - 1] - J[niter]\n",
    "\n",
    "compute_metrics(W[:,niter],X,y)\n",
    "ax_boundary.cla()\n",
    "ax_cost.cla()\n",
    "plot_2d_boundary(ax_boundary,W[:,niter],X,y,mesh,threshold)\n",
    "plot_cost(ax_cost,J,niter)\n",
    "display(fig)"
   ]
  },
  {
   "cell_type": "markdown",
   "metadata": {},
   "source": [
    "#### Notice\n",
    "The warning are produced by the following expression:\n",
    "<pre>\n",
    "(y*np.log(h) + (1 - y)*np.log(1 - h)).sum()\n",
    "</pre>\n",
    "The warnings come from the fact that even when you have y = 0 and h = 0 the np.log(h) will be computed and therefore a warning must exist since log(0) cannot be comptued. Similar when y = 1 and h = 1."
   ]
  },
  {
   "cell_type": "code",
   "execution_count": null,
   "metadata": {},
   "outputs": [],
   "source": []
  }
 ],
 "metadata": {
  "kernelspec": {
   "display_name": "Python 3",
   "language": "python",
   "name": "python3"
  },
  "language_info": {
   "codemirror_mode": {
    "name": "ipython",
    "version": 3
   },
   "file_extension": ".py",
   "mimetype": "text/x-python",
   "name": "python",
   "nbconvert_exporter": "python",
   "pygments_lexer": "ipython3",
   "version": "3.7.6"
  }
 },
 "nbformat": 4,
 "nbformat_minor": 2
}
