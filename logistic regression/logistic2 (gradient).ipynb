{
 "cells": [
  {
   "cell_type": "markdown",
   "metadata": {},
   "source": [
    "###  Created by Luis Alejandro (alejand@umich.edu)\n",
    "\n",
    "Training logistic regression models with regularization using different gradient based methods (manually implemented) on a simulated dataset. Uses polynomial expansion to fit non-linear boundaries. Also computes training metrics."
   ]
  },
  {
   "cell_type": "code",
   "execution_count": 1,
   "metadata": {},
   "outputs": [],
   "source": [
    "import scipy.io as sio\n",
    "import scipy.optimize as opt\n",
    "from sklearn.preprocessing import PolynomialFeatures\n",
    "from sklearn.preprocessing import StandardScaler\n",
    "from sklearn.metrics import f1_score\n",
    "from sklearn.metrics import recall_score\n",
    "from sklearn.metrics import precision_score\n",
    "from sklearn.metrics import accuracy_score\n",
    "import numpy as np\n",
    "import numpy.random as rnd\n",
    "import numpy.linalg as alg\n",
    "import matplotlib.pyplot as plt\n",
    "from matplotlib.colors import ListedColormap\n",
    "from IPython.display import display, clear_output\n",
    "import keyboard\n",
    "from enum import Enum"
   ]
  },
  {
   "cell_type": "code",
   "execution_count": 2,
   "metadata": {},
   "outputs": [],
   "source": [
    "# Functions\n",
    "def sigmoid(x):\n",
    "    return 1 / (1 + np.exp(-x))\n",
    "\n",
    "def plot_boundary(ax,w,X,y,mesh,threshold):\n",
    "    # boundary and regions\n",
    "    color_map = ListedColormap(('red', 'blue'))\n",
    "    positive = (y == 1)\n",
    "    h = sigmoid(np.matmul(mesh,w))\n",
    "    ax.scatter(X[positive,1],X[positive,2], c = 'blue')\n",
    "    ax.scatter(X[~positive,1],X[~positive,2], c = 'red')\n",
    "    pts = int(np.sqrt(mesh.shape[0]))\n",
    "    x1 = mesh[:,1].reshape((pts,pts))\n",
    "    x2 = mesh[:,2].reshape((pts,pts))\n",
    "    z = h.reshape((pts,pts))\n",
    "    ax.contour(x1, x2, z, levels = [threshold], colors = 'black')\n",
    "    ax.contourf(x1, x2, z >= threshold, alpha = 0.10, cmap = color_map)\n",
    "    \n",
    "def plot_cost(ax,J,niter):\n",
    "    ax.plot(np.arange(1,niter+1), J[:niter], 'k.-')\n",
    "    ax.grid() \n",
    "    \n",
    "def compute_metrics(w,X,y):\n",
    "    h = sigmoid(np.matmul(X,w))\n",
    "    y_pred = (h >= threshold)\n",
    "    print('Accuracy: ', '%.2f'  % accuracy_score(y, y_pred))\n",
    "    print('F1 Score: ', '%.2f'  % f1_score(y, y_pred))\n",
    "    print('Recall: ', '%.2f'  % recall_score(y, y_pred))\n",
    "    print('Precision: ', '%.2f'  % precision_score(y, y_pred))\n",
    "    \n",
    "class GradType(Enum):\n",
    "    BATCH_GRAD = 0\n",
    "    ADAGRAD = 1\n",
    "    LINE_SEARCH = 2\n",
    "    NEWTON_METHOD = 3"
   ]
  },
  {
   "cell_type": "code",
   "execution_count": 3,
   "metadata": {},
   "outputs": [],
   "source": [
    "# Read data and build 2D mesh\n",
    "dataset = sio.loadmat('../../datasets/classification/demolog1.mat')\n",
    "X = dataset['X']\n",
    "y = dataset['y'].flatten()\n",
    "bottom = np.min(X,axis=0)\n",
    "top = np.max(X,axis=0)\n",
    "pts = 500\n",
    "mx = np.linspace(bottom[0], top[0], pts)  # x1\n",
    "my = np.linspace(bottom[1], top[1], pts)  # x2\n",
    "mx, my = np.meshgrid(mx, my)\n",
    "mesh = np.vstack((mx.flatten(), my.flatten())).T\n",
    "degree = 10\n",
    "ps = PolynomialFeatures(degree = degree)\n",
    "ps.fit(X)\n",
    "X = ps.transform(X)\n",
    "mesh = ps.transform(mesh)\n",
    "sc = StandardScaler()\n",
    "sc.fit(X[:,1:])\n",
    "X[:,1:] = sc.transform(X[:,1:])\n",
    "mesh[:,1:] = sc.transform(mesh[:,1:])\n",
    "m,d = X.shape"
   ]
  },
  {
   "cell_type": "code",
   "execution_count": 4,
   "metadata": {},
   "outputs": [],
   "source": [
    "# Params\n",
    "MAX_ITER = 1000\n",
    "MIN_DELTA = 1e-5\n",
    "batch_size = None\n",
    "grad_method = GradType.ADAGRAD\n",
    "threshold = 0.5\n",
    "epsilon = 1e-10\n",
    "reg = 1"
   ]
  },
  {
   "cell_type": "code",
   "execution_count": 5,
   "metadata": {},
   "outputs": [],
   "source": [
    "# Init algorithm\n",
    "niter = 0\n",
    "delta_J = MIN_DELTA\n",
    "W = 1e-4 * rnd.randn(d,MAX_ITER)\n",
    "# Computes initial cost\n",
    "h = sigmoid(X.dot(W[:,niter]))\n",
    "loglikelihood = sum([np.log(prob) if label else np.log(1-prob) for prob,label in zip(h,y)]) \n",
    "loglikelihood -= reg*(W[1:,niter]**2).sum()\n",
    "J = np.array([-loglikelihood]*MAX_ITER)\n",
    "cum_grad = np.zeros((d,))"
   ]
  },
  {
   "cell_type": "code",
   "execution_count": 6,
   "metadata": {
    "scrolled": false
   },
   "outputs": [
    {
     "name": "stdout",
     "output_type": "stream",
     "text": [
      "Accuracy:  0.82\n",
      "F1 Score:  0.83\n",
      "Recall:  0.88\n",
      "Precision:  0.78\n"
     ]
    },
    {
     "data": {
      "image/png": "[encoded data removed]",
      "text/plain": [
       "<Figure size 432x720 with 2 Axes>"
      ]
     },
     "metadata": {},
     "output_type": "display_data"
    }
   ],
   "source": [
    "# Solve for w and plots progress\n",
    "plot_progress = True\n",
    "fig = plt.figure()\n",
    "fig.set_size_inches(6,10)\n",
    "ax_boundary = fig.add_subplot(2,1,1) \n",
    "ax_cost = fig.add_subplot(2,1,2) \n",
    "\n",
    "while niter < MAX_ITER - 1 and abs(delta_J) >= MIN_DELTA:\n",
    "    # plot graphical progress\n",
    "    if plot_progress == True:\n",
    "        ax_boundary.cla()\n",
    "        ax_cost.cla()\n",
    "        plot_boundary(ax_boundary,W[:,niter],X,y,mesh,threshold)\n",
    "        plot_cost(ax_cost,J,niter)\n",
    "        display(fig)\n",
    "        clear_output(wait = True)\n",
    "        plt.pause(0.1)\n",
    "        if keyboard.is_pressed('Esc'):\n",
    "            plot_progress = False\n",
    "\n",
    "    # Determines gradient\n",
    "    # batch\n",
    "    if batch_size == None: \n",
    "        h = sigmoid(X.dot(W[:,niter]))\n",
    "        extra = np.concatenate(([0],2*reg*W[1:,niter]))\n",
    "        grad = (X.T).dot(h - y) + extra\n",
    "    # stochastic\n",
    "    else: \n",
    "        indexes = rnd.permutation(m)[:batch_size]\n",
    "        h = sigmoid(X[indexes,:].dot(W[:,niter]))\n",
    "        extra = np.concatenate(([0],2*reg*W[1:,niter]))\n",
    "        grad = (X[indexes,:].T).dot(h - y[indexes]) + extra\n",
    "        \n",
    "    # Determines update rule (step) according to chosen method\n",
    "    if grad_method == GradType.BATCH_GRAD:\n",
    "        alpha = 1e-2\n",
    "        step = alpha * grad\n",
    "    elif grad_method == GradType.ADAGRAD:\n",
    "        alpha = 1\n",
    "        cum_grad += (grad**2)\n",
    "        step = (alpha / np.sqrt((epsilon + cum_grad))) * grad\n",
    "    elif grad_method == GradType.LINE_SEARCH:\n",
    "        S = np.diag(h*(1-h))\n",
    "        H = (X.T).dot(S).dot(X) + np.diag(extra)\n",
    "        alpha = (grad.T).dot(grad) / (grad.T).dot(H).dot(grad)\n",
    "        step = alpha * grad\n",
    "    elif grad_method == GradType.NEWTON_METHOD:\n",
    "        S = np.diag(h*(1-h))\n",
    "        H = (X.T).dot(S).dot(X) + np.diag(extra) \n",
    "        step = alg.solve(H,grad)  #step = alg.pinv(H).dot(grad)\n",
    "\n",
    "    # Move iteration pointer\n",
    "    niter = niter + 1    \n",
    "    W[:,niter] = W[:,niter - 1] - step\n",
    "    h = sigmoid(X.dot(W[:,niter]))\n",
    "    loglikelihood = sum([np.log(prob) if label else np.log(1-prob) for prob,label in zip(h,y)]) \n",
    "    loglikelihood += reg*(W[1:,niter]**2).sum()\n",
    "    J[niter] = -loglikelihood\n",
    "    delta_J = J[niter - 1] - J[niter]\n",
    "\n",
    "compute_metrics(W[:,niter],X,y)\n",
    "ax_boundary.cla()\n",
    "ax_cost.cla()\n",
    "plot_boundary(ax_boundary,W[:,niter],X,y,mesh,threshold)\n",
    "plot_cost(ax_cost,J,niter)\n",
    "display(fig)"
   ]
  },
  {
   "cell_type": "code",
   "execution_count": null,
   "metadata": {},
   "outputs": [],
   "source": []
  }
 ],
 "metadata": {
  "kernelspec": {
   "display_name": "Python 3",
   "language": "python",
   "name": "python3"
  },
  "language_info": {
   "codemirror_mode": {
    "name": "ipython",
    "version": 3
   },
   "file_extension": ".py",
   "mimetype": "text/x-python",
   "name": "python",
   "nbconvert_exporter": "python",
   "pygments_lexer": "ipython3",
   "version": "3.7.6"
  }
 },
 "nbformat": 4,
 "nbformat_minor": 2
}
