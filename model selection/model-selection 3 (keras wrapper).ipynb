{
 "cells": [
  {
   "cell_type": "markdown",
   "metadata": {},
   "source": [
    "###  Created by Luis A. Sanchez-Perez (alejand@umich.edu).\n",
    "<p><span style=\"color:green\"><b>Copyright &#169;</b> Do not distribute or use without authorization from author.</span></p>"
   ]
  },
  {
   "cell_type": "markdown",
   "metadata": {},
   "source": [
    "### Cross-validation using Tensorflow, Keras API and Sklearn Wrapper\n",
    "\n",
    "Builds a Keras MLP neural network using Tensorflow backend and performs model selection of the following hyperparameters:\n",
    "\n",
    "\n",
    "We use an [sk-learn wrapper](https://keras.io/scikit-learn-api/) for Keras models and peform cross-validation using [RandomizedSearchCV](https://scikit-learn.org/stable/modules/generated/sklearn.model_selection.RandomizedSearchCV.html). Since we want to apply standarization, we must use a [Pipeline](https://scikit-learn.org/stable/modules/compose.html#pipeline) to correctly standarize and evaluate the models during the cross-validation."
   ]
  },
  {
   "cell_type": "code",
   "execution_count": 1,
   "metadata": {},
   "outputs": [],
   "source": [
    "from sklearn.preprocessing import LabelEncoder, OneHotEncoder\n",
    "from sklearn.compose import ColumnTransformer\n",
    "from sklearn.preprocessing import StandardScaler\n",
    "from sklearn.model_selection import RandomizedSearchCV\n",
    "from sklearn.model_selection import train_test_split\n",
    "from sklearn.pipeline import Pipeline\n",
    "import scipy\n",
    "import numpy as np\n",
    "import pandas as pd\n",
    "import utils\n",
    "import tensorflow as tf\n",
    "import os\n",
    "os.environ['CUDA_VISIBLE_DEVICES'] = '-1'"
   ]
  },
  {
   "cell_type": "code",
   "execution_count": 2,
   "metadata": {},
   "outputs": [],
   "source": [
    "# Utility function to build the Keras model (params of the function are used during grid search)\n",
    "def build_model(num_features, num_outputs, architecture, regularization=0, activation='sigmoid', dropout_rate=0):\n",
    "    mdl = tf.keras.models.Sequential()\n",
    "    mdl.add(tf.keras.layers.Dense(architecture[0], activation=activation, input_dim=num_features,\n",
    "                                          kernel_regularizer=tf.keras.regularizers.l2(regularization)))\n",
    "    mdl.add(tf.keras.layers.Dropout(rate=dropout_rate))\n",
    "    for i in range(1, len(architecture)):\n",
    "        mdl.add(tf.keras.layers.Dense(architecture[i], activation=activation,\n",
    "                                       kernel_regularizer=tf.keras.regularizers.l2(regularization)))\n",
    "        \n",
    "        mdl.add(tf.keras.layers.Dropout(rate=dropout_rate))\n",
    "    if num_outputs > 1:\n",
    "        mdl.add(tf.keras.layers.Dense(num_outputs, activation='softmax'))\n",
    "        mdl.compile(optimizer='adam', loss='categorical_crossentropy') \n",
    "    else:\n",
    "        mdl.add(tf.keras.layers.Dense(num_outputs, activation='sigmoid'))\n",
    "        mdl.compile(optimizer='adam', loss='binary_crossentropy')\n",
    "    return mdl"
   ]
  },
  {
   "cell_type": "code",
   "execution_count": 3,
   "metadata": {},
   "outputs": [
    {
     "data": {
      "text/html": [
       "<div>\n",
       "<style scoped>\n",
       "    .dataframe tbody tr th:only-of-type {\n",
       "        vertical-align: middle;\n",
       "    }\n",
       "\n",
       "    .dataframe tbody tr th {\n",
       "        vertical-align: top;\n",
       "    }\n",
       "\n",
       "    .dataframe thead th {\n",
       "        text-align: right;\n",
       "    }\n",
       "</style>\n",
       "<table border=\"1\" class=\"dataframe\">\n",
       "  <thead>\n",
       "    <tr style=\"text-align: right;\">\n",
       "      <th></th>\n",
       "      <th>RowNumber</th>\n",
       "      <th>CustomerId</th>\n",
       "      <th>Surname</th>\n",
       "      <th>CreditScore</th>\n",
       "      <th>Geography</th>\n",
       "      <th>Gender</th>\n",
       "      <th>Age</th>\n",
       "      <th>Tenure</th>\n",
       "      <th>Balance</th>\n",
       "      <th>NumOfProducts</th>\n",
       "      <th>HasCrCard</th>\n",
       "      <th>IsActiveMember</th>\n",
       "      <th>EstimatedSalary</th>\n",
       "      <th>Exited</th>\n",
       "    </tr>\n",
       "  </thead>\n",
       "  <tbody>\n",
       "    <tr>\n",
       "      <th>0</th>\n",
       "      <td>1</td>\n",
       "      <td>15634602</td>\n",
       "      <td>Hargrave</td>\n",
       "      <td>619</td>\n",
       "      <td>France</td>\n",
       "      <td>Female</td>\n",
       "      <td>42</td>\n",
       "      <td>2</td>\n",
       "      <td>0.00</td>\n",
       "      <td>1</td>\n",
       "      <td>1</td>\n",
       "      <td>1</td>\n",
       "      <td>101348.88</td>\n",
       "      <td>1</td>\n",
       "    </tr>\n",
       "    <tr>\n",
       "      <th>1</th>\n",
       "      <td>2</td>\n",
       "      <td>15647311</td>\n",
       "      <td>Hill</td>\n",
       "      <td>608</td>\n",
       "      <td>Spain</td>\n",
       "      <td>Female</td>\n",
       "      <td>41</td>\n",
       "      <td>1</td>\n",
       "      <td>83807.86</td>\n",
       "      <td>1</td>\n",
       "      <td>0</td>\n",
       "      <td>1</td>\n",
       "      <td>112542.58</td>\n",
       "      <td>0</td>\n",
       "    </tr>\n",
       "    <tr>\n",
       "      <th>2</th>\n",
       "      <td>3</td>\n",
       "      <td>15619304</td>\n",
       "      <td>Onio</td>\n",
       "      <td>502</td>\n",
       "      <td>France</td>\n",
       "      <td>Female</td>\n",
       "      <td>42</td>\n",
       "      <td>8</td>\n",
       "      <td>159660.80</td>\n",
       "      <td>3</td>\n",
       "      <td>1</td>\n",
       "      <td>0</td>\n",
       "      <td>113931.57</td>\n",
       "      <td>1</td>\n",
       "    </tr>\n",
       "    <tr>\n",
       "      <th>3</th>\n",
       "      <td>4</td>\n",
       "      <td>15701354</td>\n",
       "      <td>Boni</td>\n",
       "      <td>699</td>\n",
       "      <td>France</td>\n",
       "      <td>Female</td>\n",
       "      <td>39</td>\n",
       "      <td>1</td>\n",
       "      <td>0.00</td>\n",
       "      <td>2</td>\n",
       "      <td>0</td>\n",
       "      <td>0</td>\n",
       "      <td>93826.63</td>\n",
       "      <td>0</td>\n",
       "    </tr>\n",
       "    <tr>\n",
       "      <th>4</th>\n",
       "      <td>5</td>\n",
       "      <td>15737888</td>\n",
       "      <td>Mitchell</td>\n",
       "      <td>850</td>\n",
       "      <td>Spain</td>\n",
       "      <td>Female</td>\n",
       "      <td>43</td>\n",
       "      <td>2</td>\n",
       "      <td>125510.82</td>\n",
       "      <td>1</td>\n",
       "      <td>1</td>\n",
       "      <td>1</td>\n",
       "      <td>79084.10</td>\n",
       "      <td>0</td>\n",
       "    </tr>\n",
       "  </tbody>\n",
       "</table>\n",
       "</div>"
      ],
      "text/plain": [
       "   RowNumber  CustomerId   Surname  CreditScore Geography  Gender  Age  \\\n",
       "0          1    15634602  Hargrave          619    France  Female   42   \n",
       "1          2    15647311      Hill          608     Spain  Female   41   \n",
       "2          3    15619304      Onio          502    France  Female   42   \n",
       "3          4    15701354      Boni          699    France  Female   39   \n",
       "4          5    15737888  Mitchell          850     Spain  Female   43   \n",
       "\n",
       "   Tenure    Balance  NumOfProducts  HasCrCard  IsActiveMember  \\\n",
       "0       2       0.00              1          1               1   \n",
       "1       1   83807.86              1          0               1   \n",
       "2       8  159660.80              3          1               0   \n",
       "3       1       0.00              2          0               0   \n",
       "4       2  125510.82              1          1               1   \n",
       "\n",
       "   EstimatedSalary  Exited  \n",
       "0        101348.88       1  \n",
       "1        112542.58       0  \n",
       "2        113931.57       1  \n",
       "3         93826.63       0  \n",
       "4         79084.10       0  "
      ]
     },
     "execution_count": 3,
     "metadata": {},
     "output_type": "execute_result"
    }
   ],
   "source": [
    "# Loads dataset from file\n",
    "dataset = pd.read_csv('E:/datasets/classification/bank_exiting.csv')\n",
    "predictors = dataset.iloc[:,3:-1].values\n",
    "responses = dataset.iloc[:,-1].values\n",
    "dataset.head()"
   ]
  },
  {
   "cell_type": "code",
   "execution_count": 4,
   "metadata": {},
   "outputs": [
    {
     "name": "stdout",
     "output_type": "stream",
     "text": [
      "['Female' 'Male']\n",
      "[608 'Spain' 'Female' 41 1 83807.86 1 0 1 112542.58]\n",
      "[608 'Spain' 0 41 1 83807.86 1 0 1 112542.58]\n"
     ]
    }
   ],
   "source": [
    "# Encoding the gender feature\n",
    "print(dataset['Gender'].unique())\n",
    "print(predictors[1,:])\n",
    "encoder = LabelEncoder()\n",
    "predictors[:,2] = encoder.fit_transform(predictors[:,2]) # only 0 or 1 after this (just one column needed)\n",
    "print(predictors[1,:])"
   ]
  },
  {
   "cell_type": "code",
   "execution_count": 5,
   "metadata": {},
   "outputs": [
    {
     "name": "stdout",
     "output_type": "stream",
     "text": [
      "[608 'Spain' 0 41 1 83807.86 1 0 1 112542.58]\n",
      "[0.0 1.0 608 0 41 1 83807.86 1 0 1 112542.58]\n"
     ]
    }
   ],
   "source": [
    "# Encoding the country feature\n",
    "print(predictors[1,:])\n",
    "ct = ColumnTransformer([('country_category', OneHotEncoder(categories='auto', drop='first'),[1])], remainder='passthrough')\n",
    "predictors = ct.fit_transform(predictors)\n",
    "print(predictors[1,:])\n",
    "X, X_holdout, y, y_holdout = train_test_split(predictors, responses, test_size=0.2, stratify=responses)"
   ]
  },
  {
   "cell_type": "code",
   "execution_count": 6,
   "metadata": {},
   "outputs": [],
   "source": [
    "# Defines pipeline\n",
    "sc = StandardScaler()\n",
    "clf = tf.keras.wrappers.scikit_learn.KerasClassifier(build_model,\n",
    "                                                     num_features=X.shape[1],\n",
    "                                                     num_outputs = 1, epochs=100, verbose=0)\n",
    "estimators = [('normalizer', sc), ('classifier', clf)]\n",
    "pipe = Pipeline(estimators)"
   ]
  },
  {
   "cell_type": "code",
   "execution_count": 7,
   "metadata": {},
   "outputs": [],
   "source": [
    "# Defines params distributions\n",
    "hyperparams_dist = [{\n",
    "    'classifier__architecture': [(20,6), (20,)],\n",
    "    'classifier__regularization': [0, 0.1, 0.2],\n",
    "    'classifier__activation': ['relu', 'sigmoid'],\n",
    "    'classifier__dropout_rate': [0, 0.1, 0.2],\n",
    "}]"
   ]
  },
  {
   "cell_type": "code",
   "execution_count": 8,
   "metadata": {
    "scrolled": true
   },
   "outputs": [
    {
     "name": "stdout",
     "output_type": "stream",
     "text": [
      "\n",
      "Model with rank: 1\n",
      "Mean validation score: 0.557 (std: 0.013)\n",
      "Parameters: {'classifier__regularization': 0, 'classifier__dropout_rate': 0.1, 'classifier__architecture': (20,), 'classifier__activation': 'sigmoid'}\n",
      "\n",
      "Model with rank: 2\n",
      "Mean validation score: 0.472 (std: 0.034)\n",
      "Parameters: {'classifier__regularization': 0.2, 'classifier__dropout_rate': 0.1, 'classifier__architecture': (20,), 'classifier__activation': 'relu'}\n",
      "\n",
      "Model with rank: 3\n",
      "Mean validation score: 0.418 (std: 0.061)\n",
      "Parameters: {'classifier__regularization': 0.2, 'classifier__dropout_rate': 0.2, 'classifier__architecture': (20,), 'classifier__activation': 'relu'}\n"
     ]
    }
   ],
   "source": [
    "# Performs randomized search\n",
    "validator = RandomizedSearchCV(pipe, cv=3, param_distributions=hyperparams_dist,\n",
    "                               scoring='f1', n_jobs=-1, verbose=0, n_iter=4)\n",
    "validator.fit(X,y)\n",
    "utils.report_search(validator.cv_results_)"
   ]
  },
  {
   "cell_type": "code",
   "execution_count": 9,
   "metadata": {},
   "outputs": [],
   "source": [
    "# Selects best configuration after search\n",
    "best = validator.best_estimator_"
   ]
  },
  {
   "cell_type": "code",
   "execution_count": 10,
   "metadata": {
    "scrolled": true
   },
   "outputs": [
    {
     "data": {
      "text/plain": [
       "Pipeline(memory=None,\n",
       "         steps=[('normalizer',\n",
       "                 StandardScaler(copy=True, with_mean=True, with_std=True)),\n",
       "                ('classifier',\n",
       "                 <tensorflow.python.keras.wrappers.scikit_learn.KerasClassifier object at 0x000001E689240588>)],\n",
       "         verbose=False)"
      ]
     },
     "execution_count": 10,
     "metadata": {},
     "output_type": "execute_result"
    }
   ],
   "source": [
    "# Retrains the model now on the available dataset (without validation/dev set). This step is optional!!!\n",
    "best.fit(X, y.ravel())"
   ]
  },
  {
   "cell_type": "code",
   "execution_count": 11,
   "metadata": {},
   "outputs": [
    {
     "name": "stdout",
     "output_type": "stream",
     "text": [
      "Train (Metrics): \n",
      "\n",
      "Accuracy: 0.87\n",
      "F1 Score: 0.58\n",
      "Recall: 0.46\n",
      "Precision: 0.79\n",
      "\n",
      "Confusion Matrix:\n",
      " [[6172  198]\n",
      " [ 880  750]]\n"
     ]
    }
   ],
   "source": [
    "# Training performance\n",
    "y_pred = best.predict(X)\n",
    "utils.report_classification(y, y_pred, title='Train')"
   ]
  },
  {
   "cell_type": "code",
   "execution_count": 12,
   "metadata": {},
   "outputs": [
    {
     "name": "stdout",
     "output_type": "stream",
     "text": [
      "Holdout (Metrics): \n",
      "\n",
      "Accuracy: 0.86\n",
      "F1 Score: 0.56\n",
      "Recall: 0.44\n",
      "Precision: 0.77\n",
      "\n",
      "Confusion Matrix:\n",
      " [[1540   53]\n",
      " [ 227  180]]\n"
     ]
    }
   ],
   "source": [
    "# Holdout performance\n",
    "y_pred = best.predict(X_holdout)\n",
    "utils.report_classification(y_holdout, y_pred, title='Holdout')"
   ]
  },
  {
   "cell_type": "code",
   "execution_count": null,
   "metadata": {},
   "outputs": [],
   "source": []
  }
 ],
 "metadata": {
  "kernelspec": {
   "display_name": "Python 3",
   "language": "python",
   "name": "python3"
  },
  "language_info": {
   "codemirror_mode": {
    "name": "ipython",
    "version": 3
   },
   "file_extension": ".py",
   "mimetype": "text/x-python",
   "name": "python",
   "nbconvert_exporter": "python",
   "pygments_lexer": "ipython3",
   "version": "3.7.6"
  }
 },
 "nbformat": 4,
 "nbformat_minor": 2
}
