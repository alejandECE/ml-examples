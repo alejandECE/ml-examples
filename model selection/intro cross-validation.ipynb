{
 "cells": [
  {
   "cell_type": "markdown",
   "metadata": {},
   "source": [
    "###  Created by Luis A. Sanchez-Perez (alejand@umich.edu).\n",
    "<p><span style=\"color:green\"><b>Copyright &#169;</b> Do not distribute or use without authorization from author.</span></p>"
   ]
  },
  {
   "cell_type": "markdown",
   "metadata": {},
   "source": [
    "### Cross-validation\n",
    "\n",
    "Hyper-parameters are parameters that are not directly learnt within estimators. It is possible and recommended to search the hyper-parameter space for the best cross validation score. \n",
    "\n",
    "If we tweak the hyperparameters using performance metrics on the test set, there is still a risk of overfitting since some knowledge about the test set can “leak” into the model and evaluation metrics no longer report on generalization performance. For this we can use an extra set called the \"validation set\".\n",
    "\n",
    "However, by partitioning the available data into three sets, we drastically reduce the number of samples which can be used for learning the model, and the results can depend on a particular random choice for the pair of (train, validation) sets.\n",
    "\n",
    "A solution to this problem is a procedure called cross-validation (CV for short). One of the most common used approaches is the k-fold cross-validation:\n",
    "\n",
    "<img src=\"https://scikit-learn.org/stable/_images/grid_search_cross_validation.png\" style=\"width: 600px;\"/>\n",
    "\n",
    "[Read More](https://scikit-learn.org/stable/modules/cross_validation.html)"
   ]
  },
  {
   "cell_type": "code",
   "execution_count": 1,
   "metadata": {},
   "outputs": [],
   "source": [
    "# Libraries\n",
    "import pandas as pd\n",
    "import numpy as np\n",
    "from sklearn import datasets\n",
    "from sklearn.linear_model import LinearRegression\n",
    "from sklearn.linear_model import LogisticRegression\n",
    "from sklearn.preprocessing import StandardScaler\n",
    "from sklearn.model_selection import train_test_split\n",
    "from sklearn.model_selection import KFold\n",
    "from sklearn.model_selection import cross_validate\n",
    "from sklearn.metrics import r2_score\n",
    "from sklearn.metrics import accuracy_score\n",
    "from sklearn.metrics import f1_score\n",
    "from sklearn.metrics import recall_score\n",
    "from sklearn.metrics import precision_score\n",
    "from sklearn.pipeline import Pipeline"
   ]
  },
  {
   "cell_type": "markdown",
   "metadata": {},
   "source": [
    "### Example of k-fold cross-validation on a regression task\n",
    "Fits a [LinearRegression](https://scikit-learn.org/stable/modules/generated/sklearn.linear_model.LinearRegression.html) model to the bodyfat dataset and performs the cross validation mannually using the [Kfold](https://scikit-learn.org/stable/modules/generated/sklearn.model_selection.KFold.html) class.\n"
   ]
  },
  {
   "cell_type": "code",
   "execution_count": 2,
   "metadata": {},
   "outputs": [
    {
     "data": {
      "text/plain": [
       "Index(['Age (Years)', 'Weight (lbs)', 'Height (inches)',\n",
       "       'Neck circumference (cm)', 'Chest circumference (cm)',\n",
       "       'Abdomen 2 circumference (cm)', 'Hip circumference (cm)',\n",
       "       'Thigh circumference (cm)', 'Knee circunference (cm)',\n",
       "       'Ankle circunference (cm)', 'Biceps (extended) circunference (cm)',\n",
       "       'Forearm circunference (cm)', 'Wrist circunference (cm)', 'Bodyfat %'],\n",
       "      dtype='object')"
      ]
     },
     "execution_count": 2,
     "metadata": {},
     "output_type": "execute_result"
    }
   ],
   "source": [
    "# Read dataset\n",
    "dataset = pd.read_csv('E:/datasets/regression/bodyfat.csv')\n",
    "predictors = dataset.iloc[:,:-1].values\n",
    "responses = dataset.iloc[:,-1].values\n",
    "dataset.columns"
   ]
  },
  {
   "cell_type": "code",
   "execution_count": 3,
   "metadata": {},
   "outputs": [
    {
     "name": "stdout",
     "output_type": "stream",
     "text": [
      "Validation Scores:  [0.59224697 0.54937184 0.70365817 0.71763049 0.65449403]\n",
      "Test Score (Best Model):  0.7394689955623373\n"
     ]
    }
   ],
   "source": [
    "# Splits into training/test sets\n",
    "X,X_holdout,y,y_holdout = train_test_split(predictors, responses, test_size=0.2, shuffle=True, random_state=0)\n",
    "# Train and evaluates model using standarization\n",
    "sc = StandardScaler()\n",
    "sc.fit(X)\n",
    "# Defines model\n",
    "mdl = LinearRegression()\n",
    "# Performs K-fold cross-validation\n",
    "kf = KFold(n_splits = 5)\n",
    "score = np.zeros(kf.get_n_splits())\n",
    "best_score = -float(\"inf\")\n",
    "best_mdl = mdl\n",
    "best_sc = sc\n",
    "for i, indexes in enumerate(kf.split(X)):\n",
    "    # Sets\n",
    "    X_train = X[indexes[0],:]\n",
    "    y_train = y[indexes[0]]\n",
    "    X_test = X[indexes[1],:]\n",
    "    y_test = y[indexes[1]]\n",
    "    # Standarizing\n",
    "    sc.fit(X_train)\n",
    "    X_train = sc.transform(X_train)\n",
    "    X_test = sc.transform(X_test)\n",
    "    # Training\n",
    "    mdl.fit(X_train,y_train)\n",
    "    y_pred = mdl.predict(X_test)    \n",
    "    score[i] = r2_score(y_test,y_pred)\n",
    "    # Picks best model\n",
    "    if best_score <= score[i]:\n",
    "        best_score = score[i]\n",
    "        best_mdl = mdl\n",
    "        best_sc = sc\n",
    "print('Validation Scores: ', score)\n",
    "X_holdout = best_sc.transform(X_holdout)\n",
    "y_pred = best_mdl.predict(X_holdout)\n",
    "print('Test Score (Best Model): ', r2_score(y_holdout,y_pred))"
   ]
  },
  {
   "cell_type": "markdown",
   "metadata": {},
   "source": [
    "#### Example of leaking info\n",
    "Standarizing before doing the cross-validation process (training/testing) is a way to leak information."
   ]
  },
  {
   "cell_type": "code",
   "execution_count": 4,
   "metadata": {},
   "outputs": [
    {
     "name": "stdout",
     "output_type": "stream",
     "text": [
      "Validation Scores:  [0.59224697 0.54937184 0.70365817 0.71763049 0.65449403]\n",
      "Test Score (Best Model):  0.739468995562337\n"
     ]
    }
   ],
   "source": [
    "# Splits into training/test sets\n",
    "X,X_holdout,y,y_holdout = train_test_split(predictors, responses, test_size = 0.2, random_state=0)\n",
    "# Train and evaluates model using standarization\n",
    "sc = StandardScaler()\n",
    "sc.fit(X)\n",
    "# Defines model\n",
    "mdl = LinearRegression()\n",
    "# Performs K-fold cross-validation\n",
    "kf = KFold(n_splits = 5)\n",
    "score = np.zeros(kf.get_n_splits())\n",
    "best_score = -float('inf')\n",
    "best_mdl = mdl\n",
    "best_sc = sc\n",
    "# Standarizing\n",
    "sc.fit(X)\n",
    "X = sc.transform(X)\n",
    "X_holdout = sc.transform(X_holdout)\n",
    "for i, indexes in enumerate(kf.split(X)):\n",
    "    # Sets\n",
    "    X_train = X[indexes[0],:]\n",
    "    y_train = y[indexes[0]]\n",
    "    X_test = X[indexes[1],:]\n",
    "    y_test = y[indexes[1]]\n",
    "    # Training\n",
    "    mdl.fit(X_train,y_train)\n",
    "    y_pred = mdl.predict(X_test)    \n",
    "    score[i] = r2_score(y_test,y_pred)\n",
    "    # Picks best model\n",
    "    if best_score <= score[i]:\n",
    "        best_score = score[i]\n",
    "        best_mdl = mdl      \n",
    "print('Validation Scores: ', score)\n",
    "y_pred = best_mdl.predict(X_holdout)\n",
    "print('Test Score (Best Model): ', r2_score(y_holdout,y_pred))"
   ]
  },
  {
   "cell_type": "markdown",
   "metadata": {},
   "source": [
    "### Example of k-fold cross-validation on a classification task\n",
    "Fits a [Logistic Regression](https://scikit-learn.org/stable/modules/generated/sklearn.linear_model.LogisticRegression.html) model to the [breast cancer dataset](https://scikit-learn.org/stable/modules/generated/sklearn.datasets.load_breast_cancer.html). Performs cross-validation using the [cross-validate](https://scikit-learn.org/stable/modules/generated/sklearn.model_selection.cross_validate.html#sklearn.model_selection.cross_validate) function to be able to retrieve the best model and evaluate several metrics at once (see [cross_val_score](https://scikit-learn.org/stable/modules/generated/sklearn.model_selection.cross_val_score.html#sklearn.model_selection.cross_val_score) as well). Since we need to apply standarization we are using a [Pipeline](https://scikit-learn.org/stable/modules/generated/sklearn.pipeline.Pipeline.html). Pipelines help avoid leaking statistics from your test data into the trained model in cross-validation, by ensuring that the same samples are used to train the transformers and predictors."
   ]
  },
  {
   "cell_type": "code",
   "execution_count": 5,
   "metadata": {},
   "outputs": [
    {
     "name": "stdout",
     "output_type": "stream",
     "text": [
      "['mean radius' 'mean texture' 'mean perimeter' 'mean area'\n",
      " 'mean smoothness' 'mean compactness' 'mean concavity'\n",
      " 'mean concave points' 'mean symmetry' 'mean fractal dimension'\n",
      " 'radius error' 'texture error' 'perimeter error' 'area error'\n",
      " 'smoothness error' 'compactness error' 'concavity error'\n",
      " 'concave points error' 'symmetry error' 'fractal dimension error'\n",
      " 'worst radius' 'worst texture' 'worst perimeter' 'worst area'\n",
      " 'worst smoothness' 'worst compactness' 'worst concavity'\n",
      " 'worst concave points' 'worst symmetry' 'worst fractal dimension']\n",
      "['malignant' 'benign']\n"
     ]
    }
   ],
   "source": [
    "# Load dataset\n",
    "dataset = datasets.load_breast_cancer()\n",
    "print(dataset.feature_names, end=\"\\n\")\n",
    "print(dataset.target_names)\n",
    "predictors = dataset.data\n",
    "responses = dataset.target"
   ]
  },
  {
   "cell_type": "code",
   "execution_count": null,
   "metadata": {},
   "outputs": [],
   "source": [
    "# Splits into training/test sets\n",
    "X,X_holdout,y,y_holdout = train_test_split(predictors,responses, test_size=0.3, shuffle=True, random_state=0,\n",
    "                                           stratify=responses)\n",
    "# Defines model\n",
    "sc = StandardScaler()\n",
    "clf = LogisticRegression(penalty='l2', C = 1)\n",
    "estimators = [('normalizer', sc), ('classifier', clf)]\n",
    "pipe = Pipeline(estimators)\n",
    "results = cross_validate(pipe,X,y,cv = 10,scoring = ['accuracy', 'f1','precision','recall'], n_jobs=-1,\n",
    "                         return_estimator=True, return_train_score=True)"
   ]
  },
  {
   "cell_type": "code",
   "execution_count": null,
   "metadata": {},
   "outputs": [],
   "source": [
    "print('\\nTime training (Avg): ', results['fit_time'].mean())\n",
    "print('\\nTraining Metrics: ')\n",
    "print('Accuracy (Avg): ', '%.2f' % results['train_accuracy'].mean())\n",
    "print('F1 Macro (Avg): ', '%.2f' % results['train_f1'].mean())\n",
    "print('Recall Macro (Avg): ', '%.2f' % results['train_recall'].mean())\n",
    "print('Precision Macro (Avg): ', '%.2f' % results['train_precision'].mean())\n",
    "print('\\nValidation Metrics: ')\n",
    "print('Accuracy (Avg): ', '%.2f' % results['test_accuracy'].mean())\n",
    "print('F1 Macro (Avg): ', '%.2f' % results['test_f1'].mean())\n",
    "print('Recall Macro (Avg): ', '%.2f' % results['test_recall'].mean())\n",
    "print('Precision Macro (Avg): ', '%.2f' % results['test_precision'].mean())"
   ]
  },
  {
   "cell_type": "code",
   "execution_count": 6,
   "metadata": {},
   "outputs": [
    {
     "name": "stdout",
     "output_type": "stream",
     "text": [
      "\n",
      "Time training (Avg):  0.016158390045166015\n",
      "\n",
      "Training Metrics: \n",
      "Accuracy (Avg):  0.99\n",
      "F1 Macro (Avg):  0.99\n",
      "Recall Macro (Avg):  1.00\n",
      "Precision Macro (Avg):  0.99\n",
      "\n",
      "Validation Metrics: \n",
      "Accuracy (Avg):  0.97\n",
      "F1 Macro (Avg):  0.98\n",
      "Recall Macro (Avg):  0.99\n",
      "Precision Macro (Avg):  0.97\n",
      "\n",
      "Test Metrics: \n",
      "Accuracy:  0.96\n",
      "F1 Score:  0.97\n",
      "Recall:  0.97\n",
      "Precision:  0.96\n"
     ]
    }
   ],
   "source": [
    "best_pipe = results['estimator'][results['test_accuracy'].argmax()]\n",
    "y_pred = best_pipe.predict(X_holdout)\n",
    "print('\\nTest Metrics: ')\n",
    "print('Accuracy: ', '%.2f' % accuracy_score(y_pred,y_holdout))\n",
    "print('F1 Score: ', '%.2f' % f1_score(y_pred,y_holdout))\n",
    "print('Recall: ', '%.2f' % recall_score(y_pred,y_holdout))\n",
    "print('Precision: ', '%.2f' % precision_score(y_pred,y_holdout))"
   ]
  },
  {
   "cell_type": "code",
   "execution_count": 7,
   "metadata": {},
   "outputs": [
    {
     "name": "stdout",
     "output_type": "stream",
     "text": [
      "\n",
      "Normalizer params:\n",
      "[1.41148743e+01 1.93022905e+01 9.19153073e+01 6.55463128e+02\n",
      " 9.61658659e-02 1.05021648e-01 8.96843148e-02 4.92759832e-02\n",
      " 1.81042737e-01 6.28090782e-02 3.98752793e-01 1.21846313e+00\n",
      " 2.83349162e+00 3.97895754e+01 7.10329888e-03 2.56611899e-02\n",
      " 3.22446863e-02 1.19545112e-02 2.06796899e-02 3.74859804e-03\n",
      " 1.62524497e+01 2.57179609e+01 1.07235810e+02 8.82199162e+02\n",
      " 1.32107318e-01 2.56284609e-01 2.73668936e-01 1.14922992e-01\n",
      " 2.90707263e-01 8.41565363e-02]\n",
      "[1.30466828e+01 1.88740618e+01 6.21070248e+02 1.28979355e+05\n",
      " 1.97348877e-04 2.91048760e-03 6.27644645e-03 1.57891539e-03\n",
      " 7.38345799e-04 5.01992553e-05 7.03785439e-02 2.87247421e-01\n",
      " 3.77624841e+00 1.87500958e+03 9.96382012e-06 2.98566956e-04\n",
      " 7.63398650e-04 3.94637089e-05 7.12141216e-05 4.78579636e-06\n",
      " 2.44973694e+01 3.71711363e+01 1.18666577e+03 3.42357894e+05\n",
      " 5.01738927e-04 2.43076296e-02 4.28319565e-02 4.48360228e-03\n",
      " 3.66214905e-03 3.18293130e-04]\n",
      "\n",
      "Classifier weights:\n",
      "[[-0.61456408 -0.38228139 -0.58558194 -0.64221868 -0.01851363  0.43212066\n",
      "  -0.73285143 -0.9456774  -0.1572721   0.30654141 -0.95045281 -0.06853353\n",
      "  -0.4391896  -0.61101896 -0.27020347  0.60899511  0.12371822 -0.34754568\n",
      "   0.46159356  0.42824124 -0.90022671 -1.01996163 -0.78718034 -0.81025031\n",
      "  -0.49512833 -0.18196049 -0.61360086 -0.77948624 -0.58668713 -0.77628854]]\n"
     ]
    }
   ],
   "source": [
    "print('\\nNormalizer params:')\n",
    "print(best_pipe['normalizer'].mean_)\n",
    "print(best_pipe['normalizer'].var_)\n",
    "print('\\nClassifier weights:')\n",
    "print(best_pipe['classifier'].coef_)"
   ]
  }
 ],
 "metadata": {
  "kernelspec": {
   "display_name": "Python 3",
   "language": "python",
   "name": "python3"
  },
  "language_info": {
   "codemirror_mode": {
    "name": "ipython",
    "version": 3
   },
   "file_extension": ".py",
   "mimetype": "text/x-python",
   "name": "python",
   "nbconvert_exporter": "python",
   "pygments_lexer": "ipython3",
   "version": "3.7.6"
  }
 },
 "nbformat": 4,
 "nbformat_minor": 2
}
