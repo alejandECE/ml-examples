{
 "cells": [
  {
   "cell_type": "markdown",
   "metadata": {},
   "source": [
    "###  Created by Luis A. Sanchez-Perez (alejand@umich.edu).\n",
    "<p><span style=\"color:green\"><b>Copyright &#169;</b> Do not distribute or use without authorization from author.</span></p>"
   ]
  },
  {
   "cell_type": "markdown",
   "metadata": {},
   "source": [
    "### Experiment\n",
    "Performs model selection of the following hyperparameters applied to the bank dataset (customers leaving):\n",
    "* Network architecture\n",
    "* Alpha (Regularization)\n",
    "* Activation function\n",
    "\n",
    "This is perform using a [RandomizedSearchCV](https://scikit-learn.org/stable/modules/generated/sklearn.model_selection.RandomizedSearchCV.html)."
   ]
  },
  {
   "cell_type": "code",
   "execution_count": 1,
   "metadata": {},
   "outputs": [],
   "source": [
    "from sklearn import datasets\n",
    "from sklearn.neural_network import MLPClassifier\n",
    "from sklearn.preprocessing import LabelEncoder, OneHotEncoder\n",
    "from sklearn.compose import ColumnTransformer\n",
    "from sklearn.preprocessing import StandardScaler\n",
    "from sklearn.model_selection import RandomizedSearchCV\n",
    "from sklearn.model_selection import train_test_split\n",
    "from sklearn.pipeline import Pipeline\n",
    "import numpy as np\n",
    "import pandas as pd\n",
    "import scipy\n",
    "import utils\n",
    "import warnings\n",
    "warnings.filterwarnings('ignore')"
   ]
  },
  {
   "cell_type": "code",
   "execution_count": 2,
   "metadata": {},
   "outputs": [],
   "source": [
    "# Loads dataset from file\n",
    "dataset = pd.read_csv('E:/datasets/classification/bank_exiting.csv')\n",
    "predictors = dataset.iloc[:,3:-1].values\n",
    "responses = dataset.iloc[:,-1].values\n",
    "# Encoding categorical data\n",
    "encoder_x1 = LabelEncoder()\n",
    "predictors[:,1] = encoder_x1.fit_transform(predictors[:,1]) # only 0 or 1 after this (just one column needed)\n",
    "encoder_x2 = LabelEncoder()\n",
    "predictors[:,2] = encoder_x2.fit_transform(predictors[:,2]) # more than two categories (use onehotencoder)\n",
    "ct = ColumnTransformer([('country_category', OneHotEncoder(categories='auto'),[1])], remainder='passthrough')\n",
    "predictors = ct.fit_transform(predictors)\n",
    "predictors = predictors[:,1:]"
   ]
  },
  {
   "cell_type": "code",
   "execution_count": 3,
   "metadata": {},
   "outputs": [],
   "source": [
    "# Splits intro training/holdout\n",
    "X, X_holdout, y, y_holdout = train_test_split(predictors, responses, test_size=0.2)"
   ]
  },
  {
   "cell_type": "code",
   "execution_count": 4,
   "metadata": {},
   "outputs": [
    {
     "data": {
      "text/plain": [
       "Pipeline(memory=None,\n",
       "         steps=[('normalizer',\n",
       "                 StandardScaler(copy=True, with_mean=True, with_std=True)),\n",
       "                ('network',\n",
       "                 MLPClassifier(activation='relu', alpha=0.0001,\n",
       "                               batch_size='auto', beta_1=0.9, beta_2=0.999,\n",
       "                               early_stopping=False, epsilon=1e-08,\n",
       "                               hidden_layer_sizes=(100,),\n",
       "                               learning_rate='constant',\n",
       "                               learning_rate_init=0.001, max_fun=15000,\n",
       "                               max_iter=1000, momentum=0.9, n_iter_no_change=10,\n",
       "                               nesterovs_momentum=True, power_t=0.5,\n",
       "                               random_state=None, shuffle=True, solver='adam',\n",
       "                               tol=0.0001, validation_fraction=0.1,\n",
       "                               verbose=False, warm_start=False))],\n",
       "         verbose=False)"
      ]
     },
     "execution_count": 4,
     "metadata": {},
     "output_type": "execute_result"
    }
   ],
   "source": [
    "# Creates pipeline\n",
    "clf = MLPClassifier(solver='adam', max_iter=1000)\n",
    "sc = StandardScaler()\n",
    "estimators = [('normalizer', sc), ('network', clf)]\n",
    "pipe = Pipeline(estimators)\n",
    "pipe"
   ]
  },
  {
   "cell_type": "code",
   "execution_count": 5,
   "metadata": {
    "scrolled": true
   },
   "outputs": [
    {
     "name": "stdout",
     "output_type": "stream",
     "text": [
      "Fitting 3 folds for each of 20 candidates, totalling 60 fits\n"
     ]
    },
    {
     "name": "stderr",
     "output_type": "stream",
     "text": [
      "[Parallel(n_jobs=-1)]: Using backend LokyBackend with 12 concurrent workers.\n",
      "[Parallel(n_jobs=-1)]: Done  17 tasks      | elapsed:    8.3s\n",
      "[Parallel(n_jobs=-1)]: Done  60 out of  60 | elapsed:   25.8s finished\n"
     ]
    },
    {
     "name": "stdout",
     "output_type": "stream",
     "text": [
      "\n",
      "Model with rank: 1\n",
      "Mean validation score: 0.575 (std: 0.007)\n",
      "Parameters: {'network__activation': 'relu', 'network__alpha': 0.3447262167121936, 'network__hidden_layer_sizes': (100, 20)}\n",
      "\n",
      "Model with rank: 2\n",
      "Mean validation score: 0.563 (std: 0.006)\n",
      "Parameters: {'network__activation': 'relu', 'network__alpha': 0.25126817145691427, 'network__hidden_layer_sizes': 20}\n",
      "\n",
      "Model with rank: 3\n",
      "Mean validation score: 0.559 (std: 0.014)\n",
      "Parameters: {'network__activation': 'logistic', 'network__alpha': 0.02003188664619049, 'network__hidden_layer_sizes': 20}\n"
     ]
    }
   ],
   "source": [
    "# Defines parameters distributions\n",
    "hyperparams_dist = [{\n",
    "    'network__hidden_layer_sizes': [(100, 20), (100), (20)],\n",
    "    'network__alpha': scipy.stats.distributions.uniform(loc=0, scale=1), # uniform [0,10]\n",
    "    'network__activation': ['logistic', 'relu']\n",
    "}]\n",
    "# Performs randomized search\n",
    "validator = RandomizedSearchCV(pipe, cv=3, param_distributions=hyperparams_dist,\n",
    "                               scoring='f1', n_jobs=-1, verbose=2, n_iter=20)\n",
    "validator.fit(X,y.ravel())\n",
    "# Report results\n",
    "utils.report_search(validator.cv_results_)"
   ]
  },
  {
   "cell_type": "code",
   "execution_count": 6,
   "metadata": {},
   "outputs": [],
   "source": [
    "# Selects best configuration after search\n",
    "best = validator.best_estimator_"
   ]
  },
  {
   "cell_type": "code",
   "execution_count": 7,
   "metadata": {},
   "outputs": [
    {
     "data": {
      "text/plain": [
       "Pipeline(memory=None,\n",
       "         steps=[('normalizer',\n",
       "                 StandardScaler(copy=True, with_mean=True, with_std=True)),\n",
       "                ('network',\n",
       "                 MLPClassifier(activation='relu', alpha=0.3447262167121936,\n",
       "                               batch_size='auto', beta_1=0.9, beta_2=0.999,\n",
       "                               early_stopping=False, epsilon=1e-08,\n",
       "                               hidden_layer_sizes=(100, 20),\n",
       "                               learning_rate='constant',\n",
       "                               learning_rate_init=0.001, max_fun=15000,\n",
       "                               max_iter=1000, momentum=0.9, n_iter_no_change=10,\n",
       "                               nesterovs_momentum=True, power_t=0.5,\n",
       "                               random_state=None, shuffle=True, solver='adam',\n",
       "                               tol=0.0001, validation_fraction=0.1,\n",
       "                               verbose=False, warm_start=False))],\n",
       "         verbose=False)"
      ]
     },
     "execution_count": 7,
     "metadata": {},
     "output_type": "execute_result"
    }
   ],
   "source": [
    "# Retrains the model now on the available dataset (without validation/dev set). This step is optional!!!\n",
    "best.fit(X, y.ravel())"
   ]
  },
  {
   "cell_type": "code",
   "execution_count": 8,
   "metadata": {},
   "outputs": [
    {
     "name": "stdout",
     "output_type": "stream",
     "text": [
      "Train (Metrics): \n",
      "\n",
      "Accuracy: 0.88\n",
      "F1 Score: 0.63\n",
      "Recall: 0.54\n",
      "Precision: 0.77\n",
      "\n",
      "Confusion Matrix:\n",
      " [[6137  265]\n",
      " [ 732  866]]\n"
     ]
    }
   ],
   "source": [
    "# Training performance\n",
    "y_pred = best.predict(X)\n",
    "utils.report_classification(y, y_pred, title='Train')"
   ]
  },
  {
   "cell_type": "code",
   "execution_count": 9,
   "metadata": {},
   "outputs": [
    {
     "name": "stdout",
     "output_type": "stream",
     "text": [
      "Holdout (Metrics): \n",
      "\n",
      "Accuracy: 0.86\n",
      "F1 Score: 0.64\n",
      "Recall: 0.56\n",
      "Precision: 0.75\n",
      "\n",
      "Confusion Matrix:\n",
      " [[1478   83]\n",
      " [ 194  245]]\n"
     ]
    }
   ],
   "source": [
    "# Holdout performance\n",
    "y_pred = best.predict(X_holdout)\n",
    "utils.report_classification(y_holdout, y_pred, title='Holdout')"
   ]
  },
  {
   "cell_type": "code",
   "execution_count": null,
   "metadata": {},
   "outputs": [],
   "source": []
  }
 ],
 "metadata": {
  "kernelspec": {
   "display_name": "Python 3",
   "language": "python",
   "name": "python3"
  },
  "language_info": {
   "codemirror_mode": {
    "name": "ipython",
    "version": 3
   },
   "file_extension": ".py",
   "mimetype": "text/x-python",
   "name": "python",
   "nbconvert_exporter": "python",
   "pygments_lexer": "ipython3",
   "version": "3.7.6"
  }
 },
 "nbformat": 4,
 "nbformat_minor": 2
}
