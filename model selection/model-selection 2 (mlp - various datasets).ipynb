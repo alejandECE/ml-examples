{
 "cells": [
  {
   "cell_type": "markdown",
   "metadata": {},
   "source": [
    "###  Created by Luis Alejandro (alejand@umich.edu)"
   ]
  },
  {
   "cell_type": "code",
   "execution_count": 1,
   "metadata": {},
   "outputs": [],
   "source": [
    "from sklearn import datasets\n",
    "from sklearn.neural_network import MLPClassifier\n",
    "from sklearn.preprocessing import LabelEncoder, OneHotEncoder\n",
    "from sklearn.compose import ColumnTransformer\n",
    "from sklearn.preprocessing import StandardScaler\n",
    "from sklearn.model_selection import GridSearchCV\n",
    "from sklearn.model_selection import train_test_split\n",
    "from sklearn.pipeline import Pipeline\n",
    "\n",
    "import numpy as np\n",
    "import pandas as pd\n",
    "import time\n",
    "\n",
    "import sys\n",
    "sys.path.append('../')\n",
    "import utils.reports as rp"
   ]
  },
  {
   "cell_type": "markdown",
   "metadata": {},
   "source": [
    "### Experiment 1\n",
    "Performs model selection of the following hyperparameters applied to the bank dataset (customers leaving):\n",
    "* Network architecture\n",
    "* Alpha (Regularization)\n",
    "\n",
    "This is perform using cross-validation and a grid search using [GridSearchCV](https://scikit-learn.org/stable/modules/generated/sklearn.model_selection.GridSearchCV.html).\n"
   ]
  },
  {
   "cell_type": "code",
   "execution_count": 2,
   "metadata": {},
   "outputs": [],
   "source": [
    "# Loads dataset from file\n",
    "dataset = pd.read_csv('../../datasets/classification/bank_exiting.csv')\n",
    "predictors = dataset.iloc[:,3:-1].values\n",
    "responses = dataset.iloc[:,-1].values\n",
    "# Encoding categorical data\n",
    "encoder_x1 = LabelEncoder()\n",
    "predictors[:,1] = encoder_x1.fit_transform(predictors[:,1]) # only 0 or 1 after this (just one column needed)\n",
    "encoder_x2 = LabelEncoder()\n",
    "predictors[:,2] = encoder_x2.fit_transform(predictors[:,2]) # more than two categories (use onehotencoder)\n",
    "ct = ColumnTransformer([('country_category', OneHotEncoder(categories='auto'),[1])], remainder='passthrough')\n",
    "predictors = ct.fit_transform(predictors)\n",
    "predictors = predictors[:,1:]\n",
    "X,X_holdout,y,y_holdout = train_test_split(predictors, responses, test_size = 0.2, random_state = 0)\n",
    "# Feature scaling\n",
    "sc = StandardScaler()\n",
    "X = sc.fit_transform(X)\n",
    "X_holdout = sc.transform(X_holdout)"
   ]
  },
  {
   "cell_type": "code",
   "execution_count": 3,
   "metadata": {},
   "outputs": [
    {
     "name": "stdout",
     "output_type": "stream",
     "text": [
      "Fitting 3 folds for each of 21 candidates, totalling 63 fits\n"
     ]
    },
    {
     "name": "stderr",
     "output_type": "stream",
     "text": [
      "[Parallel(n_jobs=-1)]: Using backend LokyBackend with 12 concurrent workers.\n",
      "[Parallel(n_jobs=-1)]: Done  26 tasks      | elapsed:    8.8s\n",
      "[Parallel(n_jobs=-1)]: Done  63 out of  63 | elapsed:   13.0s finished\n"
     ]
    },
    {
     "name": "stdout",
     "output_type": "stream",
     "text": [
      "Elapsed time:  14.971740399999998  seconds\n",
      "\n",
      "Model with rank: 1\n",
      "Mean validation score: 0.849 (std: 0.004)\n",
      "Parameters: {'alpha': 0, 'hidden_layer_sizes': 20}\n",
      "\n",
      "Model with rank: 2\n",
      "Mean validation score: 0.842 (std: 0.005)\n",
      "Parameters: {'alpha': 0.1, 'hidden_layer_sizes': 20}\n",
      "\n",
      "Model with rank: 3\n",
      "Mean validation score: 0.838 (std: 0.009)\n",
      "Parameters: {'alpha': 0, 'hidden_layer_sizes': 6}\n",
      "\n"
     ]
    },
    {
     "name": "stderr",
     "output_type": "stream",
     "text": [
      "D:\\Anaconda3\\lib\\site-packages\\sklearn\\neural_network\\_multilayer_perceptron.py:571: ConvergenceWarning: Stochastic Optimizer: Maximum iterations (200) reached and the optimization hasn't converged yet.\n",
      "  % self.max_iter, ConvergenceWarning)\n"
     ]
    }
   ],
   "source": [
    "# Performs grid search\n",
    "start = time.perf_counter()\n",
    "architecture_choices = [(20, 6), (6), (20)]\n",
    "alpha_choices = [0,0.1,0.3,0.8,1,2,10]\n",
    "\n",
    "hyperparams = [{\n",
    "    'hidden_layer_sizes': architecture_choices,\n",
    "    'alpha': alpha_choices\n",
    "}]\n",
    "\n",
    "mdl = MLPClassifier(activation='logistic')\n",
    "validator = GridSearchCV(mdl, cv=3, param_grid=hyperparams, scoring='accuracy', n_jobs=-1,verbose = 1)\n",
    "validator.fit(X,y)\n",
    "end = time.perf_counter()\n",
    "print('Elapsed time: ', end - start, ' seconds\\n')\n",
    "rp.report_grid_search(validator.cv_results_)"
   ]
  },
  {
   "cell_type": "code",
   "execution_count": 4,
   "metadata": {},
   "outputs": [
    {
     "name": "stdout",
     "output_type": "stream",
     "text": [
      "Holdout (Metrics): \n",
      "\n",
      "Accuracy:  0.86\n",
      "F1 Score:  0.60\n",
      "Recall:  0.50\n",
      "Precision:  0.74\n",
      "\n",
      "Confusion Matrix:\n",
      " [[1526   69]\n",
      " [ 204  201]]\n"
     ]
    }
   ],
   "source": [
    "# Perform evaluation in the holdout set\n",
    "y_pred = validator.predict(X_holdout)\n",
    "rp.report_classification(y_holdout,y_pred,title='Holdout')"
   ]
  },
  {
   "cell_type": "markdown",
   "metadata": {},
   "source": [
    "### Experiment 2\n",
    "Performs model selection of the following hyperparameters applied to the wine dataset:\n",
    "* Network architecture\n",
    "* Alpha (Regularization)\n",
    "* Activation function\n",
    "\n",
    "This is perform using cross-validation and a grid search using [GridSearchCV](https://scikit-learn.org/stable/modules/generated/sklearn.model_selection.GridSearchCV.html). Notice that no standarization is applied in this case"
   ]
  },
  {
   "cell_type": "code",
   "execution_count": 5,
   "metadata": {},
   "outputs": [],
   "source": [
    "# Load dataset\n",
    "dataset = datasets.load_wine()\n",
    "predictors = dataset.data\n",
    "responses = dataset.target\n",
    "X,X_holdout,y,y_holdout = train_test_split(predictors, responses, test_size = 0.2,stratify=responses)"
   ]
  },
  {
   "cell_type": "code",
   "execution_count": 6,
   "metadata": {
    "scrolled": false
   },
   "outputs": [
    {
     "name": "stderr",
     "output_type": "stream",
     "text": [
      "[Parallel(n_jobs=-1)]: Using backend LokyBackend with 12 concurrent workers.\n"
     ]
    },
    {
     "name": "stdout",
     "output_type": "stream",
     "text": [
      "Fitting 3 folds for each of 42 candidates, totalling 126 fits\n"
     ]
    },
    {
     "name": "stderr",
     "output_type": "stream",
     "text": [
      "[Parallel(n_jobs=-1)]: Done  28 tasks      | elapsed:    0.5s\n"
     ]
    },
    {
     "name": "stdout",
     "output_type": "stream",
     "text": [
      "Elapsed time:  1.9279146000000011  seconds\n",
      "\n",
      "Model with rank: 1\n",
      "Mean validation score: 0.944 (std: 0.010)\n",
      "Parameters: {'activation': 'logistic', 'alpha': 1, 'hidden_layer_sizes': (100,)}\n",
      "\n",
      "Model with rank: 2\n",
      "Mean validation score: 0.937 (std: 0.001)\n",
      "Parameters: {'activation': 'logistic', 'alpha': 2, 'hidden_layer_sizes': (100,)}\n",
      "\n",
      "Model with rank: 3\n",
      "Mean validation score: 0.936 (std: 0.018)\n",
      "Parameters: {'activation': 'relu', 'alpha': 10, 'hidden_layer_sizes': (100,)}\n",
      "\n"
     ]
    },
    {
     "name": "stderr",
     "output_type": "stream",
     "text": [
      "[Parallel(n_jobs=-1)]: Done 126 out of 126 | elapsed:    1.7s finished\n",
      "D:\\Anaconda3\\lib\\site-packages\\sklearn\\neural_network\\_multilayer_perceptron.py:571: ConvergenceWarning: Stochastic Optimizer: Maximum iterations (200) reached and the optimization hasn't converged yet.\n",
      "  % self.max_iter, ConvergenceWarning)\n"
     ]
    }
   ],
   "source": [
    "# Performs grid search\n",
    "start = time.perf_counter()\n",
    "architecture_choices = [(100,20), (100,), (20,)]\n",
    "alpha_choices = [0,0.1,0.3,0.8,1,2,10]\n",
    "activation_choices = ['logistic', 'relu']\n",
    "\n",
    "hyperparams = [{\n",
    "    'hidden_layer_sizes': architecture_choices,\n",
    "    'alpha': alpha_choices,\n",
    "    'activation': activation_choices\n",
    "}]\n",
    "\n",
    "mdl = MLPClassifier(max_iter = 200)\n",
    "validator = GridSearchCV(mdl, cv=3, param_grid=hyperparams, scoring='accuracy', n_jobs=-1,verbose = 1)\n",
    "validator.fit(X,y)\n",
    "end = time.perf_counter()\n",
    "print('Elapsed time: ', end - start, ' seconds\\n')\n",
    "rp.report_grid_search(validator.cv_results_)"
   ]
  },
  {
   "cell_type": "code",
   "execution_count": 7,
   "metadata": {},
   "outputs": [
    {
     "name": "stdout",
     "output_type": "stream",
     "text": [
      "Holdout (Metrics): \n",
      "\n",
      "Accuracy:  0.94\n",
      "F1 Score:  0.95\n",
      "Recall:  0.94\n",
      "Precision:  0.96\n",
      "\n",
      "Confusion Matrix:\n",
      " [[11  1  0]\n",
      " [ 0 14  0]\n",
      " [ 0  1  9]]\n"
     ]
    }
   ],
   "source": [
    "# Perform evaluation in the holdout set\n",
    "y_pred = validator.predict(X_holdout)\n",
    "rp.report_classification(y_holdout,y_pred,avg='macro',title='Holdout')"
   ]
  },
  {
   "cell_type": "markdown",
   "metadata": {},
   "source": [
    "### Experiment 3\n",
    "Performs model selection of the following hyperparameters applied to the wine dataset:\n",
    "* Network architecture\n",
    "* Alpha (Regularization)\n",
    "* Activation function\n",
    "\n",
    "This is perform using cross-validation and a grid search using [GridSearchCV](https://scikit-learn.org/stable/modules/generated/sklearn.model_selection.GridSearchCV.html). Since we want to apply standarization, we must use a [Pipeline](https://scikit-learn.org/stable/modules/compose.html#pipeline) to correctly standarize and evaluate the models during the cross-validation."
   ]
  },
  {
   "cell_type": "code",
   "execution_count": 8,
   "metadata": {},
   "outputs": [],
   "source": [
    "# Load dataset\n",
    "dataset = datasets.load_wine()\n",
    "predictors = dataset.data\n",
    "responses = dataset.target\n",
    "X,X_holdout,y,y_holdout = train_test_split(predictors, responses, test_size = 0.2,stratify=responses)"
   ]
  },
  {
   "cell_type": "code",
   "execution_count": 9,
   "metadata": {
    "scrolled": false
   },
   "outputs": [
    {
     "name": "stdout",
     "output_type": "stream",
     "text": [
      "Fitting 3 folds for each of 42 candidates, totalling 126 fits\n"
     ]
    },
    {
     "name": "stderr",
     "output_type": "stream",
     "text": [
      "[Parallel(n_jobs=-1)]: Using backend LokyBackend with 12 concurrent workers.\n",
      "[Parallel(n_jobs=-1)]: Done  28 tasks      | elapsed:    0.6s\n",
      "[Parallel(n_jobs=-1)]: Done 126 out of 126 | elapsed:    2.4s finished\n"
     ]
    },
    {
     "name": "stdout",
     "output_type": "stream",
     "text": [
      "Elapsed time:  2.7501041000000015  seconds\n",
      "\n",
      "Model with rank: 1\n",
      "Mean validation score: 0.979 (std: 0.017)\n",
      "Parameters: {'classifier__activation': 'relu', 'classifier__alpha': 0.3, 'classifier__hidden_layer_sizes': (100,)}\n",
      "\n",
      "Model with rank: 1\n",
      "Mean validation score: 0.979 (std: 0.017)\n",
      "Parameters: {'classifier__activation': 'relu', 'classifier__alpha': 1, 'classifier__hidden_layer_sizes': (100,)}\n",
      "\n",
      "Model with rank: 1\n",
      "Mean validation score: 0.979 (std: 0.017)\n",
      "Parameters: {'classifier__activation': 'relu', 'classifier__alpha': 2, 'classifier__hidden_layer_sizes': (100,)}\n",
      "\n"
     ]
    },
    {
     "name": "stderr",
     "output_type": "stream",
     "text": [
      "D:\\Anaconda3\\lib\\site-packages\\sklearn\\neural_network\\_multilayer_perceptron.py:571: ConvergenceWarning: Stochastic Optimizer: Maximum iterations (200) reached and the optimization hasn't converged yet.\n",
      "  % self.max_iter, ConvergenceWarning)\n"
     ]
    }
   ],
   "source": [
    "# Performs grid search\n",
    "start = time.perf_counter()\n",
    "\n",
    "sc = StandardScaler()\n",
    "clf = MLPClassifier(max_iter = 200)\n",
    "estimators = [('normalizer', sc), ('classifier', clf)]\n",
    "pipe = Pipeline(estimators)\n",
    "\n",
    "architecture_choices = [(100,20), (100,), (20,)]\n",
    "alpha_choices = [0,0.1,0.3,0.8,1,2,10]\n",
    "activation_choices = ['logistic', 'relu']\n",
    "\n",
    "hyperparams = [{\n",
    "    'classifier__hidden_layer_sizes': architecture_choices,\n",
    "    'classifier__alpha': alpha_choices,\n",
    "    'classifier__activation': activation_choices\n",
    "}]\n",
    "\n",
    "validator = GridSearchCV(pipe, cv=3, param_grid=hyperparams, scoring='accuracy', n_jobs=-1,verbose = 1)\n",
    "validator.fit(X,y)\n",
    "end = time.perf_counter()\n",
    "print('Elapsed time: ', end - start, ' seconds\\n')\n",
    "rp.report_grid_search(validator.cv_results_)"
   ]
  },
  {
   "cell_type": "code",
   "execution_count": 10,
   "metadata": {},
   "outputs": [
    {
     "name": "stdout",
     "output_type": "stream",
     "text": [
      "Holdout (Metrics): \n",
      "\n",
      "Accuracy:  0.97\n",
      "F1 Score:  0.97\n",
      "Recall:  0.97\n",
      "Precision:  0.98\n",
      "\n",
      "Confusion Matrix:\n",
      " [[12  0  0]\n",
      " [ 0 14  0]\n",
      " [ 0  1  9]]\n"
     ]
    }
   ],
   "source": [
    "# Perform evaluation in the holdout set\n",
    "y_pred = validator.predict(X_holdout)\n",
    "rp.report_classification(y_holdout,y_pred,avg='macro',title='Holdout')"
   ]
  },
  {
   "cell_type": "code",
   "execution_count": null,
   "metadata": {},
   "outputs": [],
   "source": []
  }
 ],
 "metadata": {
  "kernelspec": {
   "display_name": "Python 3",
   "language": "python",
   "name": "python3"
  },
  "language_info": {
   "codemirror_mode": {
    "name": "ipython",
    "version": 3
   },
   "file_extension": ".py",
   "mimetype": "text/x-python",
   "name": "python",
   "nbconvert_exporter": "python",
   "pygments_lexer": "ipython3",
   "version": "3.7.6"
  }
 },
 "nbformat": 4,
 "nbformat_minor": 2
}
