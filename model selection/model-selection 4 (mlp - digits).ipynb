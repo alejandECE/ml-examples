{
 "cells": [
  {
   "cell_type": "markdown",
   "metadata": {},
   "source": [
    "###  Created by Luis Alejandro (alejand@umich.edu)\n",
    "Builds an MLP classifier to classify the MNIST digits dataset. Uses MLP sklearn implementation."
   ]
  },
  {
   "cell_type": "code",
   "execution_count": 1,
   "metadata": {},
   "outputs": [],
   "source": [
    "import time\n",
    "import matplotlib.pyplot as plt\n",
    "from sklearn.neural_network import MLPClassifier\n",
    "from sklearn.metrics import accuracy_score\n",
    "from sklearn.metrics import f1_score\n",
    "from sklearn.metrics import recall_score\n",
    "from sklearn.metrics import precision_score\n",
    "from sklearn.model_selection import cross_validate\n",
    "import scipy.io as sio\n",
    "import numpy as np\n",
    "import numpy.random as rnd"
   ]
  },
  {
   "cell_type": "code",
   "execution_count": 2,
   "metadata": {},
   "outputs": [],
   "source": [
    "def display_subset(X,count=9,order='C'):\n",
    "    indexes = rnd.permutation(X.shape[0])\n",
    "    m = int(np.ceil(np.sqrt(count)))\n",
    "    n = int(np.ceil(count/m))\n",
    "    fig, axes = plt.subplots(n,m)\n",
    "    fig.set_size_inches(2*n,2*m)\n",
    "    fig.set_tight_layout(tight=0.1)\n",
    "    for i,ax in enumerate(axes.ravel()):\n",
    "        if i < count:\n",
    "            ax.matshow(X[indexes[i],:].reshape(28,28,order=order), cmap=plt.cm.gray)\n",
    "            ax.set_xticks(())\n",
    "            ax.set_yticks(())\n",
    "        else:\n",
    "            fig.delaxes(ax)\n",
    "            \n",
    "def display_digit(X,y,count=9,order='C',digit=0):\n",
    "    indexes = np.where(y == digit)[0]\n",
    "    indexes = rnd.permutation(indexes)\n",
    "    m = int(np.ceil(np.sqrt(count)))\n",
    "    n = int(np.ceil(count/m))\n",
    "    fig, axes = plt.subplots(n,m)\n",
    "    fig.set_size_inches(2*n,2*m)\n",
    "    fig.set_tight_layout(tight=0.1)\n",
    "    for i,ax in enumerate(axes.ravel()):\n",
    "        if i < count:\n",
    "            ax.matshow(X[indexes[i],:].reshape(28,28,order=order), cmap=plt.cm.gray)\n",
    "            ax.set_xticks(())\n",
    "            ax.set_yticks(())\n",
    "        else:\n",
    "            fig.delaxes(ax)\n",
    "            \n",
    "def compute_metrics(mdl,X,y):\n",
    "    y_pred = mdl.predict(X)\n",
    "    print('Accuracy: ', '%.2f'  % accuracy_score(y, y_pred))\n",
    "    print('F1 Score: ', '%.2f'  % f1_score(y, y_pred, average='macro'))\n",
    "    print('Recall: ', '%.2f'  % recall_score(y, y_pred, average='macro'))\n",
    "    print('Precision: ', '%.2f'  % precision_score(y, y_pred, average='macro'))"
   ]
  },
  {
   "cell_type": "code",
   "execution_count": 3,
   "metadata": {},
   "outputs": [],
   "source": [
    "# Loading the data\n",
    "datafile = sio.loadmat('../../datasets/classification/mnist/emnist-digits.mat')\n",
    "X1 = datafile['dataset'][0][0]['train'][0][0]['images']\n",
    "X1 = X1 / 255.\n",
    "X2 = datafile['dataset'][0][0]['test'][0][0]['images']\n",
    "X2 = X2 / 255.\n",
    "y1 = datafile['dataset'][0][0]['train'][0][0]['labels'].ravel()\n",
    "y2 = datafile['dataset'][0][0]['test'][0][0]['labels'].ravel()\n",
    "X = np.concatenate((X1,X2))\n",
    "y = np.concatenate((y1,y2))"
   ]
  },
  {
   "cell_type": "code",
   "execution_count": 4,
   "metadata": {},
   "outputs": [],
   "source": [
    "# Determines train/test split\n",
    "use_original_split = False\n",
    "samples = 5000\n",
    "if samples > X1.shape[0]:\n",
    "    samples = X1.shape[0]\n",
    "# Using original\n",
    "if use_original_split:\n",
    "    X_train = X[:samples,:]\n",
    "    y_train = y[:samples]\n",
    "    X_test = X[X1.shape[0]:,:]\n",
    "    y_test = y[X1.shape[0]:]\n",
    "else:\n",
    "    m = y.shape[0]\n",
    "    pct = samples/m\n",
    "    if pct > 1: pct = 1\n",
    "    i = np.random.permutation(m)\n",
    "    X = X[i,:];\n",
    "    y = y[i]\n",
    "    m = round(pct*m)\n",
    "    X_train = X[:m,:]\n",
    "    X_test = X[m:,:]\n",
    "    y_train = y[:m]\n",
    "    y_test = y[m:]"
   ]
  },
  {
   "cell_type": "code",
   "execution_count": 5,
   "metadata": {},
   "outputs": [
    {
     "data": {
      "image/png": "[encoded data removed]",
      "text/plain": [
       "<Figure size 432x432 with 9 Axes>"
      ]
     },
     "metadata": {},
     "output_type": "display_data"
    }
   ],
   "source": [
    "# Displays some examples\n",
    "display_digit(X_train,y_train,count=9,order='F')"
   ]
  },
  {
   "cell_type": "code",
   "execution_count": 6,
   "metadata": {},
   "outputs": [
    {
     "data": {
      "image/png": "[encoded data removed]",
      "text/plain": [
       "<Figure size 432x432 with 9 Axes>"
      ]
     },
     "metadata": {},
     "output_type": "display_data"
    }
   ],
   "source": [
    "# Displays some examples\n",
    "display_subset(X_train,order='F', count=9)"
   ]
  },
  {
   "cell_type": "code",
   "execution_count": 7,
   "metadata": {},
   "outputs": [],
   "source": [
    "# MLP classifier\n",
    "regularization = 1\n",
    "mdl = MLPClassifier(hidden_layer_sizes=(30), activation='logistic',\n",
    "                    max_iter=400, alpha=regularization)"
   ]
  },
  {
   "cell_type": "code",
   "execution_count": 8,
   "metadata": {
    "scrolled": false
   },
   "outputs": [
    {
     "name": "stdout",
     "output_type": "stream",
     "text": [
      "Training size:  (5000, 784)\n",
      "Test size:  (275000, 784)\n",
      "\n",
      "Time training:  7.197432599999999  sec\n",
      "# of iterations:  172\n",
      "\n",
      "Training Metrics: \n",
      "Accuracy:  0.94\n",
      "F1 Score:  0.94\n",
      "Recall:  0.94\n",
      "Precision:  0.94\n",
      "\n",
      "Test Metrics: \n",
      "Accuracy:  0.92\n",
      "F1 Score:  0.92\n",
      "Recall:  0.92\n",
      "Precision:  0.92\n"
     ]
    }
   ],
   "source": [
    "# Training using one single training/test split\n",
    "print('Training size: ', X_train.shape)\n",
    "print('Test size: ', X_test.shape)\n",
    "start = time.perf_counter()\n",
    "mdl.fit(X_train,y_train)\n",
    "end = time.perf_counter()\n",
    "print('\\nTime training: ', end - start, ' sec')\n",
    "print('# of iterations: ', mdl.n_iter_)\n",
    "print('\\nTraining Metrics: ')\n",
    "compute_metrics(mdl,X_train,y_train)\n",
    "print('\\nTest Metrics: ')\n",
    "compute_metrics(mdl,X_test,y_test)"
   ]
  },
  {
   "cell_type": "code",
   "execution_count": 9,
   "metadata": {},
   "outputs": [
    {
     "name": "stdout",
     "output_type": "stream",
     "text": [
      "['estimator', 'fit_time', 'score_time', 'test_accuracy', 'test_f1_macro', 'test_precision_macro', 'test_recall_macro', 'train_accuracy', 'train_f1_macro', 'train_precision_macro', 'train_recall_macro']\n",
      "\n",
      "Time training (Avg):  10.85523018836975\n",
      "\n",
      "Training Metrics: \n",
      "Accuracy (Avg):  0.94\n",
      "F1 Macro (Avg):  0.94\n",
      "Recall Macro (Avg):  0.94\n",
      "Precision Macro (Avg):  0.94\n",
      "\n",
      "Validation Metrics: \n",
      "Accuracy (Avg):  0.92\n",
      "F1 Macro (Avg):  0.92\n",
      "Recall Macro (Avg):  0.92\n",
      "Precision Macro (Avg):  0.92\n"
     ]
    }
   ],
   "source": [
    "# Training using K-fold crossvalidation\n",
    "scores = ['accuracy', 'f1_macro', 'recall_macro', 'precision_macro']\n",
    "results = cross_validate(mdl, X_train, y_train, cv = 5, n_jobs = -1, scoring=scores,\n",
    "                         return_estimator=True, return_train_score=True)\n",
    "print(sorted(results))\n",
    "print('\\nTime training (Avg): ', results['fit_time'].mean())\n",
    "\n",
    "print('\\nTraining Metrics: ')\n",
    "print('Accuracy (Avg): ', '%.2f' % results['train_accuracy'].mean())\n",
    "print('F1 Macro (Avg): ', '%.2f' % results['train_f1_macro'].mean())\n",
    "print('Recall Macro (Avg): ', '%.2f' % results['train_recall_macro'].mean())\n",
    "print('Precision Macro (Avg): ', '%.2f' % results['train_precision_macro'].mean())\n",
    "\n",
    "print('\\nValidation Metrics: ')\n",
    "print('Accuracy (Avg): ', '%.2f' % results['test_accuracy'].mean())\n",
    "print('F1 Macro (Avg): ', '%.2f' % results['test_f1_macro'].mean())\n",
    "print('Recall Macro (Avg): ', '%.2f' % results['test_recall_macro'].mean())\n",
    "print('Precision Macro (Avg): ', '%.2f' % results['test_precision_macro'].mean())"
   ]
  },
  {
   "cell_type": "code",
   "execution_count": null,
   "metadata": {},
   "outputs": [],
   "source": []
  }
 ],
 "metadata": {
  "kernelspec": {
   "display_name": "Python 3",
   "language": "python",
   "name": "python3"
  },
  "language_info": {
   "codemirror_mode": {
    "name": "ipython",
    "version": 3
   },
   "file_extension": ".py",
   "mimetype": "text/x-python",
   "name": "python",
   "nbconvert_exporter": "python",
   "pygments_lexer": "ipython3",
   "version": "3.7.6"
  }
 },
 "nbformat": 4,
 "nbformat_minor": 2
}
