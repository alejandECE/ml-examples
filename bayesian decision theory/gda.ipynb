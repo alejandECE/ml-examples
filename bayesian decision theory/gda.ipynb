{
 "cells": [
  {
   "cell_type": "markdown",
   "metadata": {},
   "source": [
    "###  Created by Luis A. Sanchez-Perez (alejand@umich.edu)"
   ]
  },
  {
   "cell_type": "code",
   "execution_count": 1,
   "metadata": {},
   "outputs": [],
   "source": [
    "# Import libraries\n",
    "import numpy as np\n",
    "import matplotlib.pyplot as plt\n",
    "from scipy.io import loadmat\n",
    "from scipy.stats import multivariate_normal\n",
    "from sklearn.model_selection import train_test_split\n",
    "from sklearn.discriminant_analysis import LinearDiscriminantAnalysis\n",
    "from sklearn.discriminant_analysis import QuadraticDiscriminantAnalysis"
   ]
  },
  {
   "cell_type": "code",
   "execution_count": 2,
   "metadata": {},
   "outputs": [],
   "source": [
    "def plot_perf(mdl, X, y):\n",
    "    y_pred = mdl.predict(X)\n",
    "    correct = (y_pred == y);\n",
    "    tp = correct[y == 1]\n",
    "    fn = ~tp\n",
    "    tn = correct[y == 0]\n",
    "    fp = ~tn\n",
    "    err = (sum(fp) + sum(fn))/y_pred.shape[0]\n",
    "    recall = sum(tp)/(sum(tp) + sum(fn))\n",
    "    precision = sum(tp)/(sum(tp) + sum(fp))\n",
    "    f1score = 2*(recall * precision)/(recall + precision)\n",
    "    print(\"Accuracy: \", \"%.2f\" % (1 - err))\n",
    "    print(\"Recall: \", \"%.2f\" % recall)\n",
    "    print(\"Precision: \", \"%.2f\" % precision)\n",
    "    print(\"F1 Score: \", \"%.2f\" % f1score)\n",
    "    \n",
    "    if X.shape[1] != 2:\n",
    "        return\n",
    "        \n",
    "    X1 = X[y == 1,:]\n",
    "    X0 = X[y == 0,:]\n",
    "    plt.scatter(X1[tp, 0], X1[tp, 1], label = \"True Positive\", marker = '.',color = 'blue',linewidths = 3)\n",
    "    plt.scatter(X0[tn, 0], X0[tn, 1], label = \"True Negative\", marker = '.',color = 'red',linewidths = 3)\n",
    "    plt.scatter(X1[fn, 0], X1[fn, 1], label = \"False Negative\", marker = 'x',color = 'red',linewidths = 3)\n",
    "    plt.scatter(X0[fp, 0], X0[fp, 1], label = \"False Positive\", marker = 'x',color = 'blue',linewidths = 3)\n",
    "    nx, ny = 200, 200\n",
    "    x_min, x_max = plt.xlim()\n",
    "    y_min, y_max = plt.ylim()\n",
    "    xx, yy = np.meshgrid(np.linspace(x_min, x_max, nx), np.linspace(y_min, y_max, ny))\n",
    "    obs = np.hstack((xx.reshape(nx*ny,1), yy.reshape(nx*ny,1)))\n",
    "    # boundary\n",
    "    plt.contour(xx, yy, mdl.predict_proba(obs)[:,0].reshape(xx.shape), [0.5], linewidths=2., colors='magenta')\n",
    "    \n",
    "    if (isinstance(mdl,LinearDiscriminantAnalysis)):\n",
    "        # class 0 distribution\n",
    "        p0 = multivariate_normal(mean=mdl.means_[0,:], cov=mdl.covariance_)\n",
    "        plt.contour(xx, yy, p0.pdf(obs).reshape(xx.shape))\n",
    "        # class 1 distribution\n",
    "        p1 = multivariate_normal(mean=mdl.means_[1,:], cov=mdl.covariance_)\n",
    "        plt.contour(xx, yy, p1.pdf(obs).reshape(xx.shape))\n",
    "        # eigenvectors\n",
    "        value,vector = np.linalg.eig(mdl.covariance_)\n",
    "        uv = np.vstack((vector[:,0]*value[0],vector[:,1]*value[1]))\n",
    "        xy = np.vstack((mdl.means_[0,:],mdl.means_[0,:]))\n",
    "        plt.quiver(xy[:,0],xy[:,1],uv[:,0],uv[:,1])\n",
    "        xy = np.vstack((mdl.means_[1,:],mdl.means_[1,:]))\n",
    "        plt.quiver(xy[:,0],xy[:,1],uv[:,0],uv[:,1])"
   ]
  },
  {
   "cell_type": "code",
   "execution_count": 3,
   "metadata": {},
   "outputs": [
    {
     "name": "stdout",
     "output_type": "stream",
     "text": [
      "Positive Observations:  121\n"
     ]
    }
   ],
   "source": [
    "# Load data from mat file\n",
    "data = loadmat('../../datasets/classification/ovarian.mat')\n",
    "X = data['ovarianInputs'].T\n",
    "X = X[:,0:2]\n",
    "y = data['ovarianTargets'][0,:]\n",
    "print(\"Positive Observations: \",(y == 1).sum())"
   ]
  },
  {
   "cell_type": "code",
   "execution_count": 4,
   "metadata": {},
   "outputs": [],
   "source": [
    "# Split dataset into train and test sets\n",
    "X_train, X_test, y_train, y_test = train_test_split(X,y,test_size = 0.25, random_state = 0)"
   ]
  },
  {
   "cell_type": "code",
   "execution_count": 5,
   "metadata": {},
   "outputs": [
    {
     "data": {
      "text/plain": [
       "QuadraticDiscriminantAnalysis(priors=None, reg_param=0.0,\n",
       "                              store_covariance=False, tol=0.0001)"
      ]
     },
     "execution_count": 5,
     "metadata": {},
     "output_type": "execute_result"
    }
   ],
   "source": [
    "# Train model\n",
    "mdl = QuadraticDiscriminantAnalysis()\n",
    "# mdl = LinearDiscriminantAnalysis(solver = 'lsqr', shrinkage = 0.5)\n",
    "mdl.fit(X_train, y_train)"
   ]
  },
  {
   "cell_type": "code",
   "execution_count": 6,
   "metadata": {},
   "outputs": [
    {
     "name": "stdout",
     "output_type": "stream",
     "text": [
      "Accuracy:  0.87\n",
      "Recall:  0.89\n",
      "Precision:  0.88\n",
      "F1 Score:  0.89\n"
     ]
    },
    {
     "data": {
      "text/plain": [
       "(0, 1)"
      ]
     },
     "execution_count": 6,
     "metadata": {},
     "output_type": "execute_result"
    },
    {
     "data": {
      "image/png": "[encoded data removed]",
      "text/plain": [
       "<Figure size 360x360 with 1 Axes>"
      ]
     },
     "metadata": {
      "needs_background": "light"
     },
     "output_type": "display_data"
    }
   ],
   "source": [
    "# Evaluate performance on the training set\n",
    "plt.figure(figsize=(5,5))\n",
    "plot_perf(mdl, X_train, y_train)\n",
    "plt.xlim((0,1))\n",
    "plt.ylim((0,1))"
   ]
  },
  {
   "cell_type": "code",
   "execution_count": 7,
   "metadata": {},
   "outputs": [
    {
     "name": "stdout",
     "output_type": "stream",
     "text": [
      "Accuracy:  0.89\n",
      "Recall:  0.90\n",
      "Precision:  0.90\n",
      "F1 Score:  0.90\n"
     ]
    },
    {
     "data": {
      "text/plain": [
       "(0, 1)"
      ]
     },
     "execution_count": 7,
     "metadata": {},
     "output_type": "execute_result"
    },
    {
     "data": {
      "image/png": "[encoded data removed]",
      "text/plain": [
       "<Figure size 360x360 with 1 Axes>"
      ]
     },
     "metadata": {
      "needs_background": "light"
     },
     "output_type": "display_data"
    }
   ],
   "source": [
    "# Evaluate performance on the test set\n",
    "plt.figure(figsize=(5,5))\n",
    "plot_perf(mdl, X_test, y_test)\n",
    "plt.xlim((0,1))\n",
    "plt.ylim((0,1))"
   ]
  }
 ],
 "metadata": {
  "kernelspec": {
   "display_name": "Python 3",
   "language": "python",
   "name": "python3"
  },
  "language_info": {
   "codemirror_mode": {
    "name": "ipython",
    "version": 3
   },
   "file_extension": ".py",
   "mimetype": "text/x-python",
   "name": "python",
   "nbconvert_exporter": "python",
   "pygments_lexer": "ipython3",
   "version": "3.7.6"
  }
 },
 "nbformat": 4,
 "nbformat_minor": 2
}
