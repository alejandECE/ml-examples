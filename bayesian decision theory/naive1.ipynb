{
 "cells": [
  {
   "cell_type": "markdown",
   "metadata": {},
   "source": [
    "###  Created by Luis A. Sanchez-Perez (alejand@umich.edu).\n",
    "<p><span style=\"color:green\"><b>Copyright &#169;</b> Do not distribute or use without authorization from author.</span></p>"
   ]
  },
  {
   "cell_type": "code",
   "execution_count": 1,
   "metadata": {},
   "outputs": [],
   "source": [
    "import numpy as np\n",
    "import pandas as pd\n",
    "import matplotlib.pyplot as plt\n",
    "from matplotlib.colors import ListedColormap\n",
    "from sklearn.model_selection import train_test_split\n",
    "from sklearn.naive_bayes import GaussianNB\n",
    "from sklearn.metrics import confusion_matrix\n",
    "from sklearn.metrics import accuracy_score"
   ]
  },
  {
   "cell_type": "code",
   "execution_count": 2,
   "metadata": {},
   "outputs": [],
   "source": [
    "# Importing the dataset\n",
    "dataset = pd.read_csv('../../datasets/classification/social.csv')"
   ]
  },
  {
   "cell_type": "code",
   "execution_count": 3,
   "metadata": {},
   "outputs": [
    {
     "data": {
      "text/html": [
       "<div>\n",
       "<style scoped>\n",
       "    .dataframe tbody tr th:only-of-type {\n",
       "        vertical-align: middle;\n",
       "    }\n",
       "\n",
       "    .dataframe tbody tr th {\n",
       "        vertical-align: top;\n",
       "    }\n",
       "\n",
       "    .dataframe thead th {\n",
       "        text-align: right;\n",
       "    }\n",
       "</style>\n",
       "<table border=\"1\" class=\"dataframe\">\n",
       "  <thead>\n",
       "    <tr style=\"text-align: right;\">\n",
       "      <th></th>\n",
       "      <th>User ID</th>\n",
       "      <th>Gender</th>\n",
       "      <th>Age</th>\n",
       "      <th>EstimatedSalary</th>\n",
       "      <th>Purchased</th>\n",
       "    </tr>\n",
       "  </thead>\n",
       "  <tbody>\n",
       "    <tr>\n",
       "      <th>0</th>\n",
       "      <td>15624510</td>\n",
       "      <td>Male</td>\n",
       "      <td>19</td>\n",
       "      <td>19000</td>\n",
       "      <td>0</td>\n",
       "    </tr>\n",
       "    <tr>\n",
       "      <th>1</th>\n",
       "      <td>15810944</td>\n",
       "      <td>Male</td>\n",
       "      <td>35</td>\n",
       "      <td>20000</td>\n",
       "      <td>0</td>\n",
       "    </tr>\n",
       "    <tr>\n",
       "      <th>2</th>\n",
       "      <td>15668575</td>\n",
       "      <td>Female</td>\n",
       "      <td>26</td>\n",
       "      <td>43000</td>\n",
       "      <td>0</td>\n",
       "    </tr>\n",
       "    <tr>\n",
       "      <th>3</th>\n",
       "      <td>15603246</td>\n",
       "      <td>Female</td>\n",
       "      <td>27</td>\n",
       "      <td>57000</td>\n",
       "      <td>0</td>\n",
       "    </tr>\n",
       "    <tr>\n",
       "      <th>4</th>\n",
       "      <td>15804002</td>\n",
       "      <td>Male</td>\n",
       "      <td>19</td>\n",
       "      <td>76000</td>\n",
       "      <td>0</td>\n",
       "    </tr>\n",
       "  </tbody>\n",
       "</table>\n",
       "</div>"
      ],
      "text/plain": [
       "    User ID  Gender  Age  EstimatedSalary  Purchased\n",
       "0  15624510    Male   19            19000          0\n",
       "1  15810944    Male   35            20000          0\n",
       "2  15668575  Female   26            43000          0\n",
       "3  15603246  Female   27            57000          0\n",
       "4  15804002    Male   19            76000          0"
      ]
     },
     "execution_count": 3,
     "metadata": {},
     "output_type": "execute_result"
    }
   ],
   "source": [
    "dataset.head()"
   ]
  },
  {
   "cell_type": "code",
   "execution_count": 4,
   "metadata": {},
   "outputs": [],
   "source": [
    "# Select only two features to work with\n",
    "features = [2,3]\n",
    "X = dataset.iloc[:, features].values\n",
    "y = dataset.iloc[:, 4].values"
   ]
  },
  {
   "cell_type": "code",
   "execution_count": 5,
   "metadata": {},
   "outputs": [],
   "source": [
    "# Splitting the dataset into the Training set and Test set\n",
    "X_train, X_test, y_train, y_test = train_test_split(X, y, test_size = 0.25)"
   ]
  },
  {
   "cell_type": "code",
   "execution_count": 6,
   "metadata": {
    "scrolled": true
   },
   "outputs": [
    {
     "name": "stdout",
     "output_type": "stream",
     "text": [
      "[[6.94804137e+01 6.13406458e+08]\n",
      " [7.29967939e+01 1.78891796e+09]]\n",
      "[[3.21783784e+01 6.13945946e+04]\n",
      " [4.62695652e+01 8.37826087e+04]]\n"
     ]
    }
   ],
   "source": [
    "# Fitting Naive Bayes to the training set\n",
    "classifier = GaussianNB()\n",
    "classifier.fit(X_train, y_train)\n",
    "print(classifier.sigma_,end=\"\\n\")\n",
    "print(classifier.theta_)"
   ]
  },
  {
   "cell_type": "code",
   "execution_count": 7,
   "metadata": {},
   "outputs": [
    {
     "name": "stdout",
     "output_type": "stream",
     "text": [
      "[[171  14]\n",
      " [ 16  99]]\n",
      "0.9\n"
     ]
    }
   ],
   "source": [
    "# Predicting the training set results\n",
    "y_pred = classifier.predict(X_train)\n",
    "# Making the Confusion Matrix\n",
    "cm = confusion_matrix(y_train, y_pred)\n",
    "print(cm)\n",
    "print(accuracy_score(y_train,y_pred))"
   ]
  },
  {
   "cell_type": "code",
   "execution_count": 8,
   "metadata": {},
   "outputs": [
    {
     "name": "stdout",
     "output_type": "stream",
     "text": [
      "[[67  5]\n",
      " [ 5 23]]\n",
      "0.9\n"
     ]
    }
   ],
   "source": [
    "# Predicting the test set results\n",
    "y_pred = classifier.predict(X_test)\n",
    "# Making the Confusion Matrix\n",
    "cm = confusion_matrix(y_test, y_pred)\n",
    "print(cm)\n",
    "print(accuracy_score(y_test,y_pred))"
   ]
  },
  {
   "cell_type": "code",
   "execution_count": 9,
   "metadata": {},
   "outputs": [
    {
     "data": {
      "image/png": "[encoded data removed]",
      "text/plain": [
       "<Figure size 432x288 with 1 Axes>"
      ]
     },
     "metadata": {
      "needs_background": "light"
     },
     "output_type": "display_data"
    }
   ],
   "source": [
    "# Visualising the training set results\n",
    "color_map = ListedColormap(('red', 'green', 'blue'))\n",
    "pts = 200\n",
    "x1 = np.linspace(X[:, 0].min(),X[:, 0].max(),pts)\n",
    "x2 = np.linspace(X[:, 1].min(),X[:, 1].max(), pts)\n",
    "X1, X2 = np.meshgrid(x1,x2)\n",
    "\n",
    "obs = np.array([X1.ravel(), X2.ravel()]).T\n",
    "y_pred = classifier.predict(obs)\n",
    "plt.contourf(X1, X2, y_pred.reshape(X1.shape), alpha = 0.20, cmap = color_map)\n",
    "y_prob = classifier.predict_proba(obs)[:,0]\n",
    "plt.contour(X1, X2, y_prob.reshape(X1.shape), levels=[0.5], colors='m',linewidths=2)\n",
    "for i, value in enumerate(np.unique(y_train)):\n",
    "    plt.scatter(X_train[y_train == value, 0], X_train[y_train == value, 1],\n",
    "                c = np.array(color_map(i)).reshape(1,4), label = value)\n",
    "    \n",
    "plt.xlim(X1.min(), X1.max())\n",
    "plt.ylim(X2.min(), X2.max())\n",
    "plt.title('Naive Bayes (Training set)')\n",
    "plt.xlabel(dataset.columns[features[0]])\n",
    "plt.ylabel(dataset.columns[features[1]])\n",
    "plt.legend()\n",
    "plt.show()"
   ]
  },
  {
   "cell_type": "code",
   "execution_count": 10,
   "metadata": {},
   "outputs": [
    {
     "data": {
      "image/png": "[encoded data removed]",
      "text/plain": [
       "<Figure size 432x288 with 1 Axes>"
      ]
     },
     "metadata": {
      "needs_background": "light"
     },
     "output_type": "display_data"
    }
   ],
   "source": [
    "# Visualising the test set results\n",
    "color_map = ListedColormap(('red', 'green', 'blue'))\n",
    "pts = 200\n",
    "x1 = np.linspace(X[:, 0].min(),X[:, 0].max(),pts)\n",
    "x2 = np.linspace(X[:, 1].min(),X[:, 1].max(), pts)\n",
    "X1, X2 = np.meshgrid(x1,x2)\n",
    "\n",
    "obs = np.array([X1.ravel(), X2.ravel()]).T\n",
    "y_pred = classifier.predict(obs)\n",
    "plt.contourf(X1, X2, y_pred.reshape(X1.shape), alpha = 0.20, cmap = color_map)\n",
    "y_prob = classifier.predict_proba(obs)[:,0]\n",
    "plt.contour(X1, X2, y_prob.reshape(X1.shape), levels=[0.5], colors='m',linewidths=2)\n",
    "for i, value in enumerate(np.unique(y_train)):\n",
    "    plt.scatter(X_test[y_test == value, 0], X_test[y_test == value, 1],\n",
    "                c = np.array(color_map(i)).reshape(1,4), label = value)\n",
    "    \n",
    "plt.xlim(X1.min(), X1.max())\n",
    "plt.ylim(X2.min(), X2.max())\n",
    "plt.title('Naive Bayes (Training set)')\n",
    "plt.xlabel(dataset.columns[features[0]])\n",
    "plt.ylabel(dataset.columns[features[1]])\n",
    "plt.legend()\n",
    "plt.show()"
   ]
  },
  {
   "cell_type": "code",
   "execution_count": 11,
   "metadata": {},
   "outputs": [
    {
     "data": {
      "text/plain": [
       "array([[0, 19, 19000],\n",
       "       [0, 35, 20000],\n",
       "       [1, 26, 43000],\n",
       "       ...,\n",
       "       [1, 50, 20000],\n",
       "       [0, 36, 33000],\n",
       "       [1, 49, 36000]], dtype=object)"
      ]
     },
     "execution_count": 11,
     "metadata": {},
     "output_type": "execute_result"
    }
   ],
   "source": [
    "# Creates X with all features now\n",
    "X = dataset.iloc[:, 1:4].values\n",
    "is_male = (X[:,0] == 'Male')\n",
    "X[is_male,0] = 0 \n",
    "X[~is_male,0] = 1 \n",
    "y = dataset.iloc[:, 4].values\n",
    "X"
   ]
  },
  {
   "cell_type": "code",
   "execution_count": 12,
   "metadata": {},
   "outputs": [
    {
     "data": {
      "text/plain": [
       "GaussianNB(priors=None, var_smoothing=1e-09)"
      ]
     },
     "execution_count": 12,
     "metadata": {},
     "output_type": "execute_result"
    }
   ],
   "source": [
    "X_train, X_test, y_train, y_test = train_test_split(X, y, test_size = 0.25)\n",
    "classifier = GaussianNB()\n",
    "classifier.fit(X_train, y_train)"
   ]
  },
  {
   "cell_type": "code",
   "execution_count": 13,
   "metadata": {},
   "outputs": [
    {
     "name": "stdout",
     "output_type": "stream",
     "text": [
      "Number of males: 196\n",
      "Number of women: 204\n",
      "Mean of distribution (Gaussian) for gender feature:  0.49\n"
     ]
    }
   ],
   "source": [
    "# The gender feature here is not contributing much\n",
    "print('Number of males:', is_male.sum())\n",
    "print('Number of women:', (~is_male).sum())\n",
    "print('Mean of distribution (Gaussian) for gender feature: ', '%.2lf' % classifier.theta_[0,0])"
   ]
  },
  {
   "cell_type": "code",
   "execution_count": 14,
   "metadata": {},
   "outputs": [
    {
     "name": "stdout",
     "output_type": "stream",
     "text": [
      "[[66  3]\n",
      " [ 4 27]]\n",
      "0.93\n"
     ]
    }
   ],
   "source": [
    "# Predicting the test set results\n",
    "y_pred = classifier.predict(X_test)\n",
    "# Making the Confusion Matrix\n",
    "cm = confusion_matrix(y_test, y_pred)\n",
    "print(cm)\n",
    "print(accuracy_score(y_test,y_pred))"
   ]
  },
  {
   "cell_type": "code",
   "execution_count": 15,
   "metadata": {},
   "outputs": [
    {
     "name": "stdout",
     "output_type": "stream",
     "text": [
      "[[173  15]\n",
      " [ 22  90]]\n",
      "0.8766666666666667\n"
     ]
    }
   ],
   "source": [
    "# Predicting the test set results\n",
    "y_pred = classifier.predict(X_train)\n",
    "# Making the Confusion Matrix\n",
    "cm = confusion_matrix(y_train, y_pred)\n",
    "print(cm)\n",
    "print(accuracy_score(y_train,y_pred))"
   ]
  }
 ],
 "metadata": {
  "kernelspec": {
   "display_name": "Python 3",
   "language": "python",
   "name": "python3"
  },
  "language_info": {
   "codemirror_mode": {
    "name": "ipython",
    "version": 3
   },
   "file_extension": ".py",
   "mimetype": "text/x-python",
   "name": "python",
   "nbconvert_exporter": "python",
   "pygments_lexer": "ipython3",
   "version": "3.7.6"
  }
 },
 "nbformat": 4,
 "nbformat_minor": 2
}
