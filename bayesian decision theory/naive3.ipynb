{
 "cells": [
  {
   "cell_type": "markdown",
   "metadata": {},
   "source": [
    "###  Created by Luis A. Sanchez-Perez (alejand@umich.edu)"
   ]
  },
  {
   "cell_type": "code",
   "execution_count": null,
   "metadata": {},
   "outputs": [],
   "source": [
    "import numpy as np\n",
    "import matplotlib.pyplot as plt\n",
    "from matplotlib.colors import ListedColormap\n",
    "from sklearn import datasets\n",
    "from sklearn.model_selection import train_test_split\n",
    "from sklearn.naive_bayes import GaussianNB\n",
    "from sklearn.metrics import confusion_matrix\n",
    "from sklearn.metrics import accuracy_score"
   ]
  },
  {
   "cell_type": "code",
   "execution_count": null,
   "metadata": {},
   "outputs": [],
   "source": [
    "# Load dataset\n",
    "dataset = datasets.load_breast_cancer()\n",
    "print(dataset.feature_names, end=\"\\n\")\n",
    "print(dataset.target_names)"
   ]
  },
  {
   "cell_type": "code",
   "execution_count": null,
   "metadata": {},
   "outputs": [],
   "source": [
    "# Select only two features to work with\n",
    "features = [2,10]\n",
    "X = dataset.data[:,features]\n",
    "y = dataset.target"
   ]
  },
  {
   "cell_type": "code",
   "execution_count": null,
   "metadata": {},
   "outputs": [],
   "source": [
    "# Splitting\n",
    "X_train, X_test, y_train, y_test = train_test_split(X,y)"
   ]
  },
  {
   "cell_type": "code",
   "execution_count": null,
   "metadata": {},
   "outputs": [],
   "source": [
    "# Fitting Naive Bayes\n",
    "classifier = GaussianNB()\n",
    "classifier.fit(X_train,y_train)\n",
    "print(classifier.sigma_,end=\"\\n\")\n",
    "print(classifier.theta_)"
   ]
  },
  {
   "cell_type": "code",
   "execution_count": null,
   "metadata": {},
   "outputs": [],
   "source": [
    "# Predicting the training set results\n",
    "y_pred = classifier.predict(X_train)\n",
    "cm = confusion_matrix(y_train, y_pred)\n",
    "print(cm)\n",
    "print(accuracy_score(y_train,y_pred))"
   ]
  },
  {
   "cell_type": "code",
   "execution_count": null,
   "metadata": {},
   "outputs": [],
   "source": [
    "# Predicting the test set results\n",
    "y_pred = classifier.predict(X_test)\n",
    "cm = confusion_matrix(y_test, y_pred)\n",
    "print(cm)\n",
    "print(accuracy_score(y_test,y_pred))"
   ]
  },
  {
   "cell_type": "code",
   "execution_count": null,
   "metadata": {},
   "outputs": [],
   "source": [
    "# Visualising the training set results\n",
    "color_map = ListedColormap(('red', 'green', 'blue'))\n",
    "pts = 200\n",
    "x1 = np.linspace(X[:, 0].min(),X[:, 0].max(),pts)\n",
    "x2 = np.linspace(X[:, 1].min(),X[:, 1].max(), pts)\n",
    "X1, X2 = np.meshgrid(x1,x2)\n",
    "\n",
    "obs = np.array([X1.ravel(), X2.ravel()]).T\n",
    "y_pred = classifier.predict(obs)\n",
    "plt.contourf(X1, X2, y_pred.reshape(X1.shape), alpha = 0.20, cmap = color_map)\n",
    "y_prob = classifier.predict_proba(obs)[:,0]\n",
    "plt.contour(X1, X2, y_prob.reshape(X1.shape), levels=[0.5], colors='m',linewidths=2)\n",
    "y_prob = classifier.predict_proba(obs)[:,1]\n",
    "plt.contour(X1, X2, y_prob.reshape(X1.shape), levels=[0.5], colors='m',linewidths=2)\n",
    "for i, value in enumerate(np.unique(y_train)):\n",
    "    plt.scatter(X_train[y_train == value, 0], X_train[y_train == value, 1],\n",
    "                c = np.array(color_map(i)).reshape(1,4), label = dataset.target_names[value])\n",
    "    \n",
    "plt.xlim(X1.min(), X1.max())\n",
    "plt.ylim(X2.min(), X2.max())\n",
    "plt.title('Naive Bayes (Training set)')\n",
    "plt.xlabel(dataset.feature_names[features[0]])\n",
    "plt.ylabel(dataset.feature_names[features[1]])\n",
    "plt.legend()\n",
    "plt.show()"
   ]
  },
  {
   "cell_type": "code",
   "execution_count": null,
   "metadata": {},
   "outputs": [],
   "source": [
    "np.array(color_map(i)).reshape(1,4)"
   ]
  },
  {
   "cell_type": "code",
   "execution_count": null,
   "metadata": {},
   "outputs": [],
   "source": [
    "# Visualising the test set results\n",
    "color_map = ListedColormap(('red', 'green', 'blue'))\n",
    "pts = 200\n",
    "x1 = np.linspace(X[:, 0].min(),X[:, 0].max(),pts)\n",
    "x2 = np.linspace(X[:, 1].min(),X[:, 1].max(), pts)\n",
    "X1, X2 = np.meshgrid(x1,x2)\n",
    "\n",
    "obs = np.array([X1.ravel(), X2.ravel()]).T\n",
    "y_pred = classifier.predict(obs)\n",
    "plt.contourf(X1, X2, y_pred.reshape(X1.shape), alpha = 0.20, cmap = color_map)\n",
    "y_prob = classifier.predict_proba(obs)[:,0]\n",
    "plt.contour(X1, X2, y_prob.reshape(X1.shape), levels=[0.5], colors='m',linewidths=2)\n",
    "y_prob = classifier.predict_proba(obs)[:,1]\n",
    "plt.contour(X1, X2, y_prob.reshape(X1.shape), levels=[0.5], colors='m',linewidths=2)\n",
    "for i, value in enumerate(np.unique(y_train)):\n",
    "    plt.scatter(X_test[y_test == value, 0], X_test[y_test == value, 1],\n",
    "                c = np.array(color_map(i)).reshape(1,4), label = dataset.target_names[value])\n",
    "\n",
    "plt.xlim(X1.min(), X1.max())\n",
    "plt.ylim(X2.min(), X2.max())\n",
    "plt.title('Naive Bayes (Test set)')\n",
    "plt.xlabel(dataset.feature_names[features[0]])\n",
    "plt.ylabel(dataset.feature_names[features[1]])\n",
    "plt.legend()\n",
    "plt.show()"
   ]
  },
  {
   "cell_type": "code",
   "execution_count": null,
   "metadata": {},
   "outputs": [],
   "source": []
  }
 ],
 "metadata": {
  "kernelspec": {
   "display_name": "Python 3",
   "language": "python",
   "name": "python3"
  },
  "language_info": {
   "codemirror_mode": {
    "name": "ipython",
    "version": 3
   },
   "file_extension": ".py",
   "mimetype": "text/x-python",
   "name": "python",
   "nbconvert_exporter": "python",
   "pygments_lexer": "ipython3",
   "version": "3.7.5"
  }
 },
 "nbformat": 4,
 "nbformat_minor": 2
}
